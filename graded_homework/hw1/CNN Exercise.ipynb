{
  "cells": [
    {
      "cell_type": "markdown",
      "metadata": {
        "id": "Gb03R-oINjO0"
      },
      "source": [
        "## Convolutional Networks\n",
        "\n",
        "We'll check out how to build a **convolutional network** to classify CIFAR10 images. By using weight sharing - multiple units with the same weights - convolutional layers are able to learn repeated patterns in your data. For example, a unit could learn the pattern for an eye, or a face, or lower level features like edges.\n"
      ]
    },
    {
      "cell_type": "code",
      "execution_count": null,
      "metadata": {
        "colab": {
          "base_uri": "https://localhost:8080/"
        },
        "id": "e8ZKW4STOlyI",
        "outputId": "48419b45-dd4f-4779-f06c-f9be96888824"
      },
      "outputs": [
        {
          "name": "stdout",
          "output_type": "stream",
          "text": [
            "Mounted at /content/drive\n"
          ]
        }
      ],
      "source": [
        "from google.colab import drive\n",
        "drive.mount('/content/drive')"
      ]
    },
    {
      "cell_type": "code",
      "execution_count": null,
      "metadata": {
        "id": "H0c3K5CGNjO6"
      },
      "outputs": [],
      "source": [
        "import numpy as np\n",
        "import time\n",
        "\n",
        "import torch\n",
        "from torch import nn\n",
        "from torch import optim\n",
        "import torch.nn.functional as F\n",
        "import torch.utils.data as utils\n",
        "from torchvision import datasets, transforms\n",
        "from torch.utils.data.sampler import SubsetRandomSampler\n",
        "import matplotlib.pyplot as plt\n",
        "import torchvision.utils as vutils\n",
        "from torchvision.datasets import CIFAR10\n",
        "\n",
        "%matplotlib inline"
      ]
    },
    {
      "cell_type": "code",
      "execution_count": null,
      "metadata": {
        "id": "kpSL2MzAOWnk"
      },
      "outputs": [],
      "source": [
        "label_names = [\n",
        "    'airplane',\n",
        "    'automobile',\n",
        "    'bird',\n",
        "    'cat',\n",
        "    'deer',\n",
        "    'dog',\n",
        "    'frog',\n",
        "    'horse',\n",
        "    'ship',\n",
        "    'truck'\n",
        "]\n",
        "\n",
        "\n",
        "def plot_images(images, cls_true, cls_pred=None):\n",
        "    \"\"\"\n",
        "    Adapted from https://github.com/Hvass-Labs/TensorFlow-Tutorials/\n",
        "    \"\"\"\n",
        "    fig, axes = plt.subplots(3, 3)\n",
        "\n",
        "    for i, ax in enumerate(axes.flat):\n",
        "        # plot img\n",
        "        ax.imshow(images[i, :, :, :], interpolation='spline16')\n",
        "\n",
        "        # show true & predicted classes\n",
        "        cls_true_name = label_names[cls_true[i]]\n",
        "        if cls_pred is None:\n",
        "            xlabel = \"{0} ({1})\".format(cls_true_name, cls_true[i])\n",
        "        else:\n",
        "            cls_pred_name = label_names[cls_pred[i]]\n",
        "            xlabel = \"True: {0}\\nPred: {1}\".format(\n",
        "                cls_true_name, cls_pred_name\n",
        "            )\n",
        "        ax.set_xlabel(xlabel)\n",
        "        ax.set_xticks([])\n",
        "        ax.set_yticks([])\n",
        "\n",
        "    plt.show()"
      ]
    },
    {
      "cell_type": "code",
      "execution_count": null,
      "metadata": {
        "id": "kYaAPNTtNjO8"
      },
      "outputs": [],
      "source": [
        "def get_train_valid_loader(data_dir='data',\n",
        "                           batch_size=64,\n",
        "                           augment=False,\n",
        "                           random_seed=1,\n",
        "                           valid_size=0.02,\n",
        "                           shuffle=True,\n",
        "                           show_sample=True,\n",
        "                           num_workers=4,\n",
        "                           pin_memory=False):\n",
        "    \"\"\"\n",
        "    Utility function for loading and returning train and valid\n",
        "    multi-process iterators over the CIFAR-10 dataset. A sample\n",
        "    9x9 grid of the images can be optionally displayed.\n",
        "    If using CUDA, num_workers should be set to 1 and pin_memory to True.\n",
        "    Params\n",
        "    ------\n",
        "    - data_dir: path directory to the dataset.\n",
        "    - batch_size: how many samples per batch to load.\n",
        "    - augment: whether to apply the data augmentation scheme\n",
        "      mentioned in the paper. Only applied on the train split.\n",
        "    - random_seed: fix seed for reproducibility.\n",
        "    - valid_size: percentage split of the training set used for\n",
        "      the validation set. Should be a float in the range [0, 1].\n",
        "    - shuffle: whether to shuffle the train/validation indices.\n",
        "    - show_sample: plot 9x9 sample grid of the dataset.\n",
        "    - num_workers: number of subprocesses to use when loading the dataset.\n",
        "    - pin_memory: whether to copy tensors into CUDA pinned memory. Set it to\n",
        "      True if using GPU.\n",
        "    Returns\n",
        "    -------\n",
        "    - train_loader: training set iterator.\n",
        "    - valid_loader: validation set iterator.\n",
        "    \"\"\"\n",
        "    error_msg = \"[!] valid_size should be in the range [0, 1].\"\n",
        "    assert ((valid_size >= 0) and (valid_size <= 1)), error_msg\n",
        "\n",
        "    normalize = transforms.Normalize(\n",
        "        mean=[0.4914, 0.4822, 0.4465],\n",
        "        std=[0.2023, 0.1994, 0.2010],\n",
        "    )\n",
        "\n",
        "    # define transforms for validation (no augmentation)\n",
        "    valid_transform = transforms.Compose([\n",
        "        transforms.ToTensor(),\n",
        "        normalize,\n",
        "    ])\n",
        "\n",
        "    # Define the transform for training (and data augmentation)\n",
        "\n",
        "    train_transform = transforms.Compose([\n",
        "        transforms.ToTensor(),\n",
        "        normalize,\n",
        "    ])\n",
        "\n",
        "    # load the dataset\n",
        "    train_dataset = datasets.CIFAR10(\n",
        "        root=data_dir, train=True,\n",
        "        download=True, transform=train_transform,\n",
        "    )\n",
        "\n",
        "    valid_dataset = datasets.CIFAR10(\n",
        "        root=data_dir, train=True,\n",
        "        download=True, transform=valid_transform,\n",
        "    )\n",
        "\n",
        "    num_train = len(train_dataset)\n",
        "    indices = list(range(num_train))\n",
        "    split = int(np.floor(valid_size * num_train))\n",
        "\n",
        "    if shuffle:\n",
        "        np.random.seed(random_seed)\n",
        "        np.random.shuffle(indices)\n",
        "\n",
        "    train_idx, valid_idx = indices[split:], indices[:split]\n",
        "    train_sampler = SubsetRandomSampler(train_idx)\n",
        "    valid_sampler = SubsetRandomSampler(valid_idx)\n",
        "\n",
        "    train_loader = torch.utils.data.DataLoader(\n",
        "        train_dataset, batch_size=batch_size, sampler=train_sampler,\n",
        "        num_workers=num_workers, pin_memory=pin_memory,\n",
        "    )\n",
        "    valid_loader = torch.utils.data.DataLoader(\n",
        "        valid_dataset, batch_size=batch_size, sampler=valid_sampler,\n",
        "        num_workers=num_workers, pin_memory=pin_memory,\n",
        "    )\n",
        "\n",
        "    # visualize some images if requested\n",
        "    if show_sample:\n",
        "        sample_loader = torch.utils.data.DataLoader(\n",
        "            train_dataset, batch_size=9, shuffle=shuffle,\n",
        "            num_workers=num_workers, pin_memory=pin_memory,\n",
        "        )\n",
        "        data_iter = iter(sample_loader)\n",
        "        images, labels = next(data_iter)\n",
        "        # Unnormalize the images for display\n",
        "        mean = [0.4914, 0.4822, 0.4465]\n",
        "        std = [0.2023, 0.1994, 0.2010]\n",
        "        unnorm_images = [unnormalize(img, mean, std) for img in images]\n",
        "        X = torch.stack(unnorm_images).numpy().transpose([0, 2, 3, 1])\n",
        "        plot_images(X, labels)\n",
        "\n",
        "    return (train_loader, valid_loader)\n",
        "\n",
        "def unnormalize(img, mean, std):\n",
        "    img = img * torch.tensor(std).view(3, 1, 1) + torch.tensor(mean).view(3, 1, 1)\n",
        "    return img\n",
        "\n",
        "trainloader, valloader = get_train_valid_loader()"
      ]
    },
    {
      "cell_type": "markdown",
      "metadata": {
        "id": "XS6Ltq_q-3iy"
      },
      "source": [
        "# Convolutional Neural Network Architecture"
      ]
    },
    {
      "cell_type": "markdown",
      "metadata": {
        "id": "aPwwCufO_KF8"
      },
      "source": [
        "Please first review the CNN lecture and problem statement pdf to understand the overall architecture of a CNN and how each dimension evolves after each layer, we'll take as example the first and famous CNN LeNet5 :\n",
        "<figure align=\"center\">\n",
        "  <img src=\"https://doimages.nyc3.cdn.digitaloceanspaces.com/010AI-ML/content/images/2021/10/image-17.png\" alt=\"LeNet5 Architecture\" width=\"600\">\n",
        "  <figcaption>Image credit: <a href=\"https://en.wikipedia.org\">Wikipedia</a></figcaption>\n",
        "</figure>"
      ]
    },
    {
      "cell_type": "markdown",
      "source": [
        "# **Theory - Part 1 (20%)**\n",
        "\n",
        "Please answer the following questions to assess your understanding of what happens during the training and inference of a CNN.\n",
        "\n",
        "If you find any of these questions challenging or have any doubts, feel free to ask a TA for guidance or hints on the solution."
      ],
      "metadata": {
        "id": "DO2hC0pKzAkv"
      }
    },
    {
      "cell_type": "markdown",
      "metadata": {
        "id": "m8pg9nejC028"
      },
      "source": [
        "## 1. First Layer Convolution\n",
        "\n",
        "If we consider the input of LeNet5 to be CIFAR-10, what would be the shape of the parameters of the first convolutional layer (stride = 1)?\n",
        "\n",
        "- **A.** `torch.Size([6, 1, 5, 5])`\n",
        "- **B.** `torch.Size([6, 3, 3, 3])`\n",
        "- **C.** `torch.Size([6, 1, 5, 5])`\n",
        "- **D.** `torch.Size([6, 3, 5, 5])`"
      ]
    },
    {
      "cell_type": "markdown",
      "source": [
        "## Ans1:"
      ],
      "metadata": {
        "id": "6MFaGuo9zzbg"
      }
    },
    {
      "cell_type": "markdown",
      "source": [
        "## 2. Subsampling Window\n",
        "\n",
        "What is the shape of the subsampling window (stride = 2) for the second layer (between C1 and C2), and does this shape remain invariant regardless of the subsampling method (e.g., Avg pooling or Max pooling)?\n",
        "\n",
        "- **A.** `2x2, yes it does`\n",
        "- **B.** `3x3, no it doesn't`\n",
        "- **C.** `2x2, no it doesn't`\n",
        "- **D.** `yes, it does`\n"
      ],
      "metadata": {
        "id": "9pKJSc2fzz0w"
      }
    },
    {
      "cell_type": "markdown",
      "source": [
        "## Ans2:"
      ],
      "metadata": {
        "id": "gPRpW2Xqz-Kx"
      }
    },
    {
      "cell_type": "markdown",
      "source": [
        "## 3. Backpropagation for Convolutional Filters\n",
        "\n",
        "Do the filters in the convolutional layers also benefit from backpropagation?"
      ],
      "metadata": {
        "id": "wL5E3xloz_-r"
      }
    },
    {
      "cell_type": "markdown",
      "source": [
        "## Ans3:"
      ],
      "metadata": {
        "id": "UCNLHA0M0Cwr"
      }
    },
    {
      "cell_type": "markdown",
      "source": [
        "## 4. Role of the Fully-Connected Layer\n",
        "\n",
        "Explain in your own words why it is necessary to have a fully-connected layer in the architecture.\n"
      ],
      "metadata": {
        "id": "LyP8RvVf0Ef5"
      }
    },
    {
      "cell_type": "code",
      "source": [],
      "metadata": {
        "id": "HsLwuWAx0h1k"
      },
      "execution_count": null,
      "outputs": []
    },
    {
      "cell_type": "markdown",
      "source": [
        "## Ans4:"
      ],
      "metadata": {
        "id": "1zqwj9gI0H8Q"
      }
    },
    {
      "cell_type": "markdown",
      "metadata": {
        "id": "v4kKxpgDCH-6"
      },
      "source": [
        "# **Coding(60%)**\n",
        "\n",
        "## Build your own Convolutional Neural Network Architecture"
      ]
    },
    {
      "cell_type": "markdown",
      "metadata": {
        "id": "Gp4EuamFO_TR"
      },
      "source": [
        "## Different ways to improve the accuracy of your network :\n",
        "- Change the number of convolutions and layers (you can take inspiration from internet as you as you cite the architecture)\n",
        "- Change the optmizer / its hyperparameters\n",
        "- Add new types of layers\n",
        "- Do some data augmentation in the get_train_valid_loader function (flipped, cropped, uncentered images) cf. https://pytorch.org/vision/stable/transforms.html\n"
      ]
    },
    {
      "cell_type": "code",
      "execution_count": null,
      "metadata": {
        "id": "H1zuJ67-NjO_",
        "colab": {
          "base_uri": "https://localhost:8080/",
          "height": 216
        },
        "outputId": "5192187e-ed67-44c5-df22-20e68edffdb9"
      },
      "outputs": [
        {
          "output_type": "error",
          "ename": "NameError",
          "evalue": "name 'nn' is not defined",
          "traceback": [
            "\u001b[0;31m---------------------------------------------------------------------------\u001b[0m",
            "\u001b[0;31mNameError\u001b[0m                                 Traceback (most recent call last)",
            "\u001b[0;32m<ipython-input-1-3a05af91d4ae>\u001b[0m in \u001b[0;36m<cell line: 0>\u001b[0;34m()\u001b[0m\n\u001b[0;32m----> 1\u001b[0;31m \u001b[0;32mclass\u001b[0m \u001b[0mConvNet\u001b[0m\u001b[0;34m(\u001b[0m\u001b[0mnn\u001b[0m\u001b[0;34m.\u001b[0m\u001b[0mModule\u001b[0m\u001b[0;34m)\u001b[0m\u001b[0;34m:\u001b[0m\u001b[0;34m\u001b[0m\u001b[0;34m\u001b[0m\u001b[0m\n\u001b[0m\u001b[1;32m      2\u001b[0m     \u001b[0;32mdef\u001b[0m \u001b[0m__init__\u001b[0m\u001b[0;34m(\u001b[0m\u001b[0mself\u001b[0m\u001b[0;34m,\u001b[0m \u001b[0mn_input_channels\u001b[0m\u001b[0;34m=\u001b[0m\u001b[0;36m3\u001b[0m\u001b[0;34m,\u001b[0m \u001b[0mn_output\u001b[0m\u001b[0;34m=\u001b[0m\u001b[0;36m10\u001b[0m\u001b[0;34m)\u001b[0m\u001b[0;34m:\u001b[0m\u001b[0;34m\u001b[0m\u001b[0;34m\u001b[0m\u001b[0m\n\u001b[1;32m      3\u001b[0m         \u001b[0msuper\u001b[0m\u001b[0;34m(\u001b[0m\u001b[0;34m)\u001b[0m\u001b[0;34m.\u001b[0m\u001b[0m__init__\u001b[0m\u001b[0;34m(\u001b[0m\u001b[0;34m)\u001b[0m\u001b[0;34m\u001b[0m\u001b[0;34m\u001b[0m\u001b[0m\n\u001b[1;32m      4\u001b[0m         \u001b[0;31m################################################################################\u001b[0m\u001b[0;34m\u001b[0m\u001b[0;34m\u001b[0m\u001b[0m\n\u001b[1;32m      5\u001b[0m         \u001b[0;31m# TODO:                                                                        #\u001b[0m\u001b[0;34m\u001b[0m\u001b[0;34m\u001b[0m\u001b[0m\n",
            "\u001b[0;31mNameError\u001b[0m: name 'nn' is not defined"
          ]
        }
      ],
      "source": [
        "class ConvNet(nn.Module):\n",
        "    def __init__(self, n_input_channels=3, n_output=10):\n",
        "        super().__init__()\n",
        "        ################################################################################\n",
        "        # TODO:                                                                        #\n",
        "        # Define 2 or more different layers of the neural network                      #\n",
        "        ################################################################################\n",
        "        pass\n",
        "        ################################################################################\n",
        "        #                              END OF YOUR CODE                                #\n",
        "        ################################################################################\n",
        "\n",
        "    def forward(self, x):\n",
        "        ################################################################################\n",
        "        # TODO:                                                                        #\n",
        "        # Set up the forward pass that the input data will go through.                 #\n",
        "        # A good activation function betweent the layers is a ReLu function.           #\n",
        "        #                                                                              #\n",
        "        # Note that the output of the last convolution layer should be flattened       #\n",
        "        # before being inputted to the fully connected layer. We can flatten           #\n",
        "        # Tensor `x` with `x.view`.                                                    #\n",
        "        ################################################################################\n",
        "        pass\n",
        "        ################################################################################\n",
        "        #                              END OF YOUR CODE                                #\n",
        "        ################################################################################\n",
        "\n",
        "        return x\n",
        "\n",
        "    def predict(self, x):\n",
        "        logits = self.forward(x)\n",
        "        return F.softmax(logits)"
      ]
    },
    {
      "cell_type": "code",
      "execution_count": null,
      "metadata": {
        "id": "AI6ajoIZNjPA"
      },
      "outputs": [],
      "source": [
        "net = ConvNet()\n",
        "################################################################################\n",
        "# TODO:                                                                        #\n",
        "# Choose an Optimizer that will be used to minimize the loss function.         #\n",
        "# Choose a critera that measures the loss                                      #\n",
        "################################################################################\n",
        "criterion = ..............\n",
        "optimizer = ..............\n",
        "\n",
        "epochs = 1\n",
        "steps = 0\n",
        "running_loss = 0\n",
        "print_every = 20\n",
        "for e in range(epochs):\n",
        "    start = time.time()\n",
        "    for images, labels in iter(trainloader):\n",
        "\n",
        "        steps += 1\n",
        "        ################################################################################\n",
        "        # TODO:                                                                        #\n",
        "        # Run the training process                                                     #\n",
        "        #                                                                              #\n",
        "        #                                                                              #\n",
        "        ################################################################################\n",
        "        pass\n",
        "        ################################################################################\n",
        "        #                              END OF YOUR CODE                                #\n",
        "        ################################################################################\n",
        "\n",
        "        loss = criterion(output, targets)\n",
        "        ################################################################################\n",
        "        # TODO:                                                                        #\n",
        "        # Run the training process                                                     #\n",
        "        #                                                                              #\n",
        "        # HINT: Calculate the gradient and move one step further                       #\n",
        "        ################################################################################\n",
        "        pass\n",
        "        ################################################################################\n",
        "        #                              END OF YOUR CODE                                #\n",
        "        ################################################################################\n",
        "\n",
        "        running_loss += loss.item()\n",
        "\n",
        "        if steps % print_every == 0:\n",
        "            stop = time.time()\n",
        "            # Test accuracy\n",
        "            accuracy = 0\n",
        "            for ii, (images, labels) in enumerate(valloader):\n",
        "\n",
        "                ################################################################################\n",
        "                # TODO:                                                                        #\n",
        "                # Calculate the accuracy                                                       #\n",
        "                ################################################################################\n",
        "                pass\n",
        "                ################################################################################\n",
        "                #                              END OF YOUR CODE                                #\n",
        "                ################################################################################\n",
        "\n",
        "            print(\"Epoch: {}/{}..\".format(e+1, epochs),\n",
        "                  \"Loss: {:.4f}..\".format(running_loss/print_every),\n",
        "                  \"Test accuracy: {:.4f}..\".format(accuracy/(ii+1)),\n",
        "                  \"{:.4f} s/batch\".format((stop - start)/print_every)\n",
        "                 )\n",
        "            running_loss = 0\n",
        "            start = time.time()"
      ]
    },
    {
      "cell_type": "markdown",
      "metadata": {
        "id": "zUqGBbcpNjPB"
      },
      "source": [
        "Save best trained model."
      ]
    },
    {
      "cell_type": "code",
      "execution_count": null,
      "metadata": {
        "id": "5BKFS7ALNjPB"
      },
      "outputs": [],
      "source": [
        "## You should be familiar with how to save a pytorch model (Make sure to save the model in your Drive)\n"
      ]
    },
    {
      "cell_type": "markdown",
      "metadata": {
        "id": "i-IQ-Jo1Nnci"
      },
      "source": [
        "# Some visualisations and Interpretation questions\n",
        "This code allows us to look at the filters of the first layer of convolution :"
      ]
    },
    {
      "cell_type": "code",
      "execution_count": null,
      "metadata": {
        "id": "DhYcLYjYNpUU"
      },
      "outputs": [],
      "source": [
        "def visualize_filters(layer, title='Filters'):\n",
        "    filters = layer.weight.data.clone().cpu()\n",
        "    filters = (filters - filters.min()) / (filters.max() - filters.min())\n",
        "    grid = vutils.make_grid(filters, nrow=8, padding=2)\n",
        "    plt.figure(figsize=(8,8))\n",
        "    plt.imshow(grid.permute(1, 2, 0))\n",
        "    plt.title(title)\n",
        "    plt.axis('off')\n",
        "    plt.show()\n",
        "\n",
        "model = BetterCNN() # Untrained model\n",
        "\n",
        "fig, axes = plt.subplots(1, 2, figsize=(16, 8))\n",
        "\n",
        "# --- Untrained filters ---\n",
        "filters_untrained = model.features[0].weight.data.clone().cpu()\n",
        "filters_untrained = (filters_untrained - filters_untrained.min()) / (filters_untrained.max() - filters_untrained.min())\n",
        "grid_untrained = vutils.make_grid(filters_untrained, nrow=8, padding=2)\n",
        "axes[0].imshow(grid_untrained.permute(1, 2, 0))\n",
        "axes[0].set_title(\"Block 1 - First Conv Filters (Untrained)\")\n",
        "axes[0].axis(\"off\")\n",
        "\n",
        "# --- Trained filters ---\n",
        "filters_trained = net.features[0].weight.data.clone().cpu()\n",
        "filters_trained = (filters_trained - filters_trained.min()) / (filters_trained.max() - filters_trained.min())\n",
        "grid_trained = vutils.make_grid(filters_trained, nrow=8, padding=2)\n",
        "axes[1].imshow(grid_trained.permute(1, 2, 0))\n",
        "axes[1].set_title(\"Block 1 - First Conv Filters (Trained)\")\n",
        "axes[1].axis(\"off\")\n",
        "\n",
        "plt.tight_layout()\n",
        "plt.show()"
      ]
    },
    {
      "cell_type": "markdown",
      "metadata": {
        "id": "CBII3l8xbSPx"
      },
      "source": [
        "#### What do you notice about the filters after the training ? Try to fin an interpretation about it.\n"
      ]
    },
    {
      "cell_type": "markdown",
      "metadata": {
        "id": "_joZbhnFisF2"
      },
      "source": [
        "### Activation maps\n",
        "This code snippet uses a forward hook to capture the output of the first convolutional layer of a CNN when a sample image is passed through it. The resulting activation maps show how each filter in the layer responds to different regions or features in the image."
      ]
    },
    {
      "cell_type": "code",
      "execution_count": null,
      "metadata": {
        "id": "nbAs7NHbizMs"
      },
      "outputs": [],
      "source": [
        "def get_activation(model, layer, x):\n",
        "    activation = {}\n",
        "    def hook_fn(module, input, output):\n",
        "        activation['output'] = output.detach().cpu()\n",
        "    hook = layer.register_forward_hook(hook_fn)\n",
        "    model(x)\n",
        "    hook.remove()\n",
        "    return activation['output']\n",
        "\n",
        "data_iter = iter(trainloader)\n",
        "sample_images, sample_labels = next(data_iter)\n",
        "sample_img = sample_images[0].unsqueeze(0)\n",
        "\n",
        "# Get the feature maps after the first convolution (for example)\n",
        "activation = get_activation(net, net.features[0], sample_img)\n",
        "\n",
        "# Visualize a few feature maps in RGB:\n",
        "def plot_feature_maps(feature_maps, n_cols=8):\n",
        "    n_features = feature_maps.shape[1]\n",
        "    n_rows = (n_features + n_cols - 1) // n_cols\n",
        "    plt.figure(figsize=(n_cols * 1.5, n_rows * 1.5))\n",
        "    for i in range(n_features):\n",
        "        plt.subplot(n_rows, n_cols, i + 1)\n",
        "        # Extract the i-th feature map from the first (and only) sample in the batch\n",
        "        act = feature_maps[0, i, :, :]\n",
        "        # Normalize the activation map to [0, 1]\n",
        "        act_norm = (act - act.min()) / (act.max() - act.min() + 1e-8)\n",
        "        # Repeat the single channel 3 times to form an RGB image\n",
        "        act_rgb = act_norm.unsqueeze(0).repeat(3, 1, 1)\n",
        "        plt.imshow(act_rgb.permute(1, 2, 0))\n",
        "        plt.axis('off')\n",
        "    plt.tight_layout()\n",
        "    plt.show()\n",
        "\n",
        "plot_feature_maps(activation, n_cols=8)\n",
        "\n",
        "# Play with the index of the chosen sample to notice more patterns and answer the question\n"
      ]
    },
    {
      "cell_type": "markdown",
      "metadata": {
        "id": "uvveQmrGiLUi"
      },
      "source": [
        "# **Theory - Part 2 (20%)**\n",
        "\n",
        "Please answer the following questions based on your experience/observation during the training and inference of a CNN.\n",
        "\n",
        "If you find any of these questions challenging or have any doubts, feel free to ask a TA for guidance or hints on the solution.\n"
      ]
    },
    {
      "cell_type": "markdown",
      "source": [
        "## 5. Feature Detection\n",
        "What specific features do you observe in these activation maps? Do some maps clearly highlight edges, contours, or textures? How might these features relate to the overall structure of the sample (e.g., the outline of a horse)?"
      ],
      "metadata": {
        "id": "wiMVQ3np1dlX"
      }
    },
    {
      "cell_type": "markdown",
      "source": [
        "## Ans5:"
      ],
      "metadata": {
        "id": "KulkfRIb1fP9"
      }
    },
    {
      "cell_type": "markdown",
      "source": [
        "## 6. Effect of Training\n",
        "Consider how the activations might change after training versus an untrained (random) network. What does this tell you about the learning process?"
      ],
      "metadata": {
        "id": "Ku4AfGqb1lSS"
      }
    },
    {
      "cell_type": "markdown",
      "source": [
        "## Ans6:"
      ],
      "metadata": {
        "id": "U8YX8ORS1nzq"
      }
    }
  ],
  "metadata": {
    "accelerator": "GPU",
    "colab": {
      "gpuType": "T4",
      "provenance": []
    },
    "kernelspec": {
      "display_name": ".venv",
      "language": "python",
      "name": "python3"
    },
    "language_info": {
      "codemirror_mode": {
        "name": "ipython",
        "version": 3
      },
      "file_extension": ".py",
      "mimetype": "text/x-python",
      "name": "python",
      "nbconvert_exporter": "python",
      "pygments_lexer": "ipython3",
      "version": "3.13.2"
    }
  },
  "nbformat": 4,
  "nbformat_minor": 0
}
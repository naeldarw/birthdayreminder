{
  "cells": [
    {
      "cell_type": "markdown",
      "metadata": {
        "id": "5u08wg5j72Te"
      },
      "source": [
        "# Intro to Python: Exercise 2\n",
        "\n",
        "## Pairwise Distances in the Plane\n",
        "\n",
        "One application of machine learning to computer vision is interest point tracking. The location of corners in an image is tracked along subsequent frames of a video signal. In this context, one is often interested in the pairwise distance of all points in the first frame to all points in the second frame. Matching points according to minimal distance is a simple heuristic that works well if many interest points are found in both frames and perturbations are small.\n",
        "Write a function that accepts two matrices P ∈ R<sup>p×2</sup>,Q ∈ R<sup>q×2</sup> as input, where each row contains the (x,y) coordinates of an interest point. Note that the number of points (p and q) do not have to be equal. As output, compute the pairwise distances of all points in P to all points in Q and collect them in matrix D. Element D<sub>i,j</sub> is the Euclidean distance of the i-th point in P to the j-th point in Q."
      ]
    },
    {
      "cell_type": "code",
      "execution_count": 1,
      "metadata": {
        "id": "fd5xp4ab72Tg"
      },
      "outputs": [],
      "source": [
        "%matplotlib inline\n",
        "import numpy as np\n",
        "import matplotlib.pyplot as plt\n",
        "%load_ext autoreload\n",
        "%autoreload 2"
      ]
    },
    {
      "cell_type": "markdown",
      "metadata": {
        "id": "G-TVMvz472Tg"
      },
      "source": [
        "Data Generation\n",
        "==="
      ]
    },
    {
      "cell_type": "code",
      "execution_count": 2,
      "metadata": {
        "id": "g9_BVZw672Tg",
        "outputId": "60978ea8-095e-4391-f9d1-73eaa281dfb8",
        "colab": {
          "base_uri": "https://localhost:8080/"
        }
      },
      "outputs": [
        {
          "output_type": "stream",
          "name": "stdout",
          "text": [
            "[[0.77132064 0.02075195]\n",
            " [0.63364823 0.74880388]\n",
            " [0.49850701 0.22479665]\n",
            " [0.19806286 0.76053071]] \n",
            "\n",
            " [[0.16911084 0.08833981]\n",
            " [0.68535982 0.95339335]\n",
            " [0.00394827 0.51219226]\n",
            " [0.81262096 0.61252607]\n",
            " [0.72175532 0.29187607]]\n"
          ]
        }
      ],
      "source": [
        "np.random.seed(10)\n",
        "p, q = (np.random.rand(i, 2) for i in (4, 5))\n",
        "p_big, q_big = (np.random.rand(i, 80) for i in (100, 120))\n",
        "\n",
        "print(p, \"\\n\\n\", q)"
      ]
    },
    {
      "cell_type": "markdown",
      "metadata": {
        "id": "0MG16Ha372Tg"
      },
      "source": [
        "*Solution*\n",
        "==="
      ]
    },
    {
      "cell_type": "code",
      "execution_count": 3,
      "metadata": {
        "collapsed": true,
        "id": "wpciUhdJ72Tg"
      },
      "outputs": [],
      "source": [
        "def naive(p, q):\n",
        "  (p_0, q_0) = (p.shape[0], q.shape[0])\n",
        "  d = np.array((p_0, q_0))\n",
        "  for i in range(p_0):\n",
        "    for j in range(q_0):\n",
        "      d[i, j] = np.sqrt((p[i, 0] - q[j, 0]) ** 2 + (p[i, 1] - q[i, 1]) ** 2)\n",
        "\n"
      ]
    },
    {
      "cell_type": "markdown",
      "metadata": {
        "id": "3-mlNRME72Th"
      },
      "source": [
        "### Use matching indices\n",
        "\n",
        "Instead of iterating through indices, one can use them directly to parallelize the operations with Numpy."
      ]
    },
    {
      "cell_type": "code",
      "execution_count": 6,
      "metadata": {
        "id": "HpbLwe_D72Th",
        "outputId": "b4faa927-7653-4df8-fdef-116016de910a",
        "colab": {
          "base_uri": "https://localhost:8080/"
        }
      },
      "outputs": [
        {
          "output_type": "stream",
          "name": "stdout",
          "text": [
            "[[0 0 0 0 0]\n",
            " [1 1 1 1 1]\n",
            " [2 2 2 2 2]\n",
            " [3 3 3 3 3]]\n",
            "\n",
            "[[0 1 2 3 4]\n",
            " [0 1 2 3 4]\n",
            " [0 1 2 3 4]\n",
            " [0 1 2 3 4]]\n"
          ]
        }
      ],
      "source": [
        "rows, cols = np.indices((p.shape[0], q.shape[0]))\n",
        "print(rows, end='\\n\\n')\n",
        "print(cols)"
      ]
    },
    {
      "cell_type": "code",
      "execution_count": null,
      "metadata": {
        "id": "ho8Ctgmh72Th"
      },
      "outputs": [],
      "source": [
        "print(p[rows.ravel()], end='\\n\\n')\n",
        "print(q[cols.ravel()])"
      ]
    },
    {
      "cell_type": "code",
      "execution_count": null,
      "metadata": {
        "collapsed": true,
        "id": "fzF7IaJ572Th"
      },
      "outputs": [],
      "source": [
        "def with_indices(p, q):\n",
        "    ''' fill your code in here...\n",
        "    '''"
      ]
    },
    {
      "cell_type": "markdown",
      "metadata": {
        "id": "5o_C50KW72Th"
      },
      "source": [
        "### Use a library\n",
        "\n",
        "`scipy` is the equivalent of matlab toolboxes and have a lot to offer. Actually the pairwise computation is part of the library through the `spatial` module."
      ]
    },
    {
      "cell_type": "code",
      "execution_count": null,
      "metadata": {
        "id": "zsiels6_72Th"
      },
      "outputs": [],
      "source": [
        "from scipy.spatial.distance import cdist\n",
        "\n",
        "def scipy_version(p, q):\n",
        "    return cdist(p, q)"
      ]
    },
    {
      "cell_type": "markdown",
      "metadata": {
        "id": "C_M32a8B72Th"
      },
      "source": [
        "### Numpy Magic"
      ]
    },
    {
      "cell_type": "code",
      "execution_count": null,
      "metadata": {
        "id": "VG5P8szy72Ti"
      },
      "outputs": [],
      "source": [
        "def tensor_broadcasting(p, q):\n",
        "    return np.sqrt(np.sum((p[:,np.newaxis,:]-q[np.newaxis,:,:])**2, axis=2))"
      ]
    },
    {
      "cell_type": "markdown",
      "metadata": {
        "id": "3Y824ZHu72Ti"
      },
      "source": [
        "# Compare methods"
      ]
    },
    {
      "cell_type": "code",
      "execution_count": null,
      "metadata": {
        "id": "FqIg5wqe72Ti"
      },
      "outputs": [],
      "source": [
        "methods = [naive, with_indices, scipy_version, tensor_broadcasting]\n",
        "timers = []\n",
        "for f in methods:\n",
        "    r = %timeit -o f(p_big, q_big)\n",
        "    timers.append(r)"
      ]
    },
    {
      "cell_type": "code",
      "execution_count": null,
      "metadata": {
        "id": "7k-Y1CCa72Ti"
      },
      "outputs": [],
      "source": [
        "plt.figure(figsize=(10,6))\n",
        "plt.bar(np.arange(len(methods)), [r.best*1000 for r in timers], log=False)  # Set log to True for logarithmic scale\n",
        "plt.xticks(np.arange(len(methods))+0.2, [f.__name__ for f in methods], rotation=30)\n",
        "plt.xlabel('Method')\n",
        "plt.ylabel('Time (ms)')\n",
        "plt.show()"
      ]
    },
    {
      "cell_type": "code",
      "execution_count": null,
      "metadata": {
        "collapsed": true,
        "id": "9md4HLLH72Ti"
      },
      "outputs": [],
      "source": []
    }
  ],
  "metadata": {
    "kernelspec": {
      "display_name": "Python 3",
      "language": "python",
      "name": "python3"
    },
    "language_info": {
      "codemirror_mode": {
        "name": "ipython",
        "version": 3
      },
      "file_extension": ".py",
      "mimetype": "text/x-python",
      "name": "python",
      "nbconvert_exporter": "python",
      "pygments_lexer": "ipython3",
      "version": "3.6.4"
    },
    "colab": {
      "provenance": []
    }
  },
  "nbformat": 4,
  "nbformat_minor": 0
}
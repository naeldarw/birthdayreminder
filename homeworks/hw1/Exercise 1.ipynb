{
  "cells": [
    {
      "cell_type": "markdown",
      "metadata": {
        "id": "asgndDZXbktx"
      },
      "source": [
        "# Intro to Python: Exercise 1\n",
        "\n",
        "## Matrix Standardization\n",
        "\n",
        "The different dimensions or features of a data sample often show different variances. For some subsequent operations, it is a beneficial preprocessing step to standardize the data, i.e. subtract the mean and divide by the standard deviation for each dimension. After this processing, each dimension has zero mean and unit variance. Note that this is not equivalent to data whitening, which additionally de-correlates the dimensions (by means of a coordinate rotation).\n",
        "Write a function that accepts data matrix x ∈ R<sup>n×d</sup> as input and outputs the same data after normalization. n is the number of samples, and d the number of dimensions, i.e. rows contain samples and columns features."
      ]
    },
    {
      "cell_type": "code",
      "execution_count": 1,
      "metadata": {
        "collapsed": true,
        "id": "4b2yq8aKbkty"
      },
      "outputs": [],
      "source": [
        "%matplotlib inline\n",
        "import numpy as np\n",
        "import matplotlib.pyplot as plt\n",
        "%load_ext autoreload\n",
        "%autoreload 2"
      ]
    },
    {
      "cell_type": "code",
      "source": [
        "print(\"edit TEST\")"
      ],
      "metadata": {
        "id": "dJd2NkUAcL-a",
        "outputId": "84201c7e-ca85-4bcd-c181-a8d271151604",
        "colab": {
          "base_uri": "https://localhost:8080/"
        }
      },
      "execution_count": null,
      "outputs": [
        {
          "output_type": "stream",
          "name": "stdout",
          "text": [
            "edit TEST\n"
          ]
        }
      ]
    },
    {
      "cell_type": "markdown",
      "metadata": {
        "id": "3V9s_I_gbktz"
      },
      "source": [
        "Data Generation\n",
        "==="
      ]
    },
    {
      "cell_type": "code",
      "execution_count": null,
      "metadata": {
        "collapsed": true,
        "id": "PXD1v4tFbktz"
      },
      "outputs": [],
      "source": [
        "num_samples, num_features = 10, 5"
      ]
    },
    {
      "cell_type": "code",
      "execution_count": null,
      "metadata": {
        "collapsed": true,
        "id": "r0WK9KqObktz"
      },
      "outputs": [],
      "source": [
        "np.random.seed(10)\n",
        "data = np.random.rand(num_samples, num_features)"
      ]
    },
    {
      "cell_type": "markdown",
      "metadata": {
        "id": "YkhGQ_ozbktz"
      },
      "source": [
        "Solution\n",
        "==="
      ]
    },
    {
      "cell_type": "code",
      "execution_count": null,
      "metadata": {
        "scrolled": false,
        "id": "MnK48wYRbktz"
      },
      "outputs": [],
      "source": [
        "print(data)"
      ]
    },
    {
      "cell_type": "code",
      "execution_count": null,
      "metadata": {
        "collapsed": true,
        "id": "iIcIJJh6bktz"
      },
      "outputs": [],
      "source": [
        "def standardize(x):\n",
        "    ''' fill your code in here...\n",
        "    '''\n",
        "    return x\n",
        "\n",
        "std_data = standardize(data)"
      ]
    },
    {
      "cell_type": "code",
      "execution_count": null,
      "metadata": {
        "id": "IH3aaWtibktz"
      },
      "outputs": [],
      "source": [
        "print(std_data, \"\\n\\n\", np.mean(std_data, axis=0), \"\\n\\n\", np.std(std_data, axis=0))"
      ]
    }
  ],
  "metadata": {
    "kernelspec": {
      "display_name": "Python 3",
      "language": "python",
      "name": "python3"
    },
    "language_info": {
      "codemirror_mode": {
        "name": "ipython",
        "version": 3
      },
      "file_extension": ".py",
      "mimetype": "text/x-python",
      "name": "python",
      "nbconvert_exporter": "python",
      "pygments_lexer": "ipython3",
      "version": "3.6.4"
    },
    "colab": {
      "provenance": []
    }
  },
  "nbformat": 4,
  "nbformat_minor": 0
}
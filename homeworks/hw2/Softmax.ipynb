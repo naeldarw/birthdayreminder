{
  "cells": [
    {
      "cell_type": "markdown",
      "metadata": {
        "id": "xJrRJLBS7DWn"
      },
      "source": [
        "# Softmax exercise\n",
        "\n",
        "We will implement a softmax classifier that is trained on the CIFAR10 dataset. The output is a model that is able to classify the input image into the 10 different classes of the CIFAR10 dataset.\n",
        "\n",
        "Complete and hand in this completed worksheet (including its outputs and any supporting code outside of the worksheet) with your assignment submission.\n",
        "\n",
        "You will:\n",
        "\n",
        "- implement a fully-vectorized **loss function** for the Softmax classifier\n",
        "- implement the fully-vectorized expression for its **analytic gradient**\n",
        "- use a validation set to **tune the learning rate** strength\n",
        "- **optimize** the loss function with **SGD**\n",
        "- **visualize** the final learned weights\n"
      ]
    },
    {
      "cell_type": "code",
      "execution_count": 2,
      "metadata": {
        "id": "KQ8b6HtX7DWs"
      },
      "outputs": [],
      "source": [
        "import random\n",
        "import numpy as np\n",
        "import matplotlib.pyplot as plt\n",
        "import time\n",
        "import pickle\n",
        "from random import shuffle\n",
        "\n",
        "from six.moves import cPickle as pickle\n",
        "import numpy as np\n",
        "import os\n",
        "from imageio import imread\n",
        "import platform\n",
        "from torchvision import datasets\n",
        "\n",
        "\n",
        "%matplotlib inline\n",
        "plt.rcParams['figure.figsize'] = (10.0, 8.0) # set default size of plots\n",
        "plt.rcParams['image.interpolation'] = 'nearest'\n",
        "plt.rcParams['image.cmap'] = 'gray'\n",
        "\n",
        "# for auto-reloading extenrnal modules\n",
        "# see http://stackoverflow.com/questions/1907993/autoreload-of-modules-in-ipython\n",
        "%load_ext autoreload\n",
        "%autoreload 2"
      ]
    },
    {
      "cell_type": "code",
      "source": [
        "from google.colab import drive\n",
        "drive.mount('/content/drive')"
      ],
      "metadata": {
        "id": "rb1FNWrPvqVB",
        "colab": {
          "base_uri": "https://localhost:8080/"
        },
        "outputId": "855dfa22-4c03-42c0-9c0b-74f54afb3f0c"
      },
      "execution_count": 3,
      "outputs": [
        {
          "output_type": "stream",
          "name": "stdout",
          "text": [
            "Drive already mounted at /content/drive; to attempt to forcibly remount, call drive.mount(\"/content/drive\", force_remount=True).\n"
          ]
        }
      ]
    },
    {
      "cell_type": "markdown",
      "source": [
        "Load the dataset"
      ],
      "metadata": {
        "id": "pmv_iR7VumNQ"
      }
    },
    {
      "cell_type": "code",
      "source": [
        "def load_pickle(f):\n",
        "    version = platform.python_version_tuple()\n",
        "    if version[0] == '2':\n",
        "        return  pickle.load(f)\n",
        "    elif version[0] == '3':\n",
        "        return  pickle.load(f, encoding='latin1')\n",
        "    raise ValueError(\"invalid python version: {}\".format(version))\n",
        "\n",
        "def load_CIFAR_batch(filename):\n",
        "  \"\"\" load single batch of cifar \"\"\"\n",
        "  with open(filename, 'rb') as f:\n",
        "    datadict = load_pickle(f)\n",
        "    X = datadict['data']\n",
        "    Y = datadict['labels']\n",
        "    X = X.reshape(10000, 3, 32, 32).transpose(0,2,3,1).astype(\"float\")\n",
        "    Y = np.array(Y)\n",
        "    return X, Y\n",
        "\n",
        "def load_CIFAR10(ROOT):\n",
        "  \"\"\" load all of cifar \"\"\"\n",
        "  xs = []\n",
        "  ys = []\n",
        "  datasets.CIFAR10(\n",
        "        root=\"data/\", train=True,\n",
        "        download=True, transform=None,\n",
        "    )\n",
        "  for b in range(1,6):\n",
        "    f = os.path.join(ROOT, 'data_batch_%d' % (b, ))\n",
        "    X, Y = load_CIFAR_batch(f)\n",
        "    xs.append(X)\n",
        "    ys.append(Y)\n",
        "  Xtr = np.concatenate(xs)\n",
        "  Ytr = np.concatenate(ys)\n",
        "  del X, Y\n",
        "  return Xtr, Ytr\n",
        "\n",
        "\n",
        "def get_CIFAR10_data(num_training=49000, num_validation=1000, num_test=1000):\n",
        "    \"\"\"\n",
        "    Load the CIFAR-10 dataset from disk and perform preprocessing to prepare\n",
        "    it for the linear classifier.\n",
        "    \"\"\"\n",
        "    # Load the raw CIFAR-10 data\n",
        "    cifar10_dir = 'data/cifar-10-batches-py'\n",
        "    X_train, y_train = load_CIFAR10(cifar10_dir)\n",
        "\n",
        "    # subsample the data\n",
        "    mask = list(range(num_training, num_training + num_validation))\n",
        "    X_val = X_train[mask]\n",
        "    y_val = y_train[mask]\n",
        "    mask = list(range(num_training))\n",
        "    X_train = X_train[mask]\n",
        "    y_train = y_train[mask]\n",
        "\n",
        "    # Normalize the data: subtract the mean image and divide by variance\n",
        "    mean = np.array([0.4914, 0.4822, 0.4465])\n",
        "    std = np.array([0.2023, 0.1994, 0.2010])\n",
        "    X_train = np.divide(np.subtract( X_train/255 , mean[np.newaxis,np.newaxis,:]), std[np.newaxis,np.newaxis,:])\n",
        "    X_val = np.divide(np.subtract( X_val/255 , mean[np.newaxis,np.newaxis,:]), std[np.newaxis,np.newaxis,:])\n",
        "\n",
        "    # Preprocessing: reshape the image data into rows\n",
        "    X_train = np.reshape(X_train, (X_train.shape[0], -1))\n",
        "    X_val = np.reshape(X_val, (X_val.shape[0], -1))\n",
        "\n",
        "    # add bias dimension and transform into columns\n",
        "    X_train = np.hstack([X_train, np.ones((X_train.shape[0], 1))])\n",
        "    X_val = np.hstack([X_val, np.ones((X_val.shape[0], 1))])\n",
        "\n",
        "    return X_train, y_train, X_val, y_val\n",
        "\n",
        "\n",
        "# Invoke the above function to get our data.\n",
        "X_train, y_train, X_val, y_val = get_CIFAR10_data()\n",
        "print('Train data shape: ', X_train.shape)\n",
        "print('Train labels shape: ', y_train.shape)\n",
        "print('Validation data shape: ', X_val.shape)\n",
        "print('Validation labels shape: ', y_val.shape)"
      ],
      "metadata": {
        "id": "vW0orz8Z7O0e",
        "colab": {
          "base_uri": "https://localhost:8080/"
        },
        "outputId": "32c22faa-d54e-4d36-b738-1346929972f8"
      },
      "execution_count": 4,
      "outputs": [
        {
          "output_type": "stream",
          "name": "stdout",
          "text": [
            "Files already downloaded and verified\n",
            "Train data shape:  (49000, 3073)\n",
            "Train labels shape:  (49000,)\n",
            "Validation data shape:  (1000, 3073)\n",
            "Validation labels shape:  (1000,)\n"
          ]
        }
      ]
    },
    {
      "cell_type": "markdown",
      "metadata": {
        "id": "vWxBSsLD7DWv"
      },
      "source": [
        "## Softmax Classifier\n",
        "\n",
        "Here, you implement **softmax_loss_vectorized**. This function just returns the loss and gradient after applying the softmax function.\n"
      ]
    },
    {
      "cell_type": "code",
      "source": [
        "def softmax_loss_vectorized(W, X, y):\n",
        "    \"\"\"\n",
        "    Softmax loss function, vectorized version.\n",
        "\n",
        "    Inputs have dimension D, there are C classes, and we operate on minibatches\n",
        "    of N examples.\n",
        "\n",
        "    Inputs:\n",
        "    - W: A numpy array of shape (D, C) containing weights.\n",
        "    - X: A numpy array of shape (N, D) containing a minibatch of data.\n",
        "    - y: A numpy array of shape (N,) containing training labels; y[i] = c means\n",
        "    that X[i] has label c, where 0 <= c < C.\n",
        "\n",
        "    Returns a tuple of:\n",
        "    - loss as single float\n",
        "    - gradient with respect to weights W; an array of same shape as W\n",
        "    \"\"\"\n",
        "    # Initialize the loss and gradient to zero.\n",
        "    loss = 0.0\n",
        "    dW = np.zeros_like(W)\n",
        "\n",
        "    #############################################################################\n",
        "    # TODO: Compute the softmax loss and its gradient using no explicit loops.  #\n",
        "    # Store the loss in loss and the gradient in dW. If you are not careful     #\n",
        "    # here, it is easy to run into numeric instability.                         #\n",
        "    #############################################################################\n",
        "    y_pred = X @ W\n",
        "    y_pred -= np.max(y_pred, axis=1, keepdims=True)\n",
        "    y_pred = np.exp(y_pred)\n",
        "    y_pred /= np.sum(y_pred, axis=1, keepdims=True)\n",
        "    loss = -np.sum(np.log(y_pred[range(X.shape[0]), y]))\n",
        "    loss /= X.shape[0]\n",
        "    y_pred[range(X.shape[0]), y] -= 1\n",
        "    dW = X.T @ y_pred\n",
        "    dW /= X.shape[0]\n",
        "    #############################################################################\n",
        "    #                          END OF YOUR CODE                                 #\n",
        "    #############################################################################\n",
        "\n",
        "    return loss, dW"
      ],
      "metadata": {
        "id": "aFed4lnK7yfC"
      },
      "execution_count": 5,
      "outputs": []
    },
    {
      "cell_type": "markdown",
      "source": [
        "## This is the Softmax Linear Classifier.\n",
        "### Implement SGD in the train function.\n",
        "### Write the predict function to evaluate the performance on both the training and validation set\n",
        "### Do not touch the loss function. You already defined it above."
      ],
      "metadata": {
        "id": "DtMJHoylvbEx"
      }
    },
    {
      "cell_type": "code",
      "source": [
        "class LinearClassifier(object):\n",
        "\n",
        "    def __init__(self):\n",
        "        self.W = None\n",
        "\n",
        "    def train(self, X, y, learning_rate=1e-3, num_iters=100,\n",
        "            batch_size=200, verbose=False):\n",
        "        \"\"\"\n",
        "        Train this linear classifier using stochastic gradient descent.\n",
        "\n",
        "        Inputs:\n",
        "        - X: A numpy array of shape (N, D) containing training data; there are N\n",
        "            training samples each of dimension D.\n",
        "        - y: A numpy array of shape (N,) containing training labels; y[i] = c\n",
        "            means that X[i] has label 0 <= c < C for C classes.\n",
        "        - learning_rate: (float) learning rate for optimization.\n",
        "        - num_iters: (integer) number of steps to take when optimizing\n",
        "        - batch_size: (integer) number of training examples to use at each step.\n",
        "        - verbose: (boolean) If true, print progress during optimization.\n",
        "\n",
        "        Outputs:\n",
        "        A list containing the value of the loss function at each training iteration.\n",
        "        \"\"\"\n",
        "        num_train, dim = X.shape\n",
        "        num_classes = np.max(y) + 1 # assume y takes values 0...K-1 where K is number of classes\n",
        "        if self.W is None:\n",
        "            # lazily initialize W\n",
        "            self.W = 0.001 * np.random.randn(dim, num_classes)\n",
        "\n",
        "        # Run stochastic gradient descent to optimize W\n",
        "        loss_history = []\n",
        "        for it in range(num_iters):\n",
        "            #########################################################################\n",
        "            # TODO:                                                                 #\n",
        "            # Sample batch_size elements from the training data and their           #\n",
        "            # corresponding labels to use in this round of gradient descent.        #\n",
        "            # Store the data in X_batch and their corresponding labels in           #\n",
        "            # y_batch; after sampling X_batch should have shape (dim, batch_size) --> (batch_size, dim) instead ??   #\n",
        "            # and y_batch should have shape (batch_size,)                           #\n",
        "            #                                                                       #\n",
        "            # Hint: Use np.random.choice to generate indices. Sampling with         #\n",
        "            # replacement is faster than sampling without replacement.              #\n",
        "            #########################################################################\n",
        "            indices = np.random.choice(num_train, batch_size)\n",
        "            X_batch = X[indices]\n",
        "            y_batch = y[indices]\n",
        "            #########################################################################\n",
        "            #                       END OF YOUR CODE                                #\n",
        "            #########################################################################\n",
        "\n",
        "            # evaluate loss and gradient\n",
        "            loss, grad = self.loss(X_batch, y_batch)\n",
        "            loss_history.append(loss)\n",
        "\n",
        "            # perform parameter update\n",
        "            #########################################################################\n",
        "            # TODO:                                                                 #\n",
        "            # Update the weights using the gradient and the learning rate.          #\n",
        "            #########################################################################\n",
        "            self.W -= learning_rate * grad\n",
        "            #########################################################################\n",
        "            #                       END OF YOUR CODE                                #\n",
        "            #########################################################################\n",
        "\n",
        "            if verbose and it % 100 == 0:\n",
        "                print('iteration %d / %d: loss %f' % (it, num_iters, loss))\n",
        "\n",
        "        return loss_history\n",
        "\n",
        "    def predict(self, X):\n",
        "        \"\"\"\n",
        "        Use the trained weights of this linear classifier to predict labels for\n",
        "        data points.\n",
        "\n",
        "        Inputs:\n",
        "        - X: A numpy array of shape (N, D) containing training data; there are N\n",
        "        training samples each of dimension D.\n",
        "\n",
        "        Returns:\n",
        "        - y_pred: Predicted labels for the data in X. y_pred is a 1-dimensional\n",
        "        array of length N, and each element is an integer giving the predicted\n",
        "        class.\n",
        "        \"\"\"\n",
        "        y_pred = np.zeros(X.shape[0])\n",
        "        ###########################################################################\n",
        "        # TODO:                                                                   #\n",
        "        # Implement this method. Store the predicted labels in y_pred.            #\n",
        "        ###########################################################################\n",
        "        y_pred = np.argmax(X @ self.W, axis=1)\n",
        "        ###########################################################################\n",
        "        #                           END OF YOUR CODE                              #\n",
        "        ###########################################################################\n",
        "        return y_pred\n",
        "\n",
        "    def loss(self, X_batch, y_batch):\n",
        "        \"\"\"\n",
        "        Compute the loss function and its derivative.\n",
        "        Subclasses will override this.\n",
        "\n",
        "        Inputs:\n",
        "        - X_batch: A numpy array of shape (N, D) containing a minibatch of N\n",
        "            data points; each point has dimension D.\n",
        "        - y_batch: A numpy array of shape (N,) containing labels for the minibatch.\n",
        "\n",
        "        Returns: A tuple containing:\n",
        "        - loss as a single float\n",
        "        - gradient with respect to self.W; an array of the same shape as W\n",
        "        \"\"\"\n",
        "        pass\n"
      ],
      "metadata": {
        "id": "nuhecHcsvJU7"
      },
      "execution_count": 6,
      "outputs": []
    },
    {
      "cell_type": "markdown",
      "source": [
        "Finally, the softmax class is inherited from LinearClassifier and uses the softmax_loss_vectorized function as its loss:"
      ],
      "metadata": {
        "id": "Dzy_rjabwTUY"
      }
    },
    {
      "cell_type": "code",
      "source": [
        "class Softmax(LinearClassifier):\n",
        "    \"\"\" A subclass that uses the Softmax + Cross-entropy loss function \"\"\"\n",
        "\n",
        "    def loss(self, X_batch, y_batch):\n",
        "        return softmax_loss_vectorized(self.W, X_batch, y_batch)"
      ],
      "metadata": {
        "id": "GTqa5eihvOvz"
      },
      "execution_count": 7,
      "outputs": []
    },
    {
      "cell_type": "code",
      "execution_count": 8,
      "metadata": {
        "id": "BomGJP517DWv",
        "colab": {
          "base_uri": "https://localhost:8080/"
        },
        "outputId": "ee9f6653-b05d-4649-c385-a199e788dd4d"
      },
      "outputs": [
        {
          "output_type": "stream",
          "name": "stdout",
          "text": [
            "vectorized loss: 2.302752e+00 computed in 0.048592s\n"
          ]
        }
      ],
      "source": [
        "W = np.random.randn(3073, 10) * 0.0001\n",
        "tic = time.time()\n",
        "loss_vectorized, grad_vectorized = softmax_loss_vectorized(W, X_val, y_val)\n",
        "toc = time.time()\n",
        "print('vectorized loss: %e computed in %fs' % (loss_vectorized, toc - tic))"
      ]
    },
    {
      "cell_type": "code",
      "source": [
        "print(np.linspace(1e-7, 5e-4, num=10))"
      ],
      "metadata": {
        "id": "MMFUHjZAEHWa",
        "outputId": "2fa7c398-c37f-4192-ad97-1266daaaec4d",
        "colab": {
          "base_uri": "https://localhost:8080/"
        }
      },
      "execution_count": 9,
      "outputs": [
        {
          "output_type": "stream",
          "name": "stdout",
          "text": [
            "[1.00000000e-07 5.56444444e-05 1.11188889e-04 1.66733333e-04\n",
            " 2.22277778e-04 2.77822222e-04 3.33366667e-04 3.88911111e-04\n",
            " 4.44455556e-04 5.00000000e-04]\n"
          ]
        }
      ]
    },
    {
      "cell_type": "code",
      "execution_count": 13,
      "metadata": {
        "id": "H6Pzyyf47DWw",
        "colab": {
          "base_uri": "https://localhost:8080/"
        },
        "outputId": "0430dea2-6859-4129-d985-54970c9e5708"
      },
      "outputs": [
        {
          "output_type": "stream",
          "name": "stdout",
          "text": [
            "lr: 0.0005, val_accuracy: 0.325\n",
            "lr: 0.0005918367346938776, val_accuracy: 0.341\n",
            "lr: 0.0006836734693877551, val_accuracy: 0.335\n",
            "lr: 0.0007755102040816328, val_accuracy: 0.35\n",
            "lr: 0.0008673469387755102, val_accuracy: 0.333\n",
            "lr: 0.0009591836734693879, val_accuracy: 0.349\n",
            "lr: 0.0010510204081632655, val_accuracy: 0.345\n",
            "lr: 0.001142857142857143, val_accuracy: 0.359\n",
            "lr: 0.0012346938775510204, val_accuracy: 0.358\n",
            "lr: 0.001326530612244898, val_accuracy: 0.365\n",
            "lr: 0.0014183673469387757, val_accuracy: 0.372\n",
            "lr: 0.0015102040816326531, val_accuracy: 0.365\n",
            "lr: 0.0016020408163265308, val_accuracy: 0.365\n",
            "lr: 0.0016938775510204082, val_accuracy: 0.362\n",
            "lr: 0.0017857142857142859, val_accuracy: 0.37\n",
            "lr: 0.0018775510204081633, val_accuracy: 0.362\n",
            "lr: 0.001969387755102041, val_accuracy: 0.381\n",
            "lr: 0.0020612244897959186, val_accuracy: 0.369\n",
            "lr: 0.002153061224489796, val_accuracy: 0.371\n",
            "lr: 0.0022448979591836735, val_accuracy: 0.373\n",
            "lr: 0.002336734693877551, val_accuracy: 0.376\n",
            "lr: 0.002428571428571429, val_accuracy: 0.375\n",
            "lr: 0.0025204081632653062, val_accuracy: 0.375\n",
            "lr: 0.0026122448979591837, val_accuracy: 0.377\n",
            "lr: 0.0027040816326530616, val_accuracy: 0.372\n",
            "lr: 0.002795918367346939, val_accuracy: 0.375\n",
            "lr: 0.0028877551020408164, val_accuracy: 0.378\n",
            "lr: 0.0029795918367346943, val_accuracy: 0.371\n",
            "lr: 0.0030714285714285717, val_accuracy: 0.388\n",
            "lr: 0.003163265306122449, val_accuracy: 0.369\n",
            "lr: 0.0032551020408163266, val_accuracy: 0.379\n",
            "lr: 0.0033469387755102045, val_accuracy: 0.365\n",
            "lr: 0.003438775510204082, val_accuracy: 0.389\n",
            "lr: 0.0035306122448979594, val_accuracy: 0.384\n",
            "lr: 0.0036224489795918372, val_accuracy: 0.381\n",
            "lr: 0.0037142857142857147, val_accuracy: 0.373\n",
            "lr: 0.003806122448979592, val_accuracy: 0.365\n",
            "lr: 0.0038979591836734695, val_accuracy: 0.38\n",
            "lr: 0.003989795918367347, val_accuracy: 0.382\n",
            "lr: 0.004081632653061225, val_accuracy: 0.376\n",
            "lr: 0.004173469387755102, val_accuracy: 0.365\n",
            "lr: 0.00426530612244898, val_accuracy: 0.379\n",
            "lr: 0.004357142857142858, val_accuracy: 0.377\n",
            "lr: 0.004448979591836735, val_accuracy: 0.381\n",
            "lr: 0.004540816326530613, val_accuracy: 0.375\n",
            "lr: 0.0046326530612244895, val_accuracy: 0.37\n",
            "lr: 0.004724489795918368, val_accuracy: 0.377\n",
            "lr: 0.004816326530612246, val_accuracy: 0.371\n",
            "lr: 0.004908163265306123, val_accuracy: 0.376\n",
            "lr: 0.005, val_accuracy: 0.396\n",
            "lr 5.000000e-04 train accuracy: 0.321490 val accuracy: 0.325000\n",
            "lr 5.918367e-04 train accuracy: 0.327265 val accuracy: 0.341000\n",
            "lr 6.836735e-04 train accuracy: 0.326286 val accuracy: 0.335000\n",
            "lr 7.755102e-04 train accuracy: 0.340000 val accuracy: 0.350000\n",
            "lr 8.673469e-04 train accuracy: 0.338592 val accuracy: 0.333000\n",
            "lr 9.591837e-04 train accuracy: 0.340327 val accuracy: 0.349000\n",
            "lr 1.051020e-03 train accuracy: 0.341102 val accuracy: 0.345000\n",
            "lr 1.142857e-03 train accuracy: 0.349735 val accuracy: 0.359000\n",
            "lr 1.234694e-03 train accuracy: 0.351796 val accuracy: 0.358000\n",
            "lr 1.326531e-03 train accuracy: 0.348306 val accuracy: 0.365000\n",
            "lr 1.418367e-03 train accuracy: 0.357592 val accuracy: 0.372000\n",
            "lr 1.510204e-03 train accuracy: 0.355571 val accuracy: 0.365000\n",
            "lr 1.602041e-03 train accuracy: 0.356837 val accuracy: 0.365000\n",
            "lr 1.693878e-03 train accuracy: 0.355939 val accuracy: 0.362000\n",
            "lr 1.785714e-03 train accuracy: 0.355204 val accuracy: 0.370000\n",
            "lr 1.877551e-03 train accuracy: 0.353122 val accuracy: 0.362000\n",
            "lr 1.969388e-03 train accuracy: 0.358551 val accuracy: 0.381000\n",
            "lr 2.061224e-03 train accuracy: 0.358041 val accuracy: 0.369000\n",
            "lr 2.153061e-03 train accuracy: 0.365327 val accuracy: 0.371000\n",
            "lr 2.244898e-03 train accuracy: 0.368388 val accuracy: 0.373000\n",
            "lr 2.336735e-03 train accuracy: 0.368367 val accuracy: 0.376000\n",
            "lr 2.428571e-03 train accuracy: 0.371020 val accuracy: 0.375000\n",
            "lr 2.520408e-03 train accuracy: 0.369082 val accuracy: 0.375000\n",
            "lr 2.612245e-03 train accuracy: 0.365367 val accuracy: 0.377000\n",
            "lr 2.704082e-03 train accuracy: 0.363816 val accuracy: 0.372000\n",
            "lr 2.795918e-03 train accuracy: 0.361347 val accuracy: 0.375000\n",
            "lr 2.887755e-03 train accuracy: 0.362245 val accuracy: 0.378000\n",
            "lr 2.979592e-03 train accuracy: 0.371367 val accuracy: 0.371000\n",
            "lr 3.071429e-03 train accuracy: 0.371224 val accuracy: 0.388000\n",
            "lr 3.163265e-03 train accuracy: 0.371204 val accuracy: 0.369000\n",
            "lr 3.255102e-03 train accuracy: 0.369612 val accuracy: 0.379000\n",
            "lr 3.346939e-03 train accuracy: 0.373980 val accuracy: 0.365000\n",
            "lr 3.438776e-03 train accuracy: 0.375020 val accuracy: 0.389000\n",
            "lr 3.530612e-03 train accuracy: 0.367347 val accuracy: 0.384000\n",
            "lr 3.622449e-03 train accuracy: 0.364143 val accuracy: 0.381000\n",
            "lr 3.714286e-03 train accuracy: 0.372388 val accuracy: 0.373000\n",
            "lr 3.806122e-03 train accuracy: 0.372918 val accuracy: 0.365000\n",
            "lr 3.897959e-03 train accuracy: 0.374633 val accuracy: 0.380000\n",
            "lr 3.989796e-03 train accuracy: 0.368041 val accuracy: 0.382000\n",
            "lr 4.081633e-03 train accuracy: 0.358776 val accuracy: 0.376000\n",
            "lr 4.173469e-03 train accuracy: 0.369061 val accuracy: 0.365000\n",
            "lr 4.265306e-03 train accuracy: 0.372469 val accuracy: 0.379000\n",
            "lr 4.357143e-03 train accuracy: 0.375327 val accuracy: 0.377000\n",
            "lr 4.448980e-03 train accuracy: 0.374714 val accuracy: 0.381000\n",
            "lr 4.540816e-03 train accuracy: 0.369878 val accuracy: 0.375000\n",
            "lr 4.632653e-03 train accuracy: 0.371694 val accuracy: 0.370000\n",
            "lr 4.724490e-03 train accuracy: 0.365837 val accuracy: 0.377000\n",
            "lr 4.816327e-03 train accuracy: 0.369245 val accuracy: 0.371000\n",
            "lr 4.908163e-03 train accuracy: 0.368694 val accuracy: 0.376000\n",
            "lr 5.000000e-03 train accuracy: 0.383347 val accuracy: 0.396000\n",
            "best validation accuracy achieved during cross-validation: 0.396000\n"
          ]
        }
      ],
      "source": [
        "# Use the validation set to tune hyperparameters (learning rate).\n",
        "# You should experiment with different ranges for the learning\n",
        "# rates; if you are careful you should be able to\n",
        "# get a classification accuracy of over 0.35 on the validation set.\n",
        "results = {}\n",
        "best_val = -1\n",
        "best_softmax = None\n",
        "learning_rates = [5e-4, 5e-3]\n",
        "\n",
        "################################################################################\n",
        "# TODO:                                                                        #\n",
        "# Use the validation set to set the learning.                                  #\n",
        "# Save the best trained softmax classifer in best_softmax.                     #\n",
        "################################################################################\n",
        "for lr in np.linspace(learning_rates[0], learning_rates[1], num=50):\n",
        "  softmax = Softmax()\n",
        "  softmax.train(X_train, y_train, learning_rate=lr)\n",
        "  y_train_pred = softmax.predict(X_train)\n",
        "  train_accuracy = np.mean(y_train == y_train_pred)\n",
        "  y_val_pred = softmax.predict(X_val)\n",
        "  val_accuracy = np.mean(y_val == y_val_pred)\n",
        "  results[lr] = (train_accuracy, val_accuracy)\n",
        "  if val_accuracy > best_val:\n",
        "    best_val = val_accuracy\n",
        "    best_softmax = softmax\n",
        "  print(f\"lr: {lr}, val_accuracy: {val_accuracy}\")\n",
        "\n",
        "\n",
        "\n",
        "\n",
        "\n",
        "################################################################################\n",
        "#                              END OF YOUR CODE                                #\n",
        "################################################################################\n",
        "\n",
        "# Print out results.\n",
        "for lr in sorted(results):\n",
        "    train_accuracy, val_accuracy = results[lr]\n",
        "    print('lr %e train accuracy: %f val accuracy: %f' % (\n",
        "                lr, train_accuracy, val_accuracy))\n",
        "\n",
        "print('best validation accuracy achieved during cross-validation: %f' % best_val)"
      ]
    },
    {
      "cell_type": "code",
      "execution_count": 14,
      "metadata": {
        "id": "Vpj-_mvS7DWx",
        "colab": {
          "base_uri": "https://localhost:8080/"
        },
        "outputId": "6d2cfca9-38c2-4c84-fd8e-76e9c27b2bf6"
      },
      "outputs": [
        {
          "output_type": "stream",
          "name": "stdout",
          "text": [
            "softmax on raw pixels final test set accuracy: 0.396000\n"
          ]
        }
      ],
      "source": [
        "# evaluate on val set\n",
        "# Evaluate the best softmax on val set\n",
        "y_val_pred = best_softmax.predict(X_val)\n",
        "val_accuracy = np.mean(y_val == y_val_pred)\n",
        "print('softmax on raw pixels final test set accuracy: %f' % (val_accuracy, ))"
      ]
    },
    {
      "cell_type": "markdown",
      "metadata": {
        "id": "CI4FL2_a7DWx"
      },
      "source": [
        "Save the best_softmax weights using pickle:"
      ]
    },
    {
      "cell_type": "code",
      "execution_count": 16,
      "metadata": {
        "id": "U4uK5bgB7DWy"
      },
      "outputs": [],
      "source": [
        "import os\n",
        "\n",
        "# Create the directory if it doesn't exist\n",
        "os.makedirs('drive/MyDrive/Colab Notebooks', exist_ok=True)\n",
        "\n",
        "with open('drive/MyDrive/Colab Notebooks/softmax_weights.pkl', 'wb') as f:\n",
        "    pickle.dump(best_softmax.W, f)"
      ]
    },
    {
      "cell_type": "markdown",
      "metadata": {
        "id": "XrQpxEbY7DWz"
      },
      "source": [
        "Load the best_softmax weights using pickle:"
      ]
    },
    {
      "cell_type": "code",
      "execution_count": 17,
      "metadata": {
        "id": "P1VkRfIl7DWz"
      },
      "outputs": [],
      "source": [
        "with open('drive/MyDrive/Colab Notebooks/softmax_weights.pkl', 'rb') as f:\n",
        "    W = pickle.load(f)\n",
        "new_softmax = Softmax()\n",
        "new_softmax.W = W.copy()"
      ]
    },
    {
      "cell_type": "markdown",
      "source": [
        "Below is the code to visualize the weights learned for different classes. Try to notice the interesting patterns."
      ],
      "metadata": {
        "id": "2W7b80F_xkWj"
      }
    },
    {
      "cell_type": "code",
      "execution_count": 18,
      "metadata": {
        "id": "NTkVGxZS7DWz",
        "colab": {
          "base_uri": "https://localhost:8080/",
          "height": 528
        },
        "outputId": "fa166533-bea6-4820-9cae-3c2e8c3f8f36"
      },
      "outputs": [
        {
          "output_type": "display_data",
          "data": {
            "text/plain": [
              "<Figure size 1000x800 with 10 Axes>"
            ],
            "image/png": "[encoded data removed]"
          },
          "metadata": {}
        }
      ],
      "source": [
        "# Visualize the learned weights for each class\n",
        "w = best_softmax.W[:-1,:] # strip out the bias\n",
        "w = w.reshape(32, 32, 3, 10)\n",
        "\n",
        "w_min, w_max = np.min(w), np.max(w)\n",
        "\n",
        "classes = ['plane', 'car', 'bird', 'cat', 'deer', 'dog', 'frog', 'horse', 'ship', 'truck']\n",
        "for i in range(10):\n",
        "    plt.subplot(2, 5, i + 1)\n",
        "\n",
        "    # Rescale the weights to be between 0 and 255\n",
        "    wimg = 255.0 * (w[:, :, :, i].squeeze() - w_min) / (w_max - w_min)\n",
        "    plt.imshow(wimg.astype('uint8'))\n",
        "    plt.axis('off')\n",
        "    plt.title(classes[i])"
      ]
    },
    {
      "cell_type": "code",
      "source": [],
      "metadata": {
        "id": "oYKmBFJb_Z2p"
      },
      "execution_count": null,
      "outputs": []
    }
  ],
  "metadata": {
    "kernelspec": {
      "display_name": "Python 3",
      "language": "python",
      "name": "python3"
    },
    "language_info": {
      "codemirror_mode": {
        "name": "ipython",
        "version": 3
      },
      "file_extension": ".py",
      "mimetype": "text/x-python",
      "name": "python",
      "nbconvert_exporter": "python",
      "pygments_lexer": "ipython3",
      "version": "3.8.3"
    },
    "colab": {
      "name": "Softmax.ipynb",
      "provenance": []
    }
  },
  "nbformat": 4,
  "nbformat_minor": 0
}
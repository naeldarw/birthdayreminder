{
  "cells": [
    {
      "cell_type": "markdown",
      "metadata": {
        "id": "tSvEQOUR1niR"
      },
      "source": [
        "# Training Neural Networks\n",
        "\n",
        "The network we built in Part 1 is dumb, it doesn't know anything about our handwritten digits. Neural networks with non-linear activations work like universal function approximators. There is some function that maps your input to the output. For example, images of handwritten digits to class probabilities. The power of neural networks is that we can train them to approximate this function, and basically any function given enough data and compute time.\n",
        "\n",
        "<img src=\"https://drive.google.com/uc?id=1RgTsNL493xOyoGAEm72XNv39LflYMguN\" width=500px>\n",
        "\n",
        "At first the network is naive, it doesn't know the function mapping the inputs to the outputs. We train the network by showing it examples of real data, then adjusting the network parameters such that it approximates this function.\n",
        "\n",
        "To find these parameters, we need to know how poorly the network is predicting the real outputs. For this we calculate a **loss function** (also called the cost), a measure of our prediction error. For example, the mean squared loss is often used in regression and binary classification problems\n",
        "\n",
        "$$\n",
        "C = \\frac{1}{2n}\\sum_i^n{\\left(y_i - \\hat{y}_i\\right)^2}\n",
        "$$\n",
        "\n",
        "where $n$ is the number of training examples, $y_i$ are the true labels, and $\\hat{y}_i$ are the predicted labels.\n",
        "\n",
        "By minimizing this loss with respect to the network parameters, we can find configurations where the loss is at a minimum and the network is able to predict the correct labels with high accuracy. We find this minimum using a process called **gradient descent**. The gradient is the slope of the loss function and points in the direction of fastest change. To get to the minimum in the least amount of time, we then want to follow the gradient (downwards). You can think of this like descending a mountain by following the steepest slope to the base.\n",
        "\n",
        "<img src='https://drive.google.com/uc?id=1Z3PpvEXeDBDHrylvTstoqKsqG6557VQV' width=350px>"
      ]
    },
    {
      "cell_type": "markdown",
      "metadata": {
        "id": "wa1jBUGi1nib"
      },
      "source": [
        "## Backpropagation\n",
        "\n",
        "For single layer networks, gradient descent is simple to implement. However, it's more complicated for deeper, multilayer neural networks like the one we've built. Complicated enough that it took about 30 years before researchers figured out how to train multilayer networks, although it's straightforward once you learn about it.\n",
        "\n",
        "This is done through **backpropagation** which is really just an application of the chain rule from calculus. It's easiest to understand if we convert a two layer network into a graph representation.\n",
        "\n",
        "<img src=\"https://drive.google.com/uc?id=1S7zeIG1PDOFutyYCd-j-7zDJc-ONxlvv\" width=400px>\n",
        "\n",
        "\n",
        "\n",
        "In the forward pass through the network, our data and operations go from right to left here. To train the weights with gradient descent, we propagate the gradient of the cost backwards through the network. Mathematically, this is really just calculating the gradient of the loss with respect to the weights using the chain rule.\n",
        "\n",
        "$$\n",
        "\\frac{\\partial C}{\\partial w_1} = \\frac{\\partial l_1}{\\partial w_1} \\frac{\\partial s}{\\partial l_1} \\frac{\\partial l_2}{\\partial s} \\frac{\\partial C}{\\partial l_2}\n",
        "$$\n",
        "\n",
        "We update our weights using this gradient with some learning rate $\\alpha$.\n",
        "\n",
        "$$\n",
        "w^\\prime = w - \\alpha \\frac{\\partial C}{\\partial w}\n",
        "$$\n",
        "\n",
        "The learning rate is set such that the weight update steps are small enough that the iterative method settles in a minimum.\n",
        "\n",
        "The first thing we need to do for training is define our loss function. In PyTorch, you'll usually see this as `criterion`. Here we're using softmax output, so we want to use `criterion = nn.CrossEntropyLoss()` as our loss. Later when training, you use `loss = criterion(output, targets)` to calculate the actual loss.\n",
        "\n",
        "We also need to define the optimizer we're using, SGD or Adam, or something along those lines. Here I'll just use SGD with `torch.optim.SGD`, passing in the network parameters and the learning rate."
      ]
    },
    {
      "cell_type": "markdown",
      "metadata": {
        "id": "4mv2v0Xe1nid"
      },
      "source": [
        "Virat## Gradients\n",
        "\n",
        "In PyTorch, the gradients are calculated automatically. It does this by keeping track of operations performed on tensors. For PyTorch to track operations and calculate the gradients, you need to set `require_grad` = `True` when creating a tensor.\n",
        "\n",
        "The gradients of a tensor (e.g.,`z`) are computed with respect to the variable that created it using `z.backward()`. This does a backward pass through the operations that created `z`."
      ]
    },
    {
      "cell_type": "code",
      "execution_count": 1,
      "metadata": {
        "id": "cVlm-V031nif"
      },
      "outputs": [],
      "source": [
        "%matplotlib inline\n",
        "%config InlineBackend.figure_format = 'retina'\n",
        "\n",
        "import numpy as np\n",
        "import time\n",
        "\n",
        "import torch\n",
        "from torch import nn\n",
        "from torch import optim\n",
        "import torch.nn.functional as F\n",
        "import matplotlib.pyplot as plt"
      ]
    },
    {
      "cell_type": "code",
      "execution_count": 2,
      "metadata": {
        "id": "RZ9339mZ1nii",
        "outputId": "0a73cc22-f4d1-4200-d55a-bd8f55b43729",
        "colab": {
          "base_uri": "https://localhost:8080/"
        }
      },
      "outputs": [
        {
          "output_type": "execute_result",
          "data": {
            "text/plain": [
              "tensor([[1., 1.],\n",
              "        [1., 1.]], requires_grad=True)"
            ]
          },
          "metadata": {},
          "execution_count": 2
        }
      ],
      "source": [
        "x = torch.ones(2,2,requires_grad=True)\n",
        "x"
      ]
    },
    {
      "cell_type": "code",
      "execution_count": 3,
      "metadata": {
        "id": "htTgBSRa1nil",
        "outputId": "524c3986-610b-4cbf-b1ac-504bc6a0dd3f",
        "colab": {
          "base_uri": "https://localhost:8080/"
        }
      },
      "outputs": [
        {
          "output_type": "execute_result",
          "data": {
            "text/plain": [
              "tensor([[12., 12.],\n",
              "        [12., 12.]], grad_fn=<MulBackward0>)"
            ]
          },
          "metadata": {},
          "execution_count": 3
        }
      ],
      "source": [
        "y = 3*(x+1)**2\n",
        "y"
      ]
    },
    {
      "cell_type": "markdown",
      "metadata": {
        "id": "L_JeJCcE1nim"
      },
      "source": [
        "Below we can see the operation that created `y`, a `MulConstant` op."
      ]
    },
    {
      "cell_type": "code",
      "execution_count": 4,
      "metadata": {
        "id": "1V1Ba1h-1nio",
        "outputId": "82ca8245-b868-4339-b139-a32590166be1",
        "colab": {
          "base_uri": "https://localhost:8080/"
        }
      },
      "outputs": [
        {
          "output_type": "execute_result",
          "data": {
            "text/plain": [
              "<MulBackward0 at 0x7e9a3f573a60>"
            ]
          },
          "metadata": {},
          "execution_count": 4
        }
      ],
      "source": [
        "## grad_fn shows the function that generated this variable\n",
        "y.grad_fn"
      ]
    },
    {
      "cell_type": "code",
      "execution_count": 5,
      "metadata": {
        "id": "jqU5md7u1nip",
        "outputId": "5a4f9794-1655-4e48-92d5-80ef12d46a35",
        "colab": {
          "base_uri": "https://localhost:8080/"
        }
      },
      "outputs": [
        {
          "output_type": "execute_result",
          "data": {
            "text/plain": [
              "tensor(12., grad_fn=<MeanBackward0>)"
            ]
          },
          "metadata": {},
          "execution_count": 5
        }
      ],
      "source": [
        "z = y.mean()\n",
        "z"
      ]
    },
    {
      "cell_type": "markdown",
      "metadata": {
        "id": "LCwsLU-m1nir"
      },
      "source": [
        "Again, we can check out how `z` was created, with a `Mean` operation."
      ]
    },
    {
      "cell_type": "code",
      "execution_count": 6,
      "metadata": {
        "id": "T4dQtu_k1nis",
        "outputId": "13db2442-7983-4d0b-ae76-786edb18920f",
        "colab": {
          "base_uri": "https://localhost:8080/"
        }
      },
      "outputs": [
        {
          "output_type": "execute_result",
          "data": {
            "text/plain": [
              "<MeanBackward0 at 0x7e9a3f573a30>"
            ]
          },
          "metadata": {},
          "execution_count": 6
        }
      ],
      "source": [
        "z.grad_fn"
      ]
    },
    {
      "cell_type": "markdown",
      "metadata": {
        "id": "KO50t4Cc1nit"
      },
      "source": [
        "Since we haven't performed a backward pass, `x` doesn't have a gradient yet."
      ]
    },
    {
      "cell_type": "code",
      "execution_count": 7,
      "metadata": {
        "id": "dVNQAZA71niu"
      },
      "outputs": [],
      "source": [
        "x.grad"
      ]
    },
    {
      "cell_type": "markdown",
      "metadata": {
        "id": "qwOqwap_1niu"
      },
      "source": [
        "Now we can calculate the gradients of `z` with respect to `x` with `z.backward()`."
      ]
    },
    {
      "cell_type": "code",
      "execution_count": 8,
      "metadata": {
        "id": "TxCulLCj1niv",
        "outputId": "21589f7a-6bf4-4bf4-95f6-359680d5af46",
        "colab": {
          "base_uri": "https://localhost:8080/"
        }
      },
      "outputs": [
        {
          "output_type": "execute_result",
          "data": {
            "text/plain": [
              "tensor([[3., 3.],\n",
              "        [3., 3.]])"
            ]
          },
          "metadata": {},
          "execution_count": 8
        }
      ],
      "source": [
        "z.backward()\n",
        "x.grad"
      ]
    },
    {
      "cell_type": "markdown",
      "metadata": {
        "id": "xOY1OT2p1niw"
      },
      "source": [
        "These gradients calculations are particularly useful for neural networks. For training we need the gradients of the weights with respect to the cost. With PyTorch, we run data forward through the network to calculate the cost, then, go backwards to calculate the gradients with respect to the cost. Once we have the gradients we can make a gradient descent step."
      ]
    },
    {
      "cell_type": "markdown",
      "metadata": {
        "id": "BgUNqTsA1niw"
      },
      "source": [
        "## Training the network!\n",
        "\n",
        "The first thing we need to do for training is define our loss function. In PyTorch, you'll usually see this as `criterion`. Here we're using softmax output, so we want to use `criterion = nn.CrossEntropyLoss()` as our loss. Later when training, you use `loss = criterion(output, targets)` to calculate the actual loss.\n",
        "\n",
        "We also need to define the optimizer we're using, SGD or Adam, or something along those lines. Here I'll just use SGD with `torch.optim.SGD`, passing in the network parameters and the learning rate."
      ]
    },
    {
      "cell_type": "code",
      "execution_count": 9,
      "metadata": {
        "id": "3GmfqhZ21nix",
        "colab": {
          "base_uri": "https://localhost:8080/"
        },
        "outputId": "efa633fa-9458-44ca-84c2-89c00ec55d6b"
      },
      "outputs": [
        {
          "output_type": "stream",
          "name": "stdout",
          "text": [
            "Downloading http://yann.lecun.com/exdb/mnist/train-images-idx3-ubyte.gz\n",
            "Failed to download (trying next):\n",
            "HTTP Error 404: Not Found\n",
            "\n",
            "Downloading https://ossci-datasets.s3.amazonaws.com/mnist/train-images-idx3-ubyte.gz\n",
            "Downloading https://ossci-datasets.s3.amazonaws.com/mnist/train-images-idx3-ubyte.gz to MNIST_data/MNIST/raw/train-images-idx3-ubyte.gz\n"
          ]
        },
        {
          "output_type": "stream",
          "name": "stderr",
          "text": [
            "100%|██████████| 9.91M/9.91M [00:00<00:00, 39.8MB/s]\n"
          ]
        },
        {
          "output_type": "stream",
          "name": "stdout",
          "text": [
            "Extracting MNIST_data/MNIST/raw/train-images-idx3-ubyte.gz to MNIST_data/MNIST/raw\n",
            "\n",
            "Downloading http://yann.lecun.com/exdb/mnist/train-labels-idx1-ubyte.gz\n",
            "Failed to download (trying next):\n",
            "HTTP Error 404: Not Found\n",
            "\n",
            "Downloading https://ossci-datasets.s3.amazonaws.com/mnist/train-labels-idx1-ubyte.gz\n",
            "Downloading https://ossci-datasets.s3.amazonaws.com/mnist/train-labels-idx1-ubyte.gz to MNIST_data/MNIST/raw/train-labels-idx1-ubyte.gz\n"
          ]
        },
        {
          "output_type": "stream",
          "name": "stderr",
          "text": [
            "100%|██████████| 28.9k/28.9k [00:00<00:00, 1.20MB/s]\n"
          ]
        },
        {
          "output_type": "stream",
          "name": "stdout",
          "text": [
            "Extracting MNIST_data/MNIST/raw/train-labels-idx1-ubyte.gz to MNIST_data/MNIST/raw\n",
            "\n",
            "Downloading http://yann.lecun.com/exdb/mnist/t10k-images-idx3-ubyte.gz\n",
            "Failed to download (trying next):\n",
            "HTTP Error 404: Not Found\n",
            "\n",
            "Downloading https://ossci-datasets.s3.amazonaws.com/mnist/t10k-images-idx3-ubyte.gz\n",
            "Downloading https://ossci-datasets.s3.amazonaws.com/mnist/t10k-images-idx3-ubyte.gz to MNIST_data/MNIST/raw/t10k-images-idx3-ubyte.gz\n"
          ]
        },
        {
          "output_type": "stream",
          "name": "stderr",
          "text": [
            "100%|██████████| 1.65M/1.65M [00:00<00:00, 9.29MB/s]\n"
          ]
        },
        {
          "output_type": "stream",
          "name": "stdout",
          "text": [
            "Extracting MNIST_data/MNIST/raw/t10k-images-idx3-ubyte.gz to MNIST_data/MNIST/raw\n",
            "\n",
            "Downloading http://yann.lecun.com/exdb/mnist/t10k-labels-idx1-ubyte.gz\n",
            "Failed to download (trying next):\n",
            "HTTP Error 404: Not Found\n",
            "\n",
            "Downloading https://ossci-datasets.s3.amazonaws.com/mnist/t10k-labels-idx1-ubyte.gz\n",
            "Downloading https://ossci-datasets.s3.amazonaws.com/mnist/t10k-labels-idx1-ubyte.gz to MNIST_data/MNIST/raw/t10k-labels-idx1-ubyte.gz\n"
          ]
        },
        {
          "output_type": "stream",
          "name": "stderr",
          "text": [
            "100%|██████████| 4.54k/4.54k [00:00<00:00, 5.67MB/s]"
          ]
        },
        {
          "output_type": "stream",
          "name": "stdout",
          "text": [
            "Extracting MNIST_data/MNIST/raw/t10k-labels-idx1-ubyte.gz to MNIST_data/MNIST/raw\n",
            "\n"
          ]
        },
        {
          "output_type": "stream",
          "name": "stderr",
          "text": [
            "\n"
          ]
        }
      ],
      "source": [
        "from torchvision import datasets, transforms\n",
        "\n",
        "# Define a transform to normalize the data\n",
        "transform = transforms.Compose([transforms.ToTensor(),\n",
        "                              transforms.Normalize((0.5,), (0.5,)),\n",
        "                             ])\n",
        "# Download and load the training data\n",
        "trainset = datasets.MNIST('MNIST_data/', download=True, train=True, transform=transform)\n",
        "trainloader = torch.utils.data.DataLoader(trainset, batch_size=64, shuffle=True)\n",
        "\n",
        "# Download and load the test data\n",
        "testset = datasets.MNIST('MNIST_data/', download=True, train=False, transform=transform)\n",
        "testloader = torch.utils.data.DataLoader(testset, batch_size=64, shuffle=True)"
      ]
    },
    {
      "cell_type": "code",
      "execution_count": 10,
      "metadata": {
        "id": "qFd1p8Eh1nix"
      },
      "outputs": [],
      "source": [
        "class Network(nn.Module):\n",
        "    def __init__(self):\n",
        "        super().__init__()\n",
        "        # Defining the layers, 200, 50, 10 units each\n",
        "        self.fc1 = nn.Linear(784, 200)\n",
        "        self.fc2 = nn.Linear(200, 50)\n",
        "        # Output layer, 10 units - one for each digit\n",
        "        self.fc3 = nn.Linear(50, 10)\n",
        "\n",
        "    def forward(self, x):\n",
        "        ''' Forward pass through the network, returns the output logits '''\n",
        "\n",
        "        x = self.fc1(x)\n",
        "        x = F.relu(x)\n",
        "        x = self.fc2(x)\n",
        "        x = F.relu(x)\n",
        "        x = self.fc3(x)\n",
        "\n",
        "        return x\n",
        "\n",
        "    def predict(self, x):\n",
        "        ''' This function for predicts classes by calculating the softmax '''\n",
        "        logits = self.forward(x)\n",
        "        return F.softmax(logits)"
      ]
    },
    {
      "cell_type": "code",
      "execution_count": 11,
      "metadata": {
        "id": "7wmxjctH1niy"
      },
      "outputs": [],
      "source": [
        "net = Network()\n",
        "criterion = nn.CrossEntropyLoss()\n",
        "optimizer = optim.SGD(net.parameters(), lr=0.01)"
      ]
    },
    {
      "cell_type": "markdown",
      "metadata": {
        "id": "ju3DMciX1niy"
      },
      "source": [
        "First, let's consider just one learning step before looping through all the data. The general process with PyTorch:\n",
        "\n",
        "* Make a forward pass through the network to get the logits\n",
        "* Use the logits to calculate the loss\n",
        "* Perform a backward pass through the network with `loss.backward()` to calculate the gradients\n",
        "* Take a step with the optimizer to update the weights\n",
        "\n",
        "Below I'll go through one training step and print out the weights and gradients so you can see how it changes."
      ]
    },
    {
      "cell_type": "code",
      "execution_count": 13,
      "metadata": {
        "id": "TYatBFEm1niz",
        "outputId": "4cb6fcc9-fd02-4d04-a649-fecf7a004afd",
        "colab": {
          "base_uri": "https://localhost:8080/"
        }
      },
      "outputs": [
        {
          "output_type": "stream",
          "name": "stdout",
          "text": [
            "Initial weights -  Parameter containing:\n",
            "tensor([[-0.0057,  0.0269,  0.0159,  ...,  0.0324, -0.0072, -0.0193],\n",
            "        [-0.0104, -0.0261, -0.0100,  ..., -0.0077, -0.0010, -0.0122],\n",
            "        [-0.0241, -0.0234, -0.0307,  ...,  0.0013, -0.0306,  0.0285],\n",
            "        ...,\n",
            "        [ 0.0016,  0.0166,  0.0093,  ...,  0.0082, -0.0288, -0.0052],\n",
            "        [ 0.0095, -0.0060, -0.0356,  ...,  0.0124,  0.0279, -0.0224],\n",
            "        [ 0.0325, -0.0088, -0.0222,  ...,  0.0318, -0.0277, -0.0086]],\n",
            "       requires_grad=True)\n",
            "torch.Size([64])\n",
            "Gradient - tensor([[-0.0004, -0.0004, -0.0004,  ..., -0.0004, -0.0004, -0.0004],\n",
            "        [-0.0007, -0.0007, -0.0007,  ..., -0.0007, -0.0007, -0.0007],\n",
            "        [ 0.0007,  0.0007,  0.0007,  ...,  0.0007,  0.0007,  0.0007],\n",
            "        ...,\n",
            "        [-0.0003, -0.0003, -0.0003,  ..., -0.0003, -0.0003, -0.0003],\n",
            "        [-0.0011, -0.0011, -0.0011,  ..., -0.0011, -0.0011, -0.0011],\n",
            "        [-0.0007, -0.0007, -0.0007,  ..., -0.0007, -0.0007, -0.0007]])\n"
          ]
        }
      ],
      "source": [
        "print('Initial weights - ', net.fc1.weight)\n",
        "\n",
        "dataiter = iter(trainloader)\n",
        "inputs, targets = next(dataiter)\n",
        "\n",
        "inputs.resize_(64, 784)\n",
        "print(targets.size())\n",
        "\n",
        "# Clear the gradients from all Tensors\n",
        "optimizer.zero_grad()\n",
        "\n",
        "# Forward pass, then backward pass, then update weights\n",
        "output = net.forward(inputs)\n",
        "loss = criterion(output, targets)\n",
        "loss.backward()\n",
        "print('Gradient -', net.fc1.weight.grad)\n",
        "optimizer.step()"
      ]
    },
    {
      "cell_type": "markdown",
      "metadata": {
        "id": "L6TwQpzT1niz"
      },
      "source": [
        "We will output the updated weights that are updated using SGD with learning rate (0.01). Since both the learning rate and gradients are small, the changes of the weights might not be drastic"
      ]
    },
    {
      "cell_type": "code",
      "execution_count": 14,
      "metadata": {
        "id": "0fYxVY5r1ni0",
        "colab": {
          "base_uri": "https://localhost:8080/"
        },
        "outputId": "70fd3222-d29f-47a6-e333-64c1e36b6e6d"
      },
      "outputs": [
        {
          "output_type": "stream",
          "name": "stdout",
          "text": [
            "Updated weights -  Parameter containing:\n",
            "tensor([[-0.0057,  0.0269,  0.0159,  ...,  0.0324, -0.0072, -0.0193],\n",
            "        [-0.0104, -0.0261, -0.0100,  ..., -0.0077, -0.0010, -0.0122],\n",
            "        [-0.0241, -0.0234, -0.0307,  ...,  0.0012, -0.0306,  0.0285],\n",
            "        ...,\n",
            "        [ 0.0016,  0.0166,  0.0093,  ...,  0.0082, -0.0288, -0.0052],\n",
            "        [ 0.0095, -0.0060, -0.0356,  ...,  0.0124,  0.0279, -0.0224],\n",
            "        [ 0.0325, -0.0088, -0.0222,  ...,  0.0318, -0.0277, -0.0086]],\n",
            "       requires_grad=True)\n"
          ]
        }
      ],
      "source": [
        "print('Updated weights - ', net.fc1.weight)"
      ]
    },
    {
      "cell_type": "markdown",
      "metadata": {
        "id": "9FgO-0kR1ni0"
      },
      "source": [
        "### Training for real\n",
        "\n",
        "Now we'll put this algorithm into a loop so we can go through all the images. This is fairly straightforward. We'll loop through the mini-batches in our dataset, pass the data through the network to calculate the losses, get the gradients, then run the optimizer"
      ]
    },
    {
      "cell_type": "code",
      "execution_count": 15,
      "metadata": {
        "id": "rpVj0Zwp1ni0"
      },
      "outputs": [],
      "source": [
        "net = Network()\n",
        "optimizer = optim.Adam(net.parameters(), lr=0.001)"
      ]
    },
    {
      "cell_type": "code",
      "execution_count": 16,
      "metadata": {
        "id": "W1uMpUjs1ni1",
        "outputId": "33d24568-16a0-421b-b8f6-2352a548b1f7",
        "colab": {
          "base_uri": "https://localhost:8080/"
        }
      },
      "outputs": [
        {
          "output_type": "stream",
          "name": "stderr",
          "text": [
            "<ipython-input-10-d69e204686da>:24: UserWarning: Implicit dimension choice for softmax has been deprecated. Change the call to include dim=X as an argument.\n",
            "  return F.softmax(logits)\n"
          ]
        },
        {
          "output_type": "stream",
          "name": "stdout",
          "text": [
            "Epoch: 1/1 Loss: 2.2184 Test accuracy: 0.3710\n",
            "Epoch: 1/1 Loss: 1.9325 Test accuracy: 0.5795\n",
            "Epoch: 1/1 Loss: 1.5659 Test accuracy: 0.6857\n",
            "Epoch: 1/1 Loss: 1.1529 Test accuracy: 0.7791\n",
            "Epoch: 1/1 Loss: 0.9383 Test accuracy: 0.7801\n",
            "Epoch: 1/1 Loss: 0.7793 Test accuracy: 0.7988\n",
            "Epoch: 1/1 Loss: 0.6734 Test accuracy: 0.8273\n",
            "Epoch: 1/1 Loss: 0.5868 Test accuracy: 0.8442\n",
            "Epoch: 1/1 Loss: 0.4944 Test accuracy: 0.8220\n",
            "Epoch: 1/1 Loss: 0.5478 Test accuracy: 0.8438\n",
            "Epoch: 1/1 Loss: 0.4945 Test accuracy: 0.8734\n",
            "Epoch: 1/1 Loss: 0.4956 Test accuracy: 0.8682\n",
            "Epoch: 1/1 Loss: 0.5099 Test accuracy: 0.8664\n",
            "Epoch: 1/1 Loss: 0.4341 Test accuracy: 0.8741\n",
            "Epoch: 1/1 Loss: 0.4512 Test accuracy: 0.8782\n",
            "Epoch: 1/1 Loss: 0.4175 Test accuracy: 0.8790\n",
            "Epoch: 1/1 Loss: 0.4420 Test accuracy: 0.8836\n",
            "Epoch: 1/1 Loss: 0.4112 Test accuracy: 0.8749\n",
            "Epoch: 1/1 Loss: 0.4088 Test accuracy: 0.8845\n",
            "Epoch: 1/1 Loss: 0.3338 Test accuracy: 0.8833\n",
            "Epoch: 1/1 Loss: 0.4147 Test accuracy: 0.8815\n",
            "Epoch: 1/1 Loss: 0.4339 Test accuracy: 0.8812\n",
            "Epoch: 1/1 Loss: 0.4518 Test accuracy: 0.8838\n",
            "Epoch: 1/1 Loss: 0.4103 Test accuracy: 0.8587\n",
            "Epoch: 1/1 Loss: 0.3935 Test accuracy: 0.8937\n",
            "Epoch: 1/1 Loss: 0.4112 Test accuracy: 0.8995\n",
            "Epoch: 1/1 Loss: 0.3020 Test accuracy: 0.9008\n",
            "Epoch: 1/1 Loss: 0.3533 Test accuracy: 0.8918\n",
            "Epoch: 1/1 Loss: 0.3195 Test accuracy: 0.8884\n",
            "Epoch: 1/1 Loss: 0.3913 Test accuracy: 0.8992\n",
            "Epoch: 1/1 Loss: 0.3404 Test accuracy: 0.9034\n",
            "Epoch: 1/1 Loss: 0.3549 Test accuracy: 0.8947\n",
            "Epoch: 1/1 Loss: 0.3426 Test accuracy: 0.9060\n",
            "Epoch: 1/1 Loss: 0.3365 Test accuracy: 0.9012\n",
            "Epoch: 1/1 Loss: 0.3200 Test accuracy: 0.8927\n",
            "Epoch: 1/1 Loss: 0.4038 Test accuracy: 0.9054\n",
            "Epoch: 1/1 Loss: 0.3400 Test accuracy: 0.8998\n",
            "Epoch: 1/1 Loss: 0.2728 Test accuracy: 0.9043\n",
            "Epoch: 1/1 Loss: 0.3239 Test accuracy: 0.8938\n",
            "Epoch: 1/1 Loss: 0.3330 Test accuracy: 0.9055\n",
            "Epoch: 1/1 Loss: 0.3305 Test accuracy: 0.8778\n",
            "Epoch: 1/1 Loss: 0.3786 Test accuracy: 0.8939\n",
            "Epoch: 1/1 Loss: 0.3440 Test accuracy: 0.8985\n",
            "Epoch: 1/1 Loss: 0.3735 Test accuracy: 0.9039\n",
            "Epoch: 1/1 Loss: 0.3374 Test accuracy: 0.9017\n",
            "Epoch: 1/1 Loss: 0.3748 Test accuracy: 0.9134\n",
            "Epoch: 1/1 Loss: 0.3401 Test accuracy: 0.9026\n",
            "Epoch: 1/1 Loss: 0.3546 Test accuracy: 0.9022\n",
            "Epoch: 1/1 Loss: 0.3338 Test accuracy: 0.8960\n",
            "Epoch: 1/1 Loss: 0.4445 Test accuracy: 0.9107\n",
            "Epoch: 1/1 Loss: 0.3194 Test accuracy: 0.9065\n",
            "Epoch: 1/1 Loss: 0.3126 Test accuracy: 0.9057\n",
            "Epoch: 1/1 Loss: 0.3205 Test accuracy: 0.9162\n",
            "Epoch: 1/1 Loss: 0.3035 Test accuracy: 0.9040\n",
            "Epoch: 1/1 Loss: 0.2772 Test accuracy: 0.9126\n",
            "Epoch: 1/1 Loss: 0.2784 Test accuracy: 0.9165\n",
            "Epoch: 1/1 Loss: 0.2962 Test accuracy: 0.9212\n",
            "Epoch: 1/1 Loss: 0.3000 Test accuracy: 0.9203\n",
            "Epoch: 1/1 Loss: 0.2887 Test accuracy: 0.9197\n",
            "Epoch: 1/1 Loss: 0.3245 Test accuracy: 0.9059\n",
            "Epoch: 1/1 Loss: 0.2595 Test accuracy: 0.9190\n",
            "Epoch: 1/1 Loss: 0.2752 Test accuracy: 0.9175\n",
            "Epoch: 1/1 Loss: 0.3040 Test accuracy: 0.9131\n",
            "Epoch: 1/1 Loss: 0.3318 Test accuracy: 0.9250\n",
            "Epoch: 1/1 Loss: 0.2944 Test accuracy: 0.9259\n",
            "Epoch: 1/1 Loss: 0.2938 Test accuracy: 0.9271\n",
            "Epoch: 1/1 Loss: 0.3395 Test accuracy: 0.9232\n",
            "Epoch: 1/1 Loss: 0.3197 Test accuracy: 0.9218\n",
            "Epoch: 1/1 Loss: 0.3014 Test accuracy: 0.9166\n",
            "Epoch: 1/1 Loss: 0.2994 Test accuracy: 0.9282\n",
            "Epoch: 1/1 Loss: 0.3029 Test accuracy: 0.9259\n",
            "Epoch: 1/1 Loss: 0.2305 Test accuracy: 0.9227\n",
            "Epoch: 1/1 Loss: 0.2992 Test accuracy: 0.9047\n",
            "Epoch: 1/1 Loss: 0.2682 Test accuracy: 0.9243\n",
            "Epoch: 1/1 Loss: 0.2698 Test accuracy: 0.9200\n",
            "Epoch: 1/1 Loss: 0.3336 Test accuracy: 0.9256\n",
            "Epoch: 1/1 Loss: 0.3319 Test accuracy: 0.9141\n",
            "Epoch: 1/1 Loss: 0.2894 Test accuracy: 0.9111\n",
            "Epoch: 1/1 Loss: 0.2567 Test accuracy: 0.9217\n",
            "Epoch: 1/1 Loss: 0.2127 Test accuracy: 0.9277\n",
            "Epoch: 1/1 Loss: 0.2712 Test accuracy: 0.9216\n",
            "Epoch: 1/1 Loss: 0.2586 Test accuracy: 0.9275\n",
            "Epoch: 1/1 Loss: 0.2786 Test accuracy: 0.9267\n",
            "Epoch: 1/1 Loss: 0.2378 Test accuracy: 0.9311\n",
            "Epoch: 1/1 Loss: 0.2565 Test accuracy: 0.9167\n",
            "Epoch: 1/1 Loss: 0.2761 Test accuracy: 0.9266\n",
            "Epoch: 1/1 Loss: 0.2062 Test accuracy: 0.9310\n",
            "Epoch: 1/1 Loss: 0.2259 Test accuracy: 0.9351\n",
            "Epoch: 1/1 Loss: 0.2436 Test accuracy: 0.9299\n",
            "Epoch: 1/1 Loss: 0.2851 Test accuracy: 0.9319\n",
            "Epoch: 1/1 Loss: 0.1772 Test accuracy: 0.9368\n",
            "Epoch: 1/1 Loss: 0.2273 Test accuracy: 0.9282\n",
            "Epoch: 1/1 Loss: 0.2459 Test accuracy: 0.9349\n"
          ]
        }
      ],
      "source": [
        "epochs = 1\n",
        "steps = 0\n",
        "running_loss = 0\n",
        "print_every = 10\n",
        "for e in range(epochs):\n",
        "    for inputs, targets in iter(trainloader):\n",
        "        steps += 1\n",
        "        # Flatten MNIST images into a 784 long vector\n",
        "        inputs.resize_(inputs.size()[0], 784)\n",
        "\n",
        "        optimizer.zero_grad()\n",
        "\n",
        "        output = net(inputs)\n",
        "        loss = criterion(output, targets)\n",
        "        loss.backward()\n",
        "        optimizer.step()\n",
        "\n",
        "        running_loss += loss.item()\n",
        "\n",
        "        if steps % print_every == 0:\n",
        "            # Test accuracy\n",
        "            accuracy = 0\n",
        "            for ii, (inputs, targets) in enumerate(testloader):\n",
        "\n",
        "                inputs = inputs.resize_(inputs.size()[0], 784)\n",
        "\n",
        "                predicted = net.predict(inputs).data\n",
        "                equality = (targets == predicted.max(1)[1])\n",
        "                accuracy += equality.type_as(torch.FloatTensor()).mean()\n",
        "\n",
        "            print(\"Epoch: {}/{}\".format(e+1, epochs),\n",
        "                  \"Loss: {:.4f}\".format(running_loss/print_every),\n",
        "                  \"Test accuracy: {:.4f}\".format(accuracy/(ii+1)))\n",
        "            running_loss = 0"
      ]
    },
    {
      "cell_type": "code",
      "execution_count": 18,
      "metadata": {
        "id": "jbS3VMA91ni1"
      },
      "outputs": [],
      "source": [
        "dataiter = iter(testloader)\n",
        "inputs, targets = next(dataiter)"
      ]
    },
    {
      "cell_type": "markdown",
      "source": [
        "For a better visualization, we define the following function"
      ],
      "metadata": {
        "id": "sq1hHDrYWzkj"
      }
    },
    {
      "cell_type": "code",
      "source": [
        "def view_classify(img, ps):\n",
        "    ''' Function for viewing an image and it's predicted classes.\n",
        "    '''\n",
        "    ps = ps.data.numpy().squeeze()\n",
        "\n",
        "    fig, (ax1, ax2) = plt.subplots(figsize=(6,7), ncols=2)\n",
        "    ax1.imshow(img.numpy().squeeze())\n",
        "    ax1.axis('off')\n",
        "    ax2.barh(np.arange(10), ps)\n",
        "    ax2.set_aspect(0.1)\n",
        "    ax2.set_yticks(np.arange(10))\n",
        "    ax2.set_yticklabels(np.arange(10).astype(int), size='large');\n",
        "    ax2.set_title('Digit Probability')\n",
        "    ax2.set_xlim(0, 1.1)"
      ],
      "metadata": {
        "id": "HcABXFqHWxSo"
      },
      "execution_count": 19,
      "outputs": []
    },
    {
      "cell_type": "code",
      "execution_count": 29,
      "metadata": {
        "id": "CT9fBgBm1ni2",
        "outputId": "9a9950dd-cd11-43c0-d69d-e943d2e84a7f",
        "colab": {
          "base_uri": "https://localhost:8080/",
          "height": 325
        }
      },
      "outputs": [
        {
          "output_type": "stream",
          "name": "stderr",
          "text": [
            "<ipython-input-10-d69e204686da>:24: UserWarning: Implicit dimension choice for softmax has been deprecated. Change the call to include dim=X as an argument.\n",
            "  return F.softmax(logits)\n"
          ]
        },
        {
          "output_type": "display_data",
          "data": {
            "text/plain": [
              "<Figure size 600x700 with 2 Axes>"
            ],
            "image/png": "[encoded data removed]"
          },
          "metadata": {
            "image/png": {
              "width": 484,
              "height": 272
            }
          }
        }
      ],
      "source": [
        "img = inputs[45]\n",
        "ps = net.predict(img.resize_(1, 784))\n",
        "view_classify(img.resize_(1, 28, 28), ps)"
      ]
    }
  ],
  "metadata": {
    "kernelspec": {
      "display_name": "Python 3",
      "language": "python",
      "name": "python3"
    },
    "language_info": {
      "codemirror_mode": {
        "name": "ipython",
        "version": 3
      },
      "file_extension": ".py",
      "mimetype": "text/x-python",
      "name": "python",
      "nbconvert_exporter": "python",
      "pygments_lexer": "ipython3",
      "version": "3.8.5"
    },
    "nteract": {
      "version": "0.12.3"
    },
    "colab": {
      "name": "Tutorial 2.ipynb",
      "provenance": []
    }
  },
  "nbformat": 4,
  "nbformat_minor": 0
}
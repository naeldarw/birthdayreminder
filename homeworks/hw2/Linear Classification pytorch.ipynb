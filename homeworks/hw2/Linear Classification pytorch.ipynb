{
  "cells": [
    {
      "cell_type": "markdown",
      "metadata": {
        "id": "AyPbJlzoyA5N"
      },
      "source": [
        "\n",
        "\n",
        "```\n",
        "# This is formatted as code\n",
        "```\n",
        "\n",
        "# Linear Classification\n",
        "\n",
        " Implement Linear Classification using pytorch. This consists of having fully connected layers connected one after the other and ReLu activation functions between them.\n",
        "\n",
        " Build a neural network with a minimun of 2 layers in order to do classification."
      ]
    },
    {
      "cell_type": "markdown",
      "source": [
        "Permit the notebook to access your drive"
      ],
      "metadata": {
        "id": "Stm2Nhxlso2r"
      }
    },
    {
      "cell_type": "code",
      "source": [
        "from google.colab import drive\n",
        "drive.mount('/content/drive')"
      ],
      "metadata": {
        "id": "ESXccfIu1H7u",
        "outputId": "a0bc58d6-fb68-4230-dfb5-0e3e076b9f4d",
        "colab": {
          "base_uri": "https://localhost:8080/"
        }
      },
      "execution_count": 1,
      "outputs": [
        {
          "output_type": "stream",
          "name": "stdout",
          "text": [
            "Mounted at /content/drive\n"
          ]
        }
      ]
    },
    {
      "cell_type": "code",
      "execution_count": 2,
      "metadata": {
        "id": "whJSL42iyA5S",
        "outputId": "5039c422-fdab-43ef-d52e-c42c6c702478",
        "colab": {
          "base_uri": "https://localhost:8080/"
        }
      },
      "outputs": [
        {
          "output_type": "execute_result",
          "data": {
            "text/plain": [
              "<torch._C.Generator at 0x7f49182d2a30>"
            ]
          },
          "metadata": {},
          "execution_count": 2
        }
      ],
      "source": [
        "import torch\n",
        "import torch.nn.functional as F\n",
        "from torchvision import datasets, transforms\n",
        "import numpy as np\n",
        "import torch.utils.data as utils\n",
        "import time\n",
        "import pdb\n",
        "from torch.utils.data.sampler import SubsetRandomSampler\n",
        "%matplotlib inline\n",
        "\n",
        "torch.manual_seed(1)    # reproducible"
      ]
    },
    {
      "cell_type": "markdown",
      "source": [
        "Get the dataset"
      ],
      "metadata": {
        "id": "zeTqh7pgs0JA"
      }
    },
    {
      "cell_type": "code",
      "execution_count": 3,
      "metadata": {
        "id": "zahsf3gOyA5U",
        "outputId": "781ba855-1385-4df9-9e83-56ca762ef32e",
        "colab": {
          "base_uri": "https://localhost:8080/"
        }
      },
      "outputs": [
        {
          "output_type": "stream",
          "name": "stdout",
          "text": [
            "Downloading https://www.cs.toronto.edu/~kriz/cifar-10-python.tar.gz to ../data/cifar-10-python.tar.gz\n"
          ]
        },
        {
          "output_type": "stream",
          "name": "stderr",
          "text": [
            "100%|██████████| 170M/170M [00:18<00:00, 9.32MB/s]\n"
          ]
        },
        {
          "output_type": "stream",
          "name": "stdout",
          "text": [
            "Extracting ../data/cifar-10-python.tar.gz to ../data\n",
            "Files already downloaded and verified\n"
          ]
        },
        {
          "output_type": "stream",
          "name": "stderr",
          "text": [
            "/usr/local/lib/python3.11/dist-packages/torch/utils/data/dataloader.py:617: UserWarning: This DataLoader will create 4 worker processes in total. Our suggested max number of worker in current system is 2, which is smaller than what this DataLoader is going to create. Please be aware that excessive worker creation might get DataLoader running slow or even freeze, lower the worker number to avoid potential slowness/freeze if necessary.\n",
            "  warnings.warn(\n"
          ]
        }
      ],
      "source": [
        "def get_train_valid_loader(data_dir='../data',\n",
        "                           batch_size=64,\n",
        "                           augment=False,\n",
        "                           random_seed = 1,\n",
        "                           valid_size=0.02,\n",
        "                           shuffle=True,\n",
        "                           show_sample=False,\n",
        "                           num_workers=4,\n",
        "                           pin_memory=False):\n",
        "    \"\"\"\n",
        "    Utility function for loading and returning train and valid\n",
        "    multi-process iterators over the CIFAR-10 dataset. A sample\n",
        "    9x9 grid of the images can be optionally displayed.\n",
        "    If using CUDA, num_workers should be set to 1 and pin_memory to True.\n",
        "    Params\n",
        "    ------\n",
        "    - data_dir: path directory to the dataset.\n",
        "    - batch_size: how many samples per batch to load.\n",
        "    - augment: whether to apply the data augmentation scheme\n",
        "      mentioned in the paper. Only applied on the train split.\n",
        "    - random_seed: fix seed for reproducibility.\n",
        "    - valid_size: percentage split of the training set used for\n",
        "      the validation set. Should be a float in the range [0, 1].\n",
        "    - shuffle: whether to shuffle the train/validation indices.\n",
        "    - show_sample: plot 9x9 sample grid of the dataset.\n",
        "    - num_workers: number of subprocesses to use when loading the dataset.\n",
        "    - pin_memory: whether to copy tensors into CUDA pinned memory. Set it to\n",
        "      True if using GPU.\n",
        "    Returns\n",
        "    -------\n",
        "    - train_loader: training set iterator.\n",
        "    - valid_loader: validation set iterator.\n",
        "    \"\"\"\n",
        "    error_msg = \"[!] valid_size should be in the range [0, 1].\"\n",
        "    assert ((valid_size >= 0) and (valid_size <= 1)), error_msg\n",
        "\n",
        "    normalize = transforms.Normalize(\n",
        "        mean=[0.4914, 0.4822, 0.4465],\n",
        "        std=[0.2023, 0.1994, 0.2010],\n",
        "    )\n",
        "\n",
        "    # define transforms\n",
        "    valid_transform = transforms.Compose([\n",
        "            transforms.ToTensor(),\n",
        "            normalize,\n",
        "    ])\n",
        "    if augment:\n",
        "        train_transform = transforms.Compose([\n",
        "            transforms.RandomCrop(32, padding=4),\n",
        "            transforms.RandomHorizontalFlip(),\n",
        "            transforms.ToTensor(),\n",
        "            normalize,\n",
        "        ])\n",
        "    else:\n",
        "        train_transform = transforms.Compose([\n",
        "            transforms.ToTensor(),\n",
        "            normalize,\n",
        "        ])\n",
        "\n",
        "    # load the dataset\n",
        "    train_dataset = datasets.CIFAR10(\n",
        "        root=data_dir, train=True,\n",
        "        download=True, transform=train_transform,\n",
        "    )\n",
        "\n",
        "    valid_dataset = datasets.CIFAR10(\n",
        "        root=data_dir, train=True,\n",
        "        download=True, transform=valid_transform,\n",
        "    )\n",
        "\n",
        "    num_train = len(train_dataset)\n",
        "    indices = list(range(num_train))\n",
        "    split = int(np.floor(valid_size * num_train))\n",
        "\n",
        "    if shuffle:\n",
        "        np.random.seed(random_seed)\n",
        "        np.random.shuffle(indices)\n",
        "\n",
        "    train_idx, valid_idx = indices[split:], indices[:split]\n",
        "    train_sampler = SubsetRandomSampler(train_idx)\n",
        "    valid_sampler = SubsetRandomSampler(valid_idx)\n",
        "\n",
        "    train_loader = torch.utils.data.DataLoader(\n",
        "        train_dataset, batch_size=batch_size, sampler=train_sampler,\n",
        "        num_workers=num_workers, pin_memory=pin_memory,\n",
        "    )\n",
        "    valid_loader = torch.utils.data.DataLoader(\n",
        "        valid_dataset, batch_size=batch_size, sampler=valid_sampler,\n",
        "        num_workers=num_workers, pin_memory=pin_memory,\n",
        "    )\n",
        "\n",
        "    # visualize some images\n",
        "    if show_sample:\n",
        "        sample_loader = torch.utils.data.DataLoader(\n",
        "            train_dataset, batch_size=9, shuffle=shuffle,\n",
        "            num_workers=num_workers, pin_memory=pin_memory,\n",
        "        )\n",
        "        data_iter = iter(sample_loader)\n",
        "        images, labels = data_iter.next()\n",
        "        X = images.numpy().transpose([0, 2, 3, 1])\n",
        "        plot_images(X, labels)\n",
        "\n",
        "    return (train_loader, valid_loader)\n",
        "\n",
        "trainloader, valloader = get_train_valid_loader()"
      ]
    },
    {
      "cell_type": "markdown",
      "source": [
        "Define the network"
      ],
      "metadata": {
        "id": "dr58pZjGs3fF"
      }
    },
    {
      "cell_type": "code",
      "execution_count": 4,
      "metadata": {
        "id": "OYHld_YfyA5Z"
      },
      "outputs": [],
      "source": [
        "class Net(torch.nn.Module):\n",
        "    def __init__(self, n_feature, n_hidden, n_output):\n",
        "        super(Net, self).__init__()\n",
        "\n",
        "        ################################################################################\n",
        "        # TODO:                                                                        #\n",
        "        # Define 2 or more different layers of the neural network                      #\n",
        "        ################################################################################\n",
        "        self.fc1 = torch.nn.Linear(n_feature, n_hidden)\n",
        "        self.fc2 = torch.nn.Linear(n_hidden, n_output)\n",
        "        ################################################################################\n",
        "        #                              END OF YOUR CODE                                #\n",
        "        ################################################################################\n",
        "\n",
        "\n",
        "    def forward(self, x):\n",
        "        x = x.view(x.size(0),-1)\n",
        "        ################################################################################\n",
        "        # TODO:                                                                        #\n",
        "        # Set up the forward pass that the input data will go through.                 #\n",
        "        # A good activation function betweent the layers is a ReLu function.           #\n",
        "        ################################################################################\n",
        "        x = F.relu(self.fc1(x))\n",
        "        x = self.fc2(x)\n",
        "        ################################################################################\n",
        "        #                              END OF YOUR CODE                                #\n",
        "        ################################################################################\n",
        "        return x"
      ]
    },
    {
      "cell_type": "code",
      "execution_count": 8,
      "metadata": {
        "id": "E0ynI2OZyA5a",
        "outputId": "94e1cdd9-647e-4b9e-97c4-7bf512c043b1",
        "colab": {
          "base_uri": "https://localhost:8080/"
        }
      },
      "outputs": [
        {
          "output_type": "stream",
          "name": "stdout",
          "text": [
            "Net(\n",
            "  (fc1): Linear(in_features=3072, out_features=600, bias=True)\n",
            "  (fc2): Linear(in_features=600, out_features=10, bias=True)\n",
            ")\n"
          ]
        }
      ],
      "source": [
        "################################################################################\n",
        "# TODO:                                                                        #\n",
        "# Define the parameters of the network the way you want it to be.              #\n",
        "# Choose an Optimizer that will be used to minimize the loss function.         #\n",
        "################################################################################\n",
        "net = Net(n_feature=3072, n_hidden=600, n_output=10)     # define the network\n",
        "print(net)  # net architecture\n",
        "\n",
        "# Loss and Optimizer (Try different learning rates)\n",
        "# Softmax is internally computed.\n",
        "# Set parameters to be updated.\n",
        "\n",
        "optimizer = torch.optim.SGD(net.parameters(), lr=5e-4)  # Choose the optimizer you want and tune its hyperparameter\n",
        "loss_func = torch.nn.CrossEntropyLoss()  # the target label is NOT an one-hotted\n",
        "################################################################################\n",
        "#                              END OF YOUR CODE                                #\n",
        "################################################################################"
      ]
    },
    {
      "cell_type": "code",
      "source": [
        "it = iter(trainloader)\n",
        "X_batch, y_batch = next(it)\n",
        "print(X_batch.shape)\n",
        "print(y_batch.shape)"
      ],
      "metadata": {
        "id": "4icGu--krvIk",
        "outputId": "b17ac152-30c1-407e-badf-0655a1e4601f",
        "colab": {
          "base_uri": "https://localhost:8080/"
        }
      },
      "execution_count": 9,
      "outputs": [
        {
          "output_type": "stream",
          "name": "stdout",
          "text": [
            "torch.Size([64, 3, 32, 32])\n",
            "torch.Size([64])\n"
          ]
        }
      ]
    },
    {
      "cell_type": "code",
      "execution_count": 10,
      "metadata": {
        "id": "FBUs_zOVyA5b",
        "outputId": "197d3ed0-dae6-4215-e4e8-3a309c7f354d",
        "colab": {
          "base_uri": "https://localhost:8080/"
        }
      },
      "outputs": [
        {
          "output_type": "stream",
          "name": "stderr",
          "text": [
            "<ipython-input-10-4dfc50a9f1d5>:37: UserWarning: Implicit dimension choice for softmax has been deprecated. Change the call to include dim=X as an argument.\n",
            "  _, predicted = torch.max(F.softmax(outputs).data, 1)\n"
          ]
        },
        {
          "output_type": "stream",
          "name": "stdout",
          "text": [
            "Accuracy of the network on the 1000 val images:                     15 %\n",
            "Accuracy of the network on the 1000 val images:                     16 %\n",
            "Accuracy of the network on the 1000 val images:                     18 %\n",
            "Accuracy of the network on the 1000 val images:                     21 %\n",
            "Accuracy of the network on the 1000 val images:                     22 %\n",
            "Accuracy of the network on the 1000 val images:                     23 %\n",
            "Accuracy of the network on the 1000 val images:                     24 %\n",
            "Accuracy of the network on the 1000 val images:                     24 %\n",
            "Accuracy of the network on the 1000 val images:                     25 %\n",
            "Accuracy of the network on the 1000 val images:                     25 %\n",
            "Accuracy of the network on the 1000 val images:                     26 %\n",
            "Accuracy of the network on the 1000 val images:                     26 %\n",
            "Accuracy of the network on the 1000 val images:                     26 %\n",
            "Accuracy of the network on the 1000 val images:                     26 %\n",
            "Accuracy of the network on the 1000 val images:                     27 %\n",
            "Accuracy of the network on the 1000 val images:                     27 %\n",
            "Accuracy of the network on the 1000 val images:                     27 %\n",
            "Accuracy of the network on the 1000 val images:                     27 %\n",
            "Accuracy of the network on the 1000 val images:                     27 %\n",
            "Accuracy of the network on the 1000 val images:                     28 %\n",
            "Accuracy of the network on the 1000 val images:                     28 %\n",
            "Accuracy of the network on the 1000 val images:                     29 %\n",
            "Accuracy of the network on the 1000 val images:                     29 %\n",
            "Accuracy of the network on the 1000 val images:                     29 %\n",
            "Accuracy of the network on the 1000 val images:                     30 %\n",
            "Accuracy of the network on the 1000 val images:                     30 %\n",
            "Accuracy of the network on the 1000 val images:                     30 %\n",
            "Accuracy of the network on the 1000 val images:                     30 %\n",
            "Accuracy of the network on the 1000 val images:                     30 %\n",
            "Accuracy of the network on the 1000 val images:                     30 %\n",
            "Accuracy of the network on the 1000 val images:                     31 %\n",
            "Accuracy of the network on the 1000 val images:                     31 %\n",
            "Accuracy of the network on the 1000 val images:                     31 %\n",
            "Accuracy of the network on the 1000 val images:                     31 %\n",
            "Accuracy of the network on the 1000 val images:                     32 %\n",
            "Accuracy of the network on the 1000 val images:                     32 %\n",
            "Accuracy of the network on the 1000 val images:                     32 %\n",
            "Accuracy of the network on the 1000 val images:                     32 %\n",
            "Accuracy of the network on the 1000 val images:                     33 %\n",
            "Accuracy of the network on the 1000 val images:                     32 %\n",
            "Accuracy of the network on the 1000 val images:                     33 %\n",
            "Accuracy of the network on the 1000 val images:                     33 %\n",
            "Accuracy of the network on the 1000 val images:                     32 %\n",
            "Accuracy of the network on the 1000 val images:                     33 %\n",
            "Accuracy of the network on the 1000 val images:                     33 %\n",
            "Accuracy of the network on the 1000 val images:                     33 %\n",
            "Accuracy of the network on the 1000 val images:                     33 %\n",
            "Accuracy of the network on the 1000 val images:                     33 %\n",
            "Accuracy of the network on the 1000 val images:                     33 %\n",
            "Accuracy of the network on the 1000 val images:                     33 %\n",
            "Accuracy of the network on the 1000 val images:                     33 %\n",
            "Accuracy of the network on the 1000 val images:                     34 %\n",
            "Accuracy of the network on the 1000 val images:                     33 %\n",
            "Accuracy of the network on the 1000 val images:                     33 %\n",
            "Accuracy of the network on the 1000 val images:                     33 %\n",
            "Accuracy of the network on the 1000 val images:                     34 %\n",
            "Accuracy of the network on the 1000 val images:                     34 %\n",
            "Accuracy of the network on the 1000 val images:                     34 %\n",
            "Accuracy of the network on the 1000 val images:                     34 %\n",
            "Accuracy of the network on the 1000 val images:                     34 %\n",
            "Accuracy of the network on the 1000 val images:                     34 %\n",
            "Accuracy of the network on the 1000 val images:                     34 %\n",
            "Accuracy of the network on the 1000 val images:                     35 %\n",
            "Accuracy of the network on the 1000 val images:                     35 %\n",
            "Accuracy of the network on the 1000 val images:                     35 %\n",
            "Accuracy of the network on the 1000 val images:                     35 %\n",
            "Accuracy of the network on the 1000 val images:                     34 %\n",
            "Accuracy of the network on the 1000 val images:                     35 %\n",
            "Accuracy of the network on the 1000 val images:                     36 %\n",
            "Accuracy of the network on the 1000 val images:                     35 %\n",
            "Accuracy of the network on the 1000 val images:                     35 %\n",
            "Accuracy of the network on the 1000 val images:                     35 %\n",
            "Accuracy of the network on the 1000 val images:                     36 %\n",
            "Accuracy of the network on the 1000 val images:                     35 %\n",
            "Accuracy of the network on the 1000 val images:                     35 %\n",
            "Accuracy of the network on the 1000 val images:                     36 %\n",
            "Accuracy of the network on the 1000 val images:                     36 %\n",
            "Accuracy of the network on the 1000 val images:                     35 %\n",
            "Accuracy of the network on the 1000 val images:                     36 %\n",
            "Accuracy of the network on the 1000 val images:                     36 %\n",
            "Accuracy of the network on the 1000 val images:                     35 %\n",
            "Accuracy of the network on the 1000 val images:                     35 %\n",
            "Accuracy of the network on the 1000 val images:                     36 %\n",
            "Accuracy of the network on the 1000 val images:                     36 %\n",
            "Accuracy of the network on the 1000 val images:                     36 %\n",
            "Accuracy of the network on the 1000 val images:                     36 %\n",
            "Accuracy of the network on the 1000 val images:                     36 %\n",
            "Accuracy of the network on the 1000 val images:                     36 %\n",
            "Accuracy of the network on the 1000 val images:                     36 %\n",
            "Accuracy of the network on the 1000 val images:                     36 %\n",
            "Accuracy of the network on the 1000 val images:                     36 %\n",
            "Accuracy of the network on the 1000 val images:                     36 %\n",
            "Accuracy of the network on the 1000 val images:                     36 %\n",
            "Accuracy of the network on the 1000 val images:                     37 %\n",
            "Accuracy of the network on the 1000 val images:                     37 %\n",
            "Accuracy of the network on the 1000 val images:                     37 %\n",
            "Accuracy of the network on the 1000 val images:                     36 %\n",
            "Accuracy of the network on the 1000 val images:                     37 %\n",
            "Accuracy of the network on the 1000 val images:                     37 %\n",
            "Accuracy of the network on the 1000 val images:                     37 %\n",
            "Accuracy of the network on the 1000 val images:                     37 %\n",
            "Accuracy of the network on the 1000 val images:                     37 %\n",
            "Accuracy of the network on the 1000 val images:                     37 %\n",
            "Accuracy of the network on the 1000 val images:                     37 %\n",
            "Accuracy of the network on the 1000 val images:                     37 %\n",
            "Accuracy of the network on the 1000 val images:                     37 %\n",
            "Accuracy of the network on the 1000 val images:                     37 %\n",
            "Accuracy of the network on the 1000 val images:                     37 %\n",
            "Accuracy of the network on the 1000 val images:                     37 %\n",
            "Accuracy of the network on the 1000 val images:                     37 %\n",
            "Accuracy of the network on the 1000 val images:                     38 %\n",
            "Accuracy of the network on the 1000 val images:                     37 %\n",
            "Accuracy of the network on the 1000 val images:                     37 %\n",
            "Accuracy of the network on the 1000 val images:                     38 %\n",
            "Accuracy of the network on the 1000 val images:                     37 %\n",
            "Accuracy of the network on the 1000 val images:                     37 %\n",
            "Accuracy of the network on the 1000 val images:                     38 %\n",
            "Accuracy of the network on the 1000 val images:                     38 %\n",
            "Accuracy of the network on the 1000 val images:                     37 %\n",
            "Accuracy of the network on the 1000 val images:                     38 %\n",
            "Accuracy of the network on the 1000 val images:                     38 %\n",
            "Accuracy of the network on the 1000 val images:                     38 %\n",
            "Accuracy of the network on the 1000 val images:                     38 %\n",
            "Accuracy of the network on the 1000 val images:                     37 %\n",
            "Accuracy of the network on the 1000 val images:                     37 %\n",
            "Accuracy of the network on the 1000 val images:                     37 %\n",
            "Accuracy of the network on the 1000 val images:                     37 %\n",
            "Accuracy of the network on the 1000 val images:                     37 %\n",
            "Accuracy of the network on the 1000 val images:                     37 %\n",
            "Accuracy of the network on the 1000 val images:                     38 %\n",
            "Accuracy of the network on the 1000 val images:                     38 %\n",
            "Accuracy of the network on the 1000 val images:                     38 %\n",
            "Accuracy of the network on the 1000 val images:                     38 %\n",
            "Accuracy of the network on the 1000 val images:                     38 %\n",
            "Accuracy of the network on the 1000 val images:                     38 %\n",
            "Accuracy of the network on the 1000 val images:                     38 %\n",
            "Accuracy of the network on the 1000 val images:                     38 %\n",
            "Accuracy of the network on the 1000 val images:                     38 %\n",
            "Accuracy of the network on the 1000 val images:                     38 %\n",
            "Accuracy of the network on the 1000 val images:                     38 %\n",
            "Accuracy of the network on the 1000 val images:                     38 %\n",
            "Accuracy of the network on the 1000 val images:                     38 %\n",
            "Accuracy of the network on the 1000 val images:                     38 %\n",
            "Accuracy of the network on the 1000 val images:                     38 %\n",
            "Accuracy of the network on the 1000 val images:                     37 %\n",
            "Accuracy of the network on the 1000 val images:                     38 %\n",
            "Accuracy of the network on the 1000 val images:                     38 %\n",
            "Accuracy of the network on the 1000 val images:                     38 %\n",
            "Accuracy of the network on the 1000 val images:                     38 %\n",
            "Accuracy of the network on the 1000 val images:                     38 %\n",
            "Accuracy of the network on the 1000 val images:                     38 %\n",
            "Accuracy of the network on the 1000 val images:                     39 %\n",
            "Accuracy of the network on the 1000 val images:                     39 %\n",
            "Accuracy of the network on the 1000 val images:                     38 %\n",
            "Accuracy of the network on the 1000 val images:                     38 %\n",
            "Accuracy of the network on the 1000 val images:                     38 %\n",
            "Accuracy of the network on the 1000 val images:                     38 %\n",
            "Accuracy of the network on the 1000 val images:                     38 %\n",
            "Accuracy of the network on the 1000 val images:                     38 %\n",
            "Accuracy of the network on the 1000 val images:                     38 %\n",
            "Accuracy of the network on the 1000 val images:                     38 %\n",
            "Accuracy of the network on the 1000 val images:                     38 %\n",
            "Accuracy of the network on the 1000 val images:                     39 %\n",
            "Accuracy of the network on the 1000 val images:                     38 %\n",
            "Accuracy of the network on the 1000 val images:                     38 %\n",
            "Accuracy of the network on the 1000 val images:                     39 %\n",
            "Accuracy of the network on the 1000 val images:                     39 %\n",
            "Accuracy of the network on the 1000 val images:                     39 %\n",
            "Accuracy of the network on the 1000 val images:                     39 %\n",
            "Accuracy of the network on the 1000 val images:                     39 %\n",
            "Accuracy of the network on the 1000 val images:                     40 %\n",
            "Accuracy of the network on the 1000 val images:                     40 %\n",
            "Accuracy of the network on the 1000 val images:                     40 %\n",
            "Accuracy of the network on the 1000 val images:                     39 %\n",
            "Accuracy of the network on the 1000 val images:                     39 %\n",
            "Accuracy of the network on the 1000 val images:                     40 %\n",
            "Accuracy of the network on the 1000 val images:                     39 %\n",
            "Accuracy of the network on the 1000 val images:                     39 %\n",
            "Accuracy of the network on the 1000 val images:                     39 %\n",
            "Accuracy of the network on the 1000 val images:                     39 %\n",
            "Accuracy of the network on the 1000 val images:                     39 %\n",
            "Accuracy of the network on the 1000 val images:                     39 %\n",
            "Accuracy of the network on the 1000 val images:                     39 %\n",
            "Accuracy of the network on the 1000 val images:                     39 %\n",
            "Accuracy of the network on the 1000 val images:                     39 %\n",
            "Accuracy of the network on the 1000 val images:                     39 %\n",
            "Accuracy of the network on the 1000 val images:                     40 %\n",
            "Accuracy of the network on the 1000 val images:                     39 %\n",
            "Accuracy of the network on the 1000 val images:                     40 %\n",
            "Accuracy of the network on the 1000 val images:                     40 %\n",
            "Accuracy of the network on the 1000 val images:                     40 %\n",
            "Accuracy of the network on the 1000 val images:                     40 %\n",
            "Accuracy of the network on the 1000 val images:                     40 %\n",
            "Accuracy of the network on the 1000 val images:                     40 %\n",
            "Accuracy of the network on the 1000 val images:                     39 %\n",
            "Accuracy of the network on the 1000 val images:                     39 %\n",
            "Accuracy of the network on the 1000 val images:                     40 %\n",
            "Accuracy of the network on the 1000 val images:                     40 %\n",
            "Accuracy of the network on the 1000 val images:                     40 %\n",
            "Accuracy of the network on the 1000 val images:                     40 %\n",
            "Accuracy of the network on the 1000 val images:                     40 %\n",
            "Accuracy of the network on the 1000 val images:                     40 %\n",
            "Accuracy of the network on the 1000 val images:                     40 %\n",
            "Accuracy of the network on the 1000 val images:                     40 %\n",
            "Accuracy of the network on the 1000 val images:                     40 %\n",
            "Accuracy of the network on the 1000 val images:                     40 %\n",
            "Accuracy of the network on the 1000 val images:                     40 %\n",
            "Accuracy of the network on the 1000 val images:                     40 %\n",
            "Accuracy of the network on the 1000 val images:                     40 %\n",
            "Accuracy of the network on the 1000 val images:                     40 %\n",
            "Accuracy of the network on the 1000 val images:                     40 %\n",
            "Accuracy of the network on the 1000 val images:                     40 %\n",
            "Accuracy of the network on the 1000 val images:                     41 %\n",
            "Accuracy of the network on the 1000 val images:                     40 %\n",
            "Accuracy of the network on the 1000 val images:                     41 %\n",
            "Accuracy of the network on the 1000 val images:                     40 %\n",
            "Accuracy of the network on the 1000 val images:                     40 %\n",
            "Accuracy of the network on the 1000 val images:                     41 %\n",
            "Accuracy of the network on the 1000 val images:                     40 %\n",
            "Accuracy of the network on the 1000 val images:                     40 %\n",
            "Accuracy of the network on the 1000 val images:                     40 %\n",
            "Accuracy of the network on the 1000 val images:                     40 %\n",
            "Accuracy of the network on the 1000 val images:                     40 %\n",
            "Accuracy of the network on the 1000 val images:                     41 %\n",
            "Accuracy of the network on the 1000 val images:                     40 %\n",
            "Accuracy of the network on the 1000 val images:                     41 %\n",
            "Accuracy of the network on the 1000 val images:                     40 %\n",
            "Accuracy of the network on the 1000 val images:                     40 %\n",
            "Accuracy of the network on the 1000 val images:                     40 %\n",
            "Accuracy of the network on the 1000 val images:                     40 %\n",
            "Accuracy of the network on the 1000 val images:                     40 %\n",
            "Accuracy of the network on the 1000 val images:                     40 %\n",
            "Accuracy of the network on the 1000 val images:                     40 %\n",
            "Accuracy of the network on the 1000 val images:                     40 %\n",
            "Accuracy of the network on the 1000 val images:                     40 %\n",
            "Accuracy of the network on the 1000 val images:                     40 %\n",
            "Accuracy of the network on the 1000 val images:                     40 %\n",
            "Accuracy of the network on the 1000 val images:                     41 %\n",
            "Accuracy of the network on the 1000 val images:                     40 %\n",
            "Accuracy of the network on the 1000 val images:                     41 %\n",
            "Accuracy of the network on the 1000 val images:                     41 %\n",
            "Accuracy of the network on the 1000 val images:                     40 %\n",
            "Accuracy of the network on the 1000 val images:                     41 %\n",
            "Accuracy of the network on the 1000 val images:                     40 %\n",
            "Accuracy of the network on the 1000 val images:                     40 %\n",
            "Accuracy of the network on the 1000 val images:                     41 %\n",
            "Accuracy of the network on the 1000 val images:                     41 %\n",
            "Accuracy of the network on the 1000 val images:                     41 %\n",
            "Accuracy of the network on the 1000 val images:                     41 %\n",
            "Accuracy of the network on the 1000 val images:                     41 %\n",
            "Accuracy of the network on the 1000 val images:                     41 %\n",
            "Accuracy of the network on the 1000 val images:                     41 %\n",
            "Accuracy of the network on the 1000 val images:                     41 %\n",
            "Accuracy of the network on the 1000 val images:                     40 %\n",
            "Accuracy of the network on the 1000 val images:                     41 %\n",
            "Accuracy of the network on the 1000 val images:                     41 %\n",
            "Accuracy of the network on the 1000 val images:                     41 %\n",
            "Accuracy of the network on the 1000 val images:                     41 %\n",
            "Accuracy of the network on the 1000 val images:                     41 %\n",
            "Accuracy of the network on the 1000 val images:                     40 %\n",
            "Accuracy of the network on the 1000 val images:                     41 %\n",
            "Accuracy of the network on the 1000 val images:                     41 %\n",
            "Accuracy of the network on the 1000 val images:                     41 %\n",
            "Accuracy of the network on the 1000 val images:                     41 %\n",
            "Accuracy of the network on the 1000 val images:                     41 %\n",
            "Accuracy of the network on the 1000 val images:                     41 %\n",
            "Accuracy of the network on the 1000 val images:                     41 %\n",
            "Accuracy of the network on the 1000 val images:                     41 %\n",
            "Accuracy of the network on the 1000 val images:                     41 %\n",
            "Accuracy of the network on the 1000 val images:                     41 %\n",
            "Accuracy of the network on the 1000 val images:                     41 %\n",
            "Accuracy of the network on the 1000 val images:                     41 %\n",
            "Accuracy of the network on the 1000 val images:                     41 %\n",
            "Accuracy of the network on the 1000 val images:                     41 %\n",
            "Accuracy of the network on the 1000 val images:                     41 %\n",
            "Accuracy of the network on the 1000 val images:                     41 %\n",
            "Accuracy of the network on the 1000 val images:                     41 %\n",
            "Accuracy of the network on the 1000 val images:                     41 %\n",
            "Accuracy of the network on the 1000 val images:                     42 %\n",
            "Accuracy of the network on the 1000 val images:                     41 %\n",
            "Accuracy of the network on the 1000 val images:                     41 %\n",
            "Accuracy of the network on the 1000 val images:                     42 %\n",
            "Accuracy of the network on the 1000 val images:                     42 %\n",
            "Accuracy of the network on the 1000 val images:                     42 %\n",
            "Accuracy of the network on the 1000 val images:                     42 %\n",
            "Accuracy of the network on the 1000 val images:                     41 %\n",
            "Accuracy of the network on the 1000 val images:                     42 %\n",
            "Accuracy of the network on the 1000 val images:                     42 %\n",
            "Accuracy of the network on the 1000 val images:                     41 %\n",
            "Accuracy of the network on the 1000 val images:                     42 %\n",
            "Accuracy of the network on the 1000 val images:                     41 %\n",
            "Accuracy of the network on the 1000 val images:                     41 %\n",
            "Accuracy of the network on the 1000 val images:                     41 %\n",
            "Accuracy of the network on the 1000 val images:                     41 %\n",
            "Accuracy of the network on the 1000 val images:                     42 %\n",
            "Accuracy of the network on the 1000 val images:                     41 %\n",
            "Accuracy of the network on the 1000 val images:                     42 %\n",
            "Accuracy of the network on the 1000 val images:                     42 %\n",
            "Accuracy of the network on the 1000 val images:                     42 %\n",
            "Accuracy of the network on the 1000 val images:                     42 %\n",
            "Accuracy of the network on the 1000 val images:                     42 %\n",
            "Accuracy of the network on the 1000 val images:                     42 %\n",
            "Accuracy of the network on the 1000 val images:                     42 %\n",
            "Accuracy of the network on the 1000 val images:                     41 %\n",
            "Accuracy of the network on the 1000 val images:                     41 %\n",
            "Accuracy of the network on the 1000 val images:                     41 %\n",
            "Accuracy of the network on the 1000 val images:                     41 %\n",
            "Accuracy of the network on the 1000 val images:                     42 %\n",
            "Accuracy of the network on the 1000 val images:                     42 %\n",
            "Accuracy of the network on the 1000 val images:                     41 %\n",
            "Accuracy of the network on the 1000 val images:                     42 %\n",
            "Accuracy of the network on the 1000 val images:                     42 %\n",
            "Accuracy of the network on the 1000 val images:                     42 %\n",
            "Accuracy of the network on the 1000 val images:                     42 %\n",
            "Accuracy of the network on the 1000 val images:                     42 %\n",
            "Accuracy of the network on the 1000 val images:                     42 %\n",
            "Accuracy of the network on the 1000 val images:                     42 %\n",
            "Accuracy of the network on the 1000 val images:                     42 %\n",
            "Accuracy of the network on the 1000 val images:                     42 %\n",
            "Accuracy of the network on the 1000 val images:                     42 %\n",
            "Accuracy of the network on the 1000 val images:                     42 %\n",
            "Accuracy of the network on the 1000 val images:                     42 %\n",
            "Accuracy of the network on the 1000 val images:                     42 %\n",
            "Accuracy of the network on the 1000 val images:                     42 %\n",
            "Accuracy of the network on the 1000 val images:                     42 %\n",
            "Accuracy of the network on the 1000 val images:                     42 %\n",
            "Accuracy of the network on the 1000 val images:                     42 %\n",
            "Accuracy of the network on the 1000 val images:                     42 %\n",
            "Accuracy of the network on the 1000 val images:                     42 %\n",
            "Accuracy of the network on the 1000 val images:                     42 %\n",
            "Accuracy of the network on the 1000 val images:                     42 %\n",
            "Accuracy of the network on the 1000 val images:                     42 %\n",
            "Accuracy of the network on the 1000 val images:                     43 %\n",
            "Accuracy of the network on the 1000 val images:                     42 %\n",
            "Accuracy of the network on the 1000 val images:                     43 %\n",
            "Accuracy of the network on the 1000 val images:                     42 %\n",
            "Accuracy of the network on the 1000 val images:                     43 %\n",
            "Accuracy of the network on the 1000 val images:                     42 %\n",
            "Accuracy of the network on the 1000 val images:                     42 %\n",
            "Accuracy of the network on the 1000 val images:                     42 %\n",
            "Accuracy of the network on the 1000 val images:                     42 %\n",
            "Accuracy of the network on the 1000 val images:                     42 %\n",
            "Accuracy of the network on the 1000 val images:                     42 %\n",
            "Accuracy of the network on the 1000 val images:                     42 %\n",
            "Accuracy of the network on the 1000 val images:                     42 %\n",
            "Accuracy of the network on the 1000 val images:                     42 %\n",
            "Accuracy of the network on the 1000 val images:                     43 %\n",
            "Accuracy of the network on the 1000 val images:                     43 %\n",
            "Accuracy of the network on the 1000 val images:                     43 %\n",
            "Accuracy of the network on the 1000 val images:                     42 %\n",
            "Accuracy of the network on the 1000 val images:                     42 %\n",
            "Accuracy of the network on the 1000 val images:                     42 %\n",
            "Accuracy of the network on the 1000 val images:                     43 %\n",
            "Accuracy of the network on the 1000 val images:                     42 %\n",
            "Accuracy of the network on the 1000 val images:                     42 %\n",
            "Accuracy of the network on the 1000 val images:                     42 %\n",
            "Accuracy of the network on the 1000 val images:                     42 %\n",
            "Accuracy of the network on the 1000 val images:                     42 %\n",
            "Accuracy of the network on the 1000 val images:                     42 %\n",
            "Accuracy of the network on the 1000 val images:                     42 %\n",
            "Accuracy of the network on the 1000 val images:                     42 %\n",
            "Accuracy of the network on the 1000 val images:                     43 %\n",
            "Accuracy of the network on the 1000 val images:                     43 %\n",
            "Accuracy of the network on the 1000 val images:                     42 %\n",
            "Accuracy of the network on the 1000 val images:                     42 %\n",
            "Accuracy of the network on the 1000 val images:                     42 %\n",
            "Accuracy of the network on the 1000 val images:                     43 %\n",
            "Accuracy of the network on the 1000 val images:                     43 %\n",
            "Accuracy of the network on the 1000 val images:                     42 %\n",
            "Accuracy of the network on the 1000 val images:                     42 %\n",
            "Accuracy of the network on the 1000 val images:                     42 %\n",
            "Accuracy of the network on the 1000 val images:                     42 %\n",
            "Accuracy of the network on the 1000 val images:                     43 %\n",
            "Accuracy of the network on the 1000 val images:                     43 %\n",
            "Accuracy of the network on the 1000 val images:                     43 %\n",
            "Accuracy of the network on the 1000 val images:                     43 %\n",
            "Accuracy of the network on the 1000 val images:                     43 %\n",
            "Accuracy of the network on the 1000 val images:                     43 %\n",
            "Accuracy of the network on the 1000 val images:                     43 %\n",
            "Accuracy of the network on the 1000 val images:                     43 %\n",
            "Accuracy of the network on the 1000 val images:                     43 %\n",
            "Accuracy of the network on the 1000 val images:                     43 %\n",
            "Accuracy of the network on the 1000 val images:                     43 %\n"
          ]
        }
      ],
      "source": [
        "#traindataset = utils.TensorDataset(X_train, y_train)\n",
        "#trainloader = utils.DataLoader(traindataset, batch_size=64, shuffle=True)\n",
        "\n",
        "epochs = 10\n",
        "steps = 0\n",
        "print_every = 20\n",
        "for e in range(epochs):\n",
        "    start = time.time()\n",
        "    for images, labels in iter(trainloader):\n",
        "        steps += 1\n",
        "        ################################################################################\n",
        "        # TODO:                                                                        #\n",
        "        # Run the training process                                                     #\n",
        "        #                                                                              #\n",
        "        ################################################################################\n",
        "        optimizer.zero_grad()\n",
        "        # no need to resize images, since it is done inside the forward() method.\n",
        "        logits = net(images)  # net is an instance of torch.nn.Module, this will invoke __call__ and eventually\n",
        "        # it will call the forward method on images.\n",
        "        loss = loss_func(logits, labels)\n",
        "        loss.backward()\n",
        "        optimizer.step()\n",
        "        ################################################################################\n",
        "        #                              END OF YOUR CODE                                #\n",
        "        ################################################################################\n",
        "\n",
        "        if steps % print_every == 0:\n",
        "                stop = time.time()\n",
        "                # Test accuracy\n",
        "                net.eval()\n",
        "                correct = 0\n",
        "                total = 0\n",
        "                with torch.no_grad():\n",
        "                    for data in valloader:\n",
        "                          images, labels = data\n",
        "                          outputs = net(images)\n",
        "                          _, predicted = torch.max(F.softmax(outputs).data, 1)\n",
        "                          total += labels.size(0)\n",
        "                          correct += (predicted == labels).sum().item()\n",
        "\n",
        "                    print('Accuracy of the network on the %d val images: \\\n",
        "                    %d %%' % (total,100 * correct / total))\n",
        "\n",
        "                start = time.time()"
      ]
    },
    {
      "cell_type": "markdown",
      "metadata": {
        "id": "7gx02lf4yA5c"
      },
      "source": [
        "After training, the model should be saved to be tested on the test dataset or to be used in a real-life application. To save your model in pytorch:"
      ]
    },
    {
      "cell_type": "code",
      "execution_count": 11,
      "metadata": {
        "id": "cTzmX0nZyA5c"
      },
      "outputs": [],
      "source": [
        "torch.save(net.state_dict(), 'drive/MyDrive/Colab Notebooks/linearClassifier_pytorch.ckpt')"
      ]
    },
    {
      "cell_type": "markdown",
      "metadata": {
        "id": "JdGRq6H7yA5d"
      },
      "source": [
        "Remeber the above path. You need to load your trained model in another notebook:"
      ]
    },
    {
      "cell_type": "code",
      "execution_count": 12,
      "metadata": {
        "id": "Y0q1qkYsyA5e",
        "outputId": "d2678211-f734-40e9-85e3-8882be0e7256",
        "colab": {
          "base_uri": "https://localhost:8080/"
        }
      },
      "outputs": [
        {
          "output_type": "stream",
          "name": "stderr",
          "text": [
            "<ipython-input-12-d44a4b42381a>:1: FutureWarning: You are using `torch.load` with `weights_only=False` (the current default value), which uses the default pickle module implicitly. It is possible to construct malicious pickle data which will execute arbitrary code during unpickling (See https://github.com/pytorch/pytorch/blob/main/SECURITY.md#untrusted-models for more details). In a future release, the default value for `weights_only` will be flipped to `True`. This limits the functions that could be executed during unpickling. Arbitrary objects will no longer be allowed to be loaded via this mode unless they are explicitly allowlisted by the user via `torch.serialization.add_safe_globals`. We recommend you start setting `weights_only=True` for any use case where you don't have full control of the loaded file. Please open an issue on GitHub for any issues related to this experimental feature.\n",
            "  checkpoint = torch.load(\"drive/MyDrive/Colab Notebooks/linearClassifier_pytorch.ckpt\")\n"
          ]
        },
        {
          "output_type": "execute_result",
          "data": {
            "text/plain": [
              "<All keys matched successfully>"
            ]
          },
          "metadata": {},
          "execution_count": 12
        }
      ],
      "source": [
        "checkpoint = torch.load(\"drive/MyDrive/Colab Notebooks/linearClassifier_pytorch.ckpt\")\n",
        "net.load_state_dict(checkpoint)"
      ]
    }
  ],
  "metadata": {
    "kernelspec": {
      "display_name": "Python 3",
      "language": "python",
      "name": "python3"
    },
    "language_info": {
      "codemirror_mode": {
        "name": "ipython",
        "version": 3
      },
      "file_extension": ".py",
      "mimetype": "text/x-python",
      "name": "python",
      "nbconvert_exporter": "python",
      "pygments_lexer": "ipython3",
      "version": "3.7.0"
    },
    "nteract": {
      "version": "0.12.3"
    },
    "colab": {
      "name": "Linear Classification pytorch.ipynb",
      "provenance": []
    }
  },
  "nbformat": 4,
  "nbformat_minor": 0
}
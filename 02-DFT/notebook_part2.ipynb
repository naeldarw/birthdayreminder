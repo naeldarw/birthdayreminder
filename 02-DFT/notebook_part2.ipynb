{
  "cells": [
    {
      "cell_type": "markdown",
      "metadata": {
        "editable": true,
        "tags": [],
        "id": "FM2Zbl-AM6qS"
      },
      "source": [
        "<div style=\"margin: 0 auto 30px; height: 60px; border: 2px solid gray; border-radius: 6px;\">\n",
        "  <div style=\"float: left;\"><img src=\"https://github.com/LCAV/COM202/blob/main/02-DFT/img/epfl.png?raw=1\" /></div>\n",
        "  <div style=\"float: right; margin: 20px 30px 0; font-size: 10pt; font-weight: bold;\"><a href=\"https://moodle.epfl.ch/course/view.php?id=18253\">COM202 - Signal Processing</a></div>\n",
        "</div>\n",
        "<div style=\"clear: both; font-size: 30pt; font-weight: bold; color: #483D8B;\">\n",
        "    Lab 2.B: the DFT: implementation, frequency plots, applications\n",
        "</div>"
      ]
    },
    {
      "cell_type": "markdown",
      "metadata": {
        "editable": true,
        "tags": [],
        "id": "zz62WubZM6qV"
      },
      "source": [
        "In this two-part notebook we will study the properties and the applications of the Discrete Fourier Transform (DFT), arguably the most important analysis tool in digital signal processing.\n",
        "\n",
        "In this second part we will focus on more practical aspects of the DFT:\n",
        " * we will look at the DFT as a numerical algorithm that we can implement\n",
        " * we will study how to plot the DFT coefficients\n",
        " * we will look at the achievable frequency resolution and frequency identification\n",
        "\n",
        "At the end of this lab you should be able to\n",
        "- understand how to plot and interpret the spectrum of a signal\n",
        "- understand how to apply the DFT to real-world signals"
      ]
    },
    {
      "cell_type": "code",
      "execution_count": 1,
      "metadata": {
        "editable": true,
        "tags": [],
        "id": "gOq8VFQDM6qW"
      },
      "outputs": [],
      "source": [
        "# Import necessary libraries\n",
        "import numpy as np\n",
        "import matplotlib.pyplot as plt\n",
        "import matplotlib.patches as patches\n",
        "import ipywidgets as wg\n",
        "\n",
        "plt.rcParams[\"figure.figsize\"] = (12,3)"
      ]
    },
    {
      "cell_type": "code",
      "execution_count": 2,
      "metadata": {
        "editable": true,
        "jupyter": {
          "source_hidden": true
        },
        "tags": [],
        "id": "h-IdrmHfM6qX"
      },
      "outputs": [],
      "source": [
        "# These are helper functions for the interactive plots used later in the notebook. No need to study or understand\n",
        "#  the code unless you are interested in advanced plotting and interactive widgets\n",
        "\n",
        "UC_LIM = 1.4\n",
        "UC_ARW = 0.1\n",
        "UC_ARC = 0.8\n",
        "UC_TXT = 1.2\n",
        "UC_PSZ = 5\n",
        "\n",
        "def wcolor(w):\n",
        "    if np.isclose(w, 0) or np.isclose(w, np.pi):\n",
        "        return 'C0'\n",
        "    elif w > 0:\n",
        "        return 'C2'\n",
        "    else:\n",
        "        return 'C3'\n",
        "\n",
        "def arc(a=0, b=2*np.pi, r=1, pts=60, col='C0', arrow=False):\n",
        "    theta = np.linspace(a, b, pts)\n",
        "    plt.plot(r * np.cos(theta), r * np.sin(theta), color=col, linewidth=2)\n",
        "    if arrow:\n",
        "        d = np.sign(b) * UC_ARW\n",
        "        x = r * np.array([np.cos(b-d), np.sin(b-d)])\n",
        "        y = r * np.array([np.cos(b), np.sin(b)]) - x\n",
        "        plt.arrow(*x, *y, shape='full', lw=1, length_includes_head=True, head_width=.08, color=col)\n",
        "\n",
        "def ucsetup():\n",
        "    plt.gcf().set_figheight(UC_PSZ)\n",
        "    plt.gca().set_aspect('equal', 'box')\n",
        "    plt.gca().set(xlim=(-UC_LIM, UC_LIM), ylim=(-UC_LIM, UC_LIM))\n",
        "    plt.axvline(0, linewidth=0.8, color='k')\n",
        "    plt.axhline(0, linewidth=0.8, color='k')\n",
        "    plt.axis('off')\n",
        "    arc()\n",
        "\n",
        "def ucpoint(w, lb='', col='C2'):\n",
        "    x, y = np.cos(w), np.sin(w)\n",
        "    plt.plot([0, x], [0, y], color=col)\n",
        "    plt.plot(x, y, 'o', color=col)\n",
        "    plt.text(UC_TXT * x, UC_TXT * y, lb, ha='center', va='bottom' if np.round(y)==0 else 'center')\n",
        "\n",
        "def ctspin(w):\n",
        "    w = np.fmod(w, 2 * np.pi)\n",
        "    ucsetup()\n",
        "    ucpoint(w, f'$e^{{j\\\\theta}}$', wcolor(w))\n",
        "    arc(0, w, r=UC_ARC, col='C1', arrow=True)\n",
        "    return w\n",
        "\n",
        "def dtspin(N, k, n=None):\n",
        "    ucsetup()\n",
        "    w = 2 * np.pi / N * k\n",
        "    for m in range(n+1 if n is not None else N):\n",
        "        ucpoint(w * m, f'$w_{{{k}}}[{m}]$', wcolor(np.pi - w))\n",
        "    ab = [0, w] if n is None else [w * (n-1), w * n]\n",
        "    arc(*ab, r=UC_ARC, col='C1', arrow=True)\n",
        "\n",
        "def ccspin(N, k, n=1):\n",
        "    ucsetup()\n",
        "    w = 2 * np.pi / N * k * n\n",
        "    ucpoint(w, f'$w_{{{k}}}[{n}]$')\n",
        "    ucpoint(-w, f'$w_{{{N-k}}}[{n}]$', 'C3')\n",
        "    plt.plot([np.cos(w), np.cos(w)], [np.sin(w), -np.sin(w)], 'C6')\n",
        "    plt.plot([np.cos(w), np.cos(w)], [np.sin(w), -np.sin(w)], 'oC6')\n",
        "    plt.plot([0, np.cos(w)], [0, 0], 'C9')\n",
        "    plt.plot(np.cos(w), 0, 'oC9')\n",
        "\n",
        "def show_cex(N:int, k:int):\n",
        "    w = 2 * np.pi / N * k\n",
        "    cex = np.round(np.exp(1j * w * np.arange(N)), 3)\n",
        "    plt.subplot(1,2,1)\n",
        "    ucsetup()\n",
        "    arc(0, w, r=UC_ARC, col='C1', arrow=True)\n",
        "    pts = {np.round(np.fmod(w * n, 2 * np.pi), 2): n for n in range(N-1,-1,-1)}\n",
        "    for p, n in pts.items():\n",
        "        ucpoint(n * w, f'$w_{{{k}}}[{n}]$', 'C2' if n < 2 else 'lightgray')\n",
        "    plt.subplot(2,2,2)\n",
        "    plt.stem(cex.real)\n",
        "    plt.title(f'$\\\\mathrm{{Re}}\\\\{{\\\\mathbf{{w}}_{{{k}}}\\\\}} = \\\\mathbf{{c}}_{{{k}}}$')\n",
        "    plt.subplot(2,2,4)\n",
        "    plt.stem(cex.imag)\n",
        "    plt.title(f'$\\\\mathrm{{Im}}\\\\{{\\\\mathbf{{w}}_{{{k}}}\\\\}} = \\\\mathbf{{s}}_{{{k}}}$')\n",
        "    plt.tight_layout()\n",
        "\n",
        "def show_freqs(N:int):\n",
        "    ucsetup()\n",
        "    for k in range(N):\n",
        "        w = 2 * np.pi / N * k\n",
        "        if k < N / 2:\n",
        "            ucpoint(w, f'$\\\\omega_{{{k}}}$', wcolor(w))\n",
        "        elif k == N / 2:\n",
        "            ucpoint(np.pi, f'$\\\\omega_{{{k}}} = \\\\pi$', wcolor(0))\n",
        "        else:\n",
        "            ucpoint(w, f'$\\\\omega_{{{k}}} = -\\\\omega_{{{N-k}}}$', wcolor(np.pi - w))\n",
        "    plt.title(f'$N = {N}$')\n",
        "\n",
        "def display_sbs(interactive_widget):\n",
        "    c = interactive_widget.children\n",
        "    controls = wg.HBox(c[:-1], layout=wg.Layout(align_items='center'))\n",
        "    return display(wg.HBox([controls, c[-1]]))"
      ]
    },
    {
      "cell_type": "markdown",
      "metadata": {
        "editable": true,
        "tags": [],
        "id": "lXFS4_9RM6qY"
      },
      "source": [
        "# Introduction\n",
        "\n",
        "The first part of this lab addressed the fundamental idea of Fourier analysis: signals can be decomposed into elementary sinusoidal components with no loss of information and this transformation of a signal from the time domain to the frequency domain is efficiently described by means of a family of harmonic complex exponentials.\n",
        "\n",
        "In this second part we will move to more practical aspects of Fourier analysis for finite-length signals. We begin by defining here as well a few test signals used in later examples."
      ]
    },
    {
      "cell_type": "markdown",
      "metadata": {
        "editable": true,
        "tags": [],
        "id": "_-Do4N0yM6qZ"
      },
      "source": [
        "## Test signals\n",
        "\n",
        "In part 1 of this two-part notebook we introduced two test signals, the square wave and the triangular wave, whose generating functions are as follows:"
      ]
    },
    {
      "cell_type": "code",
      "execution_count": 3,
      "metadata": {
        "editable": true,
        "tags": [],
        "id": "aDkrLAdDM6qZ"
      },
      "outputs": [],
      "source": [
        "def sqw(N: int, n: np.ndarray=None) -> np.ndarray:\n",
        "    n = np.arange(N) if n is None else n\n",
        "    return np.sign(np.mod(n, N/2)) * np.sign(N/2 - np.mod(n, N))\n",
        "\n",
        "def tri(N: int, n: np.ndarray=None) -> np.ndarray:\n",
        "    n = np.arange(N) if n is None else n\n",
        "    return (4 / N) * np.abs(np.mod(n, N) - N / 2) - 1"
      ]
    },
    {
      "cell_type": "markdown",
      "metadata": {
        "editable": true,
        "tags": [],
        "id": "YPiUTla7M6qZ"
      },
      "source": [
        "In this part we will also use a third test signal, a linear ramp going from -1 to +1 over $N$ samples; note that $N$ is no longer assumed to be even. The ramp can be made $N$-periodic, in which case the resulting signal is often called a \"sawtooth\" wave."
      ]
    },
    {
      "cell_type": "code",
      "execution_count": 8,
      "metadata": {
        "editable": true,
        "tags": [],
        "colab": {
          "base_uri": "https://localhost:8080/",
          "height": 291
        },
        "id": "dKNHeZF6M6qa",
        "outputId": "aa8153bf-a5b8-4c87-814a-c51fb3dd411d"
      },
      "outputs": [
        {
          "output_type": "display_data",
          "data": {
            "text/plain": [
              "<Figure size 1200x300 with 1 Axes>"
            ],
            "image/png": "[encoded data removed]"
          },
          "metadata": {}
        }
      ],
      "source": [
        "N = 64\n",
        "plt.stem(sqw(N));"
      ]
    },
    {
      "cell_type": "code",
      "execution_count": 9,
      "metadata": {
        "editable": true,
        "tags": [],
        "colab": {
          "base_uri": "https://localhost:8080/",
          "height": 291
        },
        "id": "WkhFMNgcM6qa",
        "outputId": "71ba4060-9163-4a4c-9af1-41c52e9fb65c"
      },
      "outputs": [
        {
          "output_type": "display_data",
          "data": {
            "text/plain": [
              "<Figure size 1200x300 with 1 Axes>"
            ],
            "image/png": "[encoded data removed]"
          },
          "metadata": {}
        }
      ],
      "source": [
        "plt.stem(tri(N));"
      ]
    },
    {
      "cell_type": "code",
      "execution_count": 10,
      "metadata": {
        "editable": true,
        "tags": [],
        "id": "i9ch4EcgM6qb"
      },
      "outputs": [],
      "source": [
        "def ramp(N:int, n: np.ndarray=None) -> np.ndarray:\n",
        "    n = np.arange(N) if n is None else n\n",
        "    return 2 * np.mod(n, N) / (N-1) - 1"
      ]
    },
    {
      "cell_type": "code",
      "execution_count": 11,
      "metadata": {
        "editable": true,
        "tags": [],
        "colab": {
          "base_uri": "https://localhost:8080/",
          "height": 291
        },
        "id": "jqP1z4LTM6qb",
        "outputId": "7c8005ab-0893-4397-8f59-829eaa62a3e6"
      },
      "outputs": [
        {
          "output_type": "display_data",
          "data": {
            "text/plain": [
              "<Figure size 1200x300 with 1 Axes>"
            ],
            "image/png": "[encoded data removed]"
          },
          "metadata": {}
        }
      ],
      "source": [
        "plt.stem(ramp(N));"
      ]
    },
    {
      "cell_type": "markdown",
      "metadata": {
        "editable": true,
        "tags": [],
        "id": "4R2UIluoM6qb"
      },
      "source": [
        "# The DFT\n",
        "\n",
        "Let $W_N = \\{\\mathbf{w}_k\\}_{0 \\le k < N}$ be the family of complex-valued harmonic oscillations of length $N$ defined as\n",
        "$$\n",
        "    w_k[n] = e^{j\\omega_k n}, \\quad \\omega_k = \\frac{2\\pi}{N}k.\n",
        "$$\n",
        "Any length-$N$ signal $\\mathbf{x}$ can be expressed as the linear combination\n",
        "$$\n",
        "    \\mathbf{x} = \\frac{1}{N} \\sum_{k=0}^{N-1} X[k] \\mathbf{w}_k;\n",
        "$$\n",
        "the vector of $N$ complex-valued coefficients $\\mathbf{X}$ is called the Discrete Fourier Transform of $\\mathbf{x}$ and it can be computed as\n",
        "$$\n",
        "  \\mathbf{X} = \\sum^{N-1}_{n=0} x[n] \\mathbf{w}^*_n.\n",
        "$$\n",
        "\n",
        "The proof of this result is based on the orthogonality of the elements in $W_N$ and can be found in any textbook."
      ]
    },
    {
      "cell_type": "markdown",
      "metadata": {
        "editable": true,
        "tags": [],
        "id": "9eHyG5YiM6qc"
      },
      "source": [
        "## Algorithmic implementation\n",
        "\n",
        "Using the definitions for the elements $\\mathbf{w}_k$, the DFT formulas can be rewritten in algorithmic form as such:\n",
        " * the _analysis_ formula, providing the DFT coefficients from the samples is\n",
        "$$\n",
        "  X[k] = \\sum^{N-1}_{n=0} x[n] e^{-j \\frac{2\\pi}{N}nk}\n",
        "$$\n",
        " * the _synthesis_ formula, providing the signal samples from the DFT coefficients is\n",
        "$$\n",
        "    x[n] = \\frac{1}{N} \\sum_{k=0}^{N-1} X[k] e^{j \\frac{2\\pi}{N} nk}.\n",
        "$$\n",
        "\n",
        "The DFT can be implemented very efficiently via the FFT algorithm, whose computational complexity is on the order of $N\\log_2 N$ operations. Although NumPy includes a built-in FFT routine, it is useful (at least once in a lifetime) to write a straightforward implementation of the DFT so here are a couple of exercises:"
      ]
    },
    {
      "cell_type": "markdown",
      "metadata": {
        "editable": true,
        "tags": [],
        "id": "heQZdO0OM6qc"
      },
      "source": [
        "### Exercise: DFT implementation\n",
        "\n",
        "Complete the following DFT implementation"
      ]
    },
    {
      "cell_type": "code",
      "source": [
        "def dft_change_of_basis_matrix(N: int) -> np.ndarray:\n",
        "  W = np.zeros((N, N), dtype=complex)\n",
        "  for k in range(N):\n",
        "    for n in range(N):\n",
        "      W[k, n] = np.exp(-1j * 2 * np.pi * n * k/N)\n",
        "  return W\n"
      ],
      "metadata": {
        "id": "4-RrIyS1SSKs"
      },
      "execution_count": 12,
      "outputs": []
    },
    {
      "cell_type": "code",
      "execution_count": 13,
      "metadata": {
        "editable": true,
        "tags": [],
        "id": "mKmVKkS3M6qc"
      },
      "outputs": [],
      "source": [
        "def my_dft(x: np.ndarray) -> np.ndarray:\n",
        "    N = len(x)\n",
        "    X = np.zeros(N, dtype=complex)\n",
        "    W = dft_change_of_basis_matrix(N)\n",
        "    X = W @ x\n",
        "    return X"
      ]
    },
    {
      "cell_type": "markdown",
      "metadata": {
        "editable": true,
        "tags": [],
        "id": "xuwGxfEEM6qc"
      },
      "source": [
        "Let's verify if your implementation works:"
      ]
    },
    {
      "cell_type": "code",
      "execution_count": 14,
      "metadata": {
        "editable": true,
        "tags": [],
        "colab": {
          "base_uri": "https://localhost:8080/"
        },
        "id": "gGmBmfSNM6qc",
        "outputId": "b739567f-0ae1-4e6e-947b-ed86ed6b4754"
      },
      "outputs": [
        {
          "output_type": "execute_result",
          "data": {
            "text/plain": [
              "True"
            ]
          },
          "metadata": {},
          "execution_count": 14
        }
      ],
      "source": [
        "N = 100\n",
        "x = np.random.randn(N) + 1j * np.random.randn(N)\n",
        "np.allclose(my_dft(x), np.fft.fft(x))"
      ]
    },
    {
      "cell_type": "markdown",
      "metadata": {
        "editable": true,
        "tags": [],
        "id": "UWWJN0SHM6qd"
      },
      "source": [
        "### Exercise: IDFT implementation\n",
        "\n",
        "Complete the implementation for the inverse DFT"
      ]
    },
    {
      "cell_type": "code",
      "execution_count": 15,
      "metadata": {
        "editable": true,
        "tags": [],
        "id": "QRy2v919M6qd"
      },
      "outputs": [],
      "source": [
        "def my_idft(X: np.ndarray) -> np.ndarray:\n",
        "    W = dft_change_of_basis_matrix(len(X))\n",
        "    x = 1/N * np.conjugate(W).T @ X\n",
        "    return x"
      ]
    },
    {
      "cell_type": "markdown",
      "metadata": {
        "editable": true,
        "tags": [],
        "id": "XGnsu9UaM6qd"
      },
      "source": [
        "Let's verify if your implementation works:"
      ]
    },
    {
      "cell_type": "code",
      "execution_count": 16,
      "metadata": {
        "editable": true,
        "tags": [],
        "colab": {
          "base_uri": "https://localhost:8080/"
        },
        "id": "Lx8P6r39M6qe",
        "outputId": "5159e9a6-dd5b-4fb9-84e8-f9e460e27779"
      },
      "outputs": [
        {
          "output_type": "execute_result",
          "data": {
            "text/plain": [
              "True"
            ]
          },
          "metadata": {},
          "execution_count": 16
        }
      ],
      "source": [
        "np.allclose(my_idft(my_dft(x)), x)"
      ]
    },
    {
      "cell_type": "markdown",
      "metadata": {
        "editable": true,
        "tags": [],
        "id": "GQSydwjIM6qe"
      },
      "source": [
        "### Exercise: Fourier coefficients for the square and triangular test signals\n",
        "\n",
        "In the first part of this two-part notebook we gave the formulas for the DFT coefficients of the square and triangular waves:\n",
        "\\begin{align}\n",
        "    Q[k] &= \\begin{cases} 0 & k \\text{~even} \\\\ \\displaystyle \\frac{-2j}{\\tan(\\pi k /N)}  & k \\text{~odd} \\end{cases} \\\\ \\\\\n",
        "    T[k] &= \\begin{cases} 0 & k \\text{~even} \\\\ \\displaystyle \\frac{4}{N}\\,\\left(1 + \\frac{1}{\\tan^2(\\pi k/N)}\\right) & k \\text{~odd} \\end{cases}\n",
        "\\end{align}\n",
        "\n",
        "Using the DFT algorithm, check that the numerical computation agrees with the theory."
      ]
    },
    {
      "cell_type": "code",
      "execution_count": 19,
      "metadata": {
        "editable": true,
        "tags": [],
        "colab": {
          "base_uri": "https://localhost:8080/"
        },
        "id": "gTm2YaNPM6qe",
        "outputId": "0eb0d046-a2f1-4f7f-b01b-3b9e4c1aba79"
      },
      "outputs": [
        {
          "output_type": "stream",
          "name": "stdout",
          "text": [
            "square wave: True\n",
            "triangular wave: True\n"
          ]
        }
      ],
      "source": [
        "# your code here\n",
        "Q_theory = np.array([-2j/np.tan(np.pi*k/N) if k%2 == 1 else 0 for k in range(N)], dtype=complex)\n",
        "Q_DFT = my_dft(sqw(N))\n",
        "print('square wave:', np.allclose(Q_theory, Q_DFT))\n",
        "\n",
        "T_theory = np.array([4/N * (1 + 1/np.tan(np.pi*k/N)**2) if k%2 == 1 else 0 for k in range(N)], dtype=complex)\n",
        "T_DFT =  my_dft(tri(N))\n",
        "print('triangular wave:', np.allclose(T_theory, T_DFT))"
      ]
    },
    {
      "cell_type": "markdown",
      "metadata": {
        "editable": true,
        "tags": [],
        "id": "L13z5ErlM6qe"
      },
      "source": [
        "## Magnitude and phase\n",
        "\n",
        "Up to a normalization factor $1/N$, each complex-valued DFT coefficient $X[k]$ is the weight associated to the harmonic oscillation $\\mathbf{w}_k$ in the IDFT reconstruction formula. As such, it carries two pieces of information:\n",
        "\n",
        " * the magnitude $|X[k]|$ indicates \"how much\" of the signal $\\mathbf{x}$ is due to an oscillatory component at frequency $\\omega_k = (2\\pi/N)k$\n",
        " * the phase $\\angle X[k]$ indicates the phase shift that best aligns $\\mathbf{x}$ with $\\mathbf{w}_k$"
      ]
    },
    {
      "cell_type": "markdown",
      "metadata": {
        "editable": true,
        "tags": [],
        "id": "aM1aXLXSM6qe"
      },
      "source": [
        "### Example: phase-shifted sinusoid\n",
        "\n",
        "Consider the signal $x[n] = \\cos((2\\pi/N)k n + \\theta)$, an $N$-periodic cosine with an initial phase shift. Let's look at the magnitude and phase of its DFT"
      ]
    },
    {
      "cell_type": "code",
      "execution_count": 20,
      "metadata": {
        "editable": true,
        "tags": [],
        "colab": {
          "base_uri": "https://localhost:8080/"
        },
        "id": "1FNF3HWnM6qf",
        "outputId": "75a0e63e-3715-49c4-db3e-23acf1b61b82"
      },
      "outputs": [
        {
          "output_type": "stream",
          "name": "stdout",
          "text": [
            "[ 0.  0. 16.  0.  0.  0.  0.  0.  0.  0.  0.  0.  0.  0.  0.  0.  0.  0.\n",
            "  0.  0.  0.  0.  0.  0.  0.  0.  0.  0.  0.  0. 16.  0.]\n"
          ]
        }
      ],
      "source": [
        "N, k, theta = 32, 2, 0.7\n",
        "x = np.cos(2 * np.pi / N * k * np.arange(N) + theta)\n",
        "\n",
        "X = np.fft.fft(x)\n",
        "X_mag = np.round(np.abs(X), 2)\n",
        "X_phase = np.round(np.angle(X), 2)\n",
        "\n",
        "print(X_mag)"
      ]
    },
    {
      "cell_type": "markdown",
      "metadata": {
        "editable": true,
        "tags": [],
        "id": "kt-LwrghM6qf"
      },
      "source": [
        "The only two nonzero coefficients are $X[k]$ and $X[N-k]$, consistent with the fact that the cosine has a frequency equal to $\\omega_k = (2\\pi/N)k$; the phase of these two coefficients is"
      ]
    },
    {
      "cell_type": "code",
      "execution_count": 21,
      "metadata": {
        "editable": true,
        "tags": [],
        "colab": {
          "base_uri": "https://localhost:8080/"
        },
        "id": "bXB9gZsfM6qf",
        "outputId": "a8354db6-9059-4e86-90db-81208ce5a5d7"
      },
      "outputs": [
        {
          "output_type": "stream",
          "name": "stdout",
          "text": [
            "[[ 0.7]\n",
            " [-0.7]]\n"
          ]
        }
      ],
      "source": [
        "print(X_phase[np.argwhere(X_mag)])"
      ]
    },
    {
      "cell_type": "markdown",
      "metadata": {
        "editable": true,
        "tags": [],
        "id": "IBj3Hj4tM6qf"
      },
      "source": [
        "and so we have $X[k] = (N/2)\\,e^{j\\theta}$ and $X[N-k] = (N/2)\\,e^{-j\\theta} = (X[1])^*$. Using the IDFT formula:\n",
        "\\begin{align}\n",
        "    x[n] &= (1/N)(X[k]w_k[n] + X[N-k]w_{N-k}[n]) \\\\ \\\\\n",
        "     &= (1/N)(X[k]\\,w_k[n] + (X[1]\\,w_k[n])^*) \\\\ \\\\\n",
        "     &= (2 / N)\\, \\Re\\{X[k]\\,w_k[n]\\} \\\\ \\\\\n",
        "     &= (2 / N)\\, \\Re\\{(N / 2)\\,e^{j((2\\pi/N)kn + \\theta)}\\} \\\\ \\\\\n",
        "     &= \\cos((2\\pi/N)k n + \\theta)\n",
        "\\end{align}"
      ]
    },
    {
      "cell_type": "markdown",
      "metadata": {
        "editable": true,
        "tags": [],
        "id": "doXUvEeOM6qg"
      },
      "source": [
        "# Plotting the DFT\n",
        "\n",
        "The DFT coefficients are the _frequency-domain_ representation of the information contained in a signal; they form the so-called _spectrum_ of a signal and in this section we consider how to display this spectral information graphically.\n",
        "\n",
        "The most common spectral visualization is a plot of the DFT coefficients in magnitude (or squared magnitude); this shows how the signal's energy is distributed across the sinusoidal components that make up the signal. The simplest thing that we can do is just plot the magnitude of the DFT data vector as-is:"
      ]
    },
    {
      "cell_type": "code",
      "execution_count": 22,
      "metadata": {
        "editable": true,
        "tags": [],
        "colab": {
          "base_uri": "https://localhost:8080/",
          "height": 291
        },
        "id": "vqISSI3tM6qg",
        "outputId": "87db3e50-1359-4f08-a4a0-8b90ff95f4ef"
      },
      "outputs": [
        {
          "output_type": "display_data",
          "data": {
            "text/plain": [
              "<Figure size 1200x300 with 1 Axes>"
            ],
            "image/png": "[encoded data removed]"
          },
          "metadata": {}
        }
      ],
      "source": [
        "N = 100\n",
        "plt.stem(np.abs(np.fft.fft(ramp(N))));"
      ]
    },
    {
      "cell_type": "markdown",
      "metadata": {
        "editable": true,
        "tags": [],
        "id": "NPgzzkvHM6qg"
      },
      "source": [
        "To make more sense of this plot, we need however to understand the structure of the the horizontal axis."
      ]
    },
    {
      "cell_type": "markdown",
      "metadata": {
        "editable": true,
        "tags": [],
        "id": "XaQHOnlCM6qg"
      },
      "source": [
        "## Positive and negative frequencies\n",
        "\n",
        "The magnitude of the $k$-th DFT coefficient indicates \"how much\" of the input signal is due to the sinusoidal building block $\\mathbf{w}_k$, whose angular frequency is $\\omega_k = (2\\pi/N)k$. As we have seen in the first part of the notebook, however, when the frequency becomes larger than $\\pi$, that is, when $k > N/2$, we prefer to think of  $\\mathbf{w}_k$ as an oscillation with _negative_ frequency $\\omega_k = (2\\pi/N)k - 2\\pi$. Mathematically, this is called \"wrapping\" the frequency over the $[-\\pi, \\pi]$ interval:"
      ]
    },
    {
      "cell_type": "code",
      "execution_count": 23,
      "metadata": {
        "editable": true,
        "tags": [],
        "id": "LPweUrHiM6qh"
      },
      "outputs": [],
      "source": [
        "def wrap(a):\n",
        "    return np.mod(a + np.pi, 2 * np.pi) - np.pi"
      ]
    },
    {
      "cell_type": "code",
      "execution_count": 24,
      "metadata": {
        "editable": true,
        "tags": [],
        "colab": {
          "base_uri": "https://localhost:8080/",
          "height": 291
        },
        "id": "DblWAd6tM6qh",
        "outputId": "b6745497-3973-4501-a18b-77c693894840"
      },
      "outputs": [
        {
          "output_type": "display_data",
          "data": {
            "text/plain": [
              "<Figure size 1200x300 with 1 Axes>"
            ],
            "image/png": "[encoded data removed]"
          },
          "metadata": {}
        }
      ],
      "source": [
        "a = np.pi * np.linspace(-2, 2, 100)\n",
        "plt.plot(a, wrap(a));"
      ]
    },
    {
      "cell_type": "markdown",
      "metadata": {
        "editable": true,
        "tags": [],
        "id": "OIEd18bvM6qh"
      },
      "source": [
        "The following table resumes the values and the properties of the frequencies associated to each DFT coefficient $X[k]$\n",
        "\n",
        "\n",
        "| DFT index     | frequency (wrapped)           | rotation           | notes                               |\n",
        "| :--------:    | :-------:                     | -------            |-------                              |\n",
        "| $k=0$         | $0$                           |  none              |                                     |\n",
        "| $0 < k < N/2$ | $0 < (2\\pi/N)k < \\pi$         |  CCW, slow to fast |                                     |\n",
        "| $k = N/2$     | $\\pm\\pi$                      |  fastest           | **this exists only if $N$ is even** |\n",
        "| $N/2 < k < N$ | $-\\pi < (2\\pi/N)(k - N)  < 0$ |  CW, fast to slow  |                                     |"
      ]
    },
    {
      "cell_type": "markdown",
      "metadata": {
        "editable": true,
        "tags": [],
        "id": "2J665xK6M6qi"
      },
      "source": [
        "### Example: identifying positive and negative frequencies\n",
        "\n",
        "The following function plots the magnitude of the DFT coefficients of a signal using different colors:\n",
        " * green for positive frequencies\n",
        " * red for negative frequencies\n",
        " * blue for the frequencies that can be considered positive or negative; one of them is the zero frequency (no rotation) and, when $N$ is even, we have also the fastest frequency $\\pi$ (a point rotating at $+\\pi$ (counterclockwise) produces the same sequence of positions as a point rotating at $-\\pi$ (clockwise)."
      ]
    },
    {
      "cell_type": "code",
      "execution_count": 25,
      "metadata": {
        "editable": true,
        "tags": [],
        "id": "cDjo2-JhM6qi"
      },
      "outputs": [],
      "source": [
        "def plot_dft_split(arg):\n",
        "    if isinstance(arg, int):\n",
        "        X, N = np.abs(np.fft.fft(ramp(arg))), arg\n",
        "    else:\n",
        "        X, N = arg, len(arg)\n",
        "    plt.plot([0, N-1], [0, 0], 'k')\n",
        "    for k in range(N):\n",
        "        if k == 0 or k == N / 2:\n",
        "            color = 'C0'\n",
        "        elif k < N / 2:\n",
        "            color = 'C2'\n",
        "        else:\n",
        "            color = 'C3'\n",
        "        plt.stem([k], [X[k]], color)"
      ]
    },
    {
      "cell_type": "code",
      "execution_count": 26,
      "metadata": {
        "editable": true,
        "tags": [],
        "colab": {
          "base_uri": "https://localhost:8080/",
          "height": 323,
          "referenced_widgets": [
            "fd3e543e056f43b88b500c91bd7a1b3f",
            "62c530eaf0cf4ab79fb4c1c7818ba9a9",
            "b3eaf5687c9d454c83529703081570ef",
            "d54e75a9ec0341e1afba655d3d5d8192",
            "6a50ee63488645ef927cfa721fdcf6f7",
            "8e1a7d9d1964414ab42e7c2054dd0a4b",
            "f166292cc1174b0fa8cf74e76a60a157"
          ]
        },
        "id": "71ZMhBpZM6qv",
        "outputId": "1128fefa-cf95-4e65-c97a-035a68f00ca2"
      },
      "outputs": [
        {
          "output_type": "display_data",
          "data": {
            "text/plain": [
              "interactive(children=(IntSlider(value=64, description='N', max=128, min=3), Output()), _dom_classes=('widget-i…"
            ],
            "application/vnd.jupyter.widget-view+json": {
              "version_major": 2,
              "version_minor": 0,
              "model_id": "fd3e543e056f43b88b500c91bd7a1b3f"
            }
          },
          "metadata": {}
        }
      ],
      "source": [
        "wg.interactive(plot_dft_split, arg=wg.IntSlider(min=3, max=128, value=64, description=r'N'))"
      ]
    },
    {
      "cell_type": "markdown",
      "metadata": {
        "editable": true,
        "tags": [],
        "id": "2_OznlgVM6qv"
      },
      "source": [
        "## Zero-centered DFT\n",
        "\n",
        "For the puropose of visualization, it makes more sense to rearrange the DFT coefficients so that they are ordered by increasing frequency value, that is:\n",
        " * first we have the cooefficients associated to negative frequencies, from $-\\pi$ up to zero\n",
        " * then the coefficient with index zero\n",
        " * then the coefficients associated to positive frequencies, up to $\\pi$.\n",
        "\n",
        "Since we want the rearragned set of DFT values to have an equal number of points to the left and to the right of the origin, we need to remember that, for $N$ even, the coefficient associated to the maximum frequency $\\pi$ is both positive and negative, and therefore it must be used twice."
      ]
    },
    {
      "cell_type": "code",
      "execution_count": 27,
      "metadata": {
        "editable": true,
        "tags": [],
        "colab": {
          "base_uri": "https://localhost:8080/",
          "height": 444
        },
        "id": "da5JO8jQM6qw",
        "outputId": "7a838b4e-5c28-4812-994c-5fd3b78b116b"
      },
      "outputs": [
        {
          "output_type": "display_data",
          "data": {
            "text/plain": [
              "<Figure size 1200x500 with 2 Axes>"
            ],
            "image/png": "[encoded data removed]"
          },
          "metadata": {}
        }
      ],
      "source": [
        "N = 5\n",
        "plt.subplot(1,2,1)\n",
        "show_freqs(N)\n",
        "plt.subplot(1,2,2)\n",
        "show_freqs(N+1)"
      ]
    },
    {
      "cell_type": "markdown",
      "metadata": {
        "editable": true,
        "tags": [],
        "id": "rF4xOibBM6qw"
      },
      "source": [
        "### Exercise: rearranged frequency indexes\n",
        "\n",
        "Complete the function below so that it returns a vector of integers that point to the DFT coefficients rearranged around zero; for example:\n",
        " * for $N=5$, the function should return the array `[3, 4, 0, 1, 2]`\n",
        " * for $N=6$, it should return `[3, 4, 5, 0, 1, 2, 3]` (because $N$ is even)\n",
        "\n",
        "With such a function, we can easily plot the rearraged DFT via Numpy's index slicing:"
      ]
    },
    {
      "cell_type": "code",
      "execution_count": 29,
      "metadata": {
        "editable": true,
        "tags": [],
        "colab": {
          "base_uri": "https://localhost:8080/",
          "height": 295
        },
        "id": "Tw696AHGM6qw",
        "outputId": "e68e5b2a-7405-4e6e-fe1f-2251b320fb6b"
      },
      "outputs": [
        {
          "output_type": "display_data",
          "data": {
            "text/plain": [
              "<Figure size 1200x300 with 2 Axes>"
            ],
            "image/png": "[encoded data removed]"
          },
          "metadata": {}
        }
      ],
      "source": [
        "X = np.abs(np.fft.fft(ramp(6)))\n",
        "plt.subplot(1,2,1)\n",
        "plot_dft_split(X);\n",
        "plt.subplot(1,2,2)\n",
        "ix = np.array([3, 4, 5, 0, 1, 2, 3])\n",
        "plt.stem(X[ix]);"
      ]
    },
    {
      "cell_type": "code",
      "execution_count": 35,
      "metadata": {
        "editable": true,
        "tags": [],
        "id": "vYn5-T6xM6qw"
      },
      "outputs": [],
      "source": [
        "def dft_idx(N):\n",
        "  if N%2 == 0:\n",
        "    N += 1\n",
        "  ix = np.zeros(N)\n",
        "  ix[:N//2] = np.arange(N//2, N - 1)\n",
        "  ix[N//2:] = np.arange(N//2 + 1)\n",
        "  return ix.astype(int)"
      ]
    },
    {
      "cell_type": "code",
      "execution_count": 36,
      "metadata": {
        "editable": true,
        "tags": [],
        "colab": {
          "base_uri": "https://localhost:8080/",
          "height": 291
        },
        "id": "AYNsiF2xM6qx",
        "outputId": "add007c9-3550-4b82-fc93-65937d293acb"
      },
      "outputs": [
        {
          "output_type": "display_data",
          "data": {
            "text/plain": [
              "<Figure size 1200x300 with 1 Axes>"
            ],
            "image/png": "[encoded data removed]"
          },
          "metadata": {}
        }
      ],
      "source": [
        "N=100\n",
        "X = np.abs(np.fft.fft(ramp(N)))\n",
        "ix = dft_idx(N)\n",
        "plt.stem(X[ix]);"
      ]
    },
    {
      "cell_type": "markdown",
      "metadata": {
        "editable": true,
        "tags": [],
        "id": "eZqNTR6bM6qx"
      },
      "source": [
        "## Labeling the frequency axis\n",
        "\n",
        "The final thing we need to do is properly labeling the frequency axis and this is achieved by mapping each DFT index $k$ to the frequency value of the associated oscillation $\\mathbf{w}_k$. For this there are three options:\n",
        " * we can use a value in radians wrapped over the $[-\\pi, \\pi]$ interval: $\\omega_k = \\text{wrap}((2\\pi/N)k)$\n",
        " * we can use the _normalized_ frequency values $\\omega_k/\\pi$, so that the range is $[-1, 1]$\n",
        " * if the signal is a sampled real-world signal and if we know its sampling frequency $F_s$, we can use values in hertz by multiplying the normalized frequencies by $F_s/2$; the frequency range will therefore span the $[-F_s/2, F_s/2]$ interval.\n",
        "\n",
        "The following function returns the magnitude DFT and a vector of frequency values ready for plotting\n",
        " * by default, it returns a frequency axis in radians\n",
        " * for normalized frequencies, use `f = 1`\n",
        " * for frequencies in herts, use `f = Fs / 2`"
      ]
    },
    {
      "cell_type": "code",
      "execution_count": 37,
      "metadata": {
        "editable": true,
        "tags": [],
        "id": "WP6PUjZeM6qx"
      },
      "outputs": [],
      "source": [
        "def zcdftmag(x, f=np.pi):\n",
        "    N = len(x)\n",
        "    ix = dft_idx(N)                # [N/2, N/2 + 1, ... N-1, 0, 1, ... , N/2]\n",
        "    X = np.abs(np.fft.fft(x)[ix])  # N points for N evem, N+1 for n odd\n",
        "    ix[:N//2] -= N                 # [-N/2, -N/2+1, ..., -1, 0, 1, ..., N/2]\n",
        "    return 2 * f * ix / N, X"
      ]
    },
    {
      "cell_type": "code",
      "execution_count": 38,
      "metadata": {
        "editable": true,
        "tags": [],
        "colab": {
          "base_uri": "https://localhost:8080/",
          "height": 291
        },
        "id": "fbOIFLS4M6qy",
        "outputId": "b48d1a92-718a-4440-ba6a-17683d759a72"
      },
      "outputs": [
        {
          "output_type": "display_data",
          "data": {
            "text/plain": [
              "<Figure size 1200x300 with 1 Axes>"
            ],
            "image/png": "[encoded data removed]"
          },
          "metadata": {}
        }
      ],
      "source": [
        "N=100\n",
        "plt.stem(*zcdftmag(ramp(N), 1)); # normalized frequencies"
      ]
    },
    {
      "cell_type": "markdown",
      "metadata": {
        "editable": true,
        "tags": [],
        "id": "mK6676aLM6qy"
      },
      "source": [
        "### Bonus function: pretty-printing the frequency labels\n",
        "\n",
        "This function will reformat the frequency axis and label it with multiples of $\\pi/M$ for $M$ an integer of your choice:"
      ]
    },
    {
      "cell_type": "code",
      "execution_count": 39,
      "metadata": {
        "editable": true,
        "tags": [],
        "id": "yqphUKGIM6qy"
      },
      "outputs": [],
      "source": [
        "def pi_frac(M):\n",
        "    from fractions import Fraction\n",
        "    t, w = [], []\n",
        "    for d in range(-M, M+1):\n",
        "        t += [np.pi * d / M]\n",
        "        if d == 0:\n",
        "            w += [r'$0$']\n",
        "        else:\n",
        "            f = Fraction(d, M)\n",
        "            num = f.numerator\n",
        "            a = '-' if num == -1 else '' if num == 1 else str(num)\n",
        "            b = '' if f.denominator == 1 else f'/{f.denominator}'\n",
        "            w += [f'${a}\\\\pi{b}$']\n",
        "    plt.xticks(t, labels=w);"
      ]
    },
    {
      "cell_type": "code",
      "execution_count": 40,
      "metadata": {
        "editable": true,
        "tags": [],
        "colab": {
          "base_uri": "https://localhost:8080/",
          "height": 292
        },
        "id": "Q6nk9hXsM6qz",
        "outputId": "0e19b8c4-68b1-4678-83fc-6dd32f7f2b1b"
      },
      "outputs": [
        {
          "output_type": "display_data",
          "data": {
            "text/plain": [
              "<Figure size 1200x300 with 1 Axes>"
            ],
            "image/png": "[encoded data removed]"
          },
          "metadata": {}
        }
      ],
      "source": [
        "N=100\n",
        "plt.stem(*zcdftmag(ramp(N)))\n",
        "pi_frac(4)"
      ]
    },
    {
      "cell_type": "markdown",
      "metadata": {
        "editable": true,
        "tags": [],
        "id": "ueWpk4xrM6q0"
      },
      "source": [
        "## Symmetric magnitude spectra\n",
        "\n",
        "By now you must have noticed that all the previous plots are symmetric, either around $N/2$ or, when the DFT coefficients are rearranged, around zero. This is because in all the examples we have computed the DFT of the real-valued ramp signal and, in fact, **the magnitude spectrum of a real-valued signal is always symmetric**.\n",
        "\n",
        "One important consequence is that, when dealing with real-valued signals, it is customary to plot the magnitude spectrum only over the positive frequencies.\n",
        "\n",
        "Note however that, for complex-valued signals, the magnitude spectrum is _not_ symmetric:"
      ]
    },
    {
      "cell_type": "code",
      "execution_count": 41,
      "metadata": {
        "editable": true,
        "tags": [],
        "colab": {
          "base_uri": "https://localhost:8080/",
          "height": 291
        },
        "id": "Vgt_57mdM6q0",
        "outputId": "fb9467ce-e6ee-4d55-f33a-1ba9788fa184"
      },
      "outputs": [
        {
          "output_type": "display_data",
          "data": {
            "text/plain": [
              "<Figure size 1200x300 with 1 Axes>"
            ],
            "image/png": "[encoded data removed]"
          },
          "metadata": {}
        }
      ],
      "source": [
        "N = 64\n",
        "plot_dft_split(np.abs(np.fft.fft(ramp(N) + 1j * tri(3, np.arange(N)))))"
      ]
    },
    {
      "cell_type": "markdown",
      "metadata": {
        "editable": true,
        "tags": [],
        "id": "i9t-BAKSM6q0"
      },
      "source": [
        "### Exercise: plot only the positive frequencies\n",
        "\n",
        "Modify the `zcdftmag` function so that, if required, it only returns the labes and values for the positive frequencies"
      ]
    },
    {
      "cell_type": "code",
      "execution_count": 42,
      "metadata": {
        "editable": true,
        "tags": [],
        "id": "T8IMtnUlM6q1"
      },
      "outputs": [],
      "source": [
        "def zcdftmag(x, f=np.pi, pos_only=False):\n",
        "    N = len(x)\n",
        "    ix = dft_idx(N)[N//2:]\n",
        "    X = np.abs(np.fft.fft(x)[ix])\n",
        "    ix[:N//2] -= N//4\n",
        "    return 2 * f * ix / N, X"
      ]
    },
    {
      "cell_type": "code",
      "execution_count": 43,
      "metadata": {
        "editable": true,
        "tags": [],
        "colab": {
          "base_uri": "https://localhost:8080/",
          "height": 291
        },
        "id": "gMXrI4FNM6q1",
        "outputId": "2918d1ce-c91a-4956-88a0-f595ac96a66f"
      },
      "outputs": [
        {
          "output_type": "display_data",
          "data": {
            "text/plain": [
              "<Figure size 1200x300 with 1 Axes>"
            ],
            "image/png": "[encoded data removed]"
          },
          "metadata": {}
        }
      ],
      "source": [
        "N=100\n",
        "plt.stem(*zcdftmag(ramp(N), pos_only=True));"
      ]
    },
    {
      "cell_type": "markdown",
      "metadata": {
        "editable": true,
        "tags": [],
        "id": "URCFiI7cM6q2"
      },
      "source": [
        "# The DFT as an analysis tool\n",
        "\n"
      ]
    },
    {
      "cell_type": "markdown",
      "metadata": {
        "editable": true,
        "tags": [],
        "id": "6aVM0gd1M6q2"
      },
      "source": [
        "## Frequency resolution\n",
        "\n",
        "In a DFT of size $N$, the frequency separation between two consecutive coefficients is $\\Delta_N = 2\\pi/N$; this value is called the _frequency resolution_ of the DFT and it is only dependent on $N$, that is, on the number of data samples.\n",
        "\n",
        "In reality, each DFT coefficient is associated not just to its nominal frequency $\\omega_k = (2\\pi/N)k$ but to a _frequency bin_ of width $\\Delta_N$, centered in $\\omega_k$. If a signal contains two or more sinusoidal components whose frequencies fall into the same frequency bin, they will not be _resolved_ by the DFT, in the sense that they will not be visible as separate spectral lines. Similarly, if a signal contains two sinusoids whose frequencies belong to neighboring bins, a plot of the DFT will not show clearly distinct spectral lines."
      ]
    },
    {
      "cell_type": "markdown",
      "metadata": {
        "editable": true,
        "tags": [],
        "id": "Wj6lwwPrM6q2"
      },
      "source": [
        "### Example: resolving sinusoids\n",
        "\n",
        "Consider a length-$N$ signal defined by\n",
        "$$\n",
        "    x[n] = \\cos(\\omega_0 \\, n) + \\cos((\\omega_0 + \\delta) n), \\quad n = 0, 1, \\ldots, N-1\n",
        "$$\n",
        "\n",
        "Since the signal contains two sinusoids, we expect its DFT to show two clear lines corresponding to the frequencies; but the two spectral peaks  will appear distinctly only if $\\delta > 2\\Delta_N$ (where \"distinctly\" indicates peaks separated by a clear gap).\n",
        "\n",
        "The following demo will allow you to get a feel for the resolution issues:\n",
        " * change the value of $\\delta$ and verify that the spectral lines start to be separated when $|\\delta/\\Delta| > 2$\n",
        " * for a fixed value of $\\delta$, change the length of the time-domain signal and see how it affects the resoltion\n",
        " * verify that the resolving power of the DFT does not depend on the frequency value $\\omega_0$"
      ]
    },
    {
      "cell_type": "code",
      "execution_count": 44,
      "metadata": {
        "editable": true,
        "tags": [],
        "id": "XAu2khQwM6q3"
      },
      "outputs": [],
      "source": [
        "def test_dft_res(N, w, d):\n",
        "    n = np.arange(0, N)\n",
        "    X = np.abs(np.fft.fft(np.cos(w * np.pi * n) + np.cos((w + d) * np.pi * n)))[:N//2]\n",
        "    plt.stem(X)\n",
        "    plt.title(f'$\\\\delta/\\\\Delta = {N * d / 2:.2f}$')"
      ]
    },
    {
      "cell_type": "code",
      "execution_count": 47,
      "metadata": {
        "editable": true,
        "tags": [],
        "colab": {
          "base_uri": "https://localhost:8080/",
          "height": 410,
          "referenced_widgets": [
            "21bec784c2934bbbbd9c109886234da4",
            "26c4012a34994a99b5449cd8bcafce41",
            "b6ecb275346141afb7c1014cdec55e0f",
            "fa231f2d254d427a8e857b49a5c6d003",
            "226536f37cef49f2a34c8f0d8fa27576",
            "af5aca5b5da84855bc66e9ce56fce5ef",
            "4544b8bf3e13469fbbe70ffa6c634e55",
            "daa1301e0e4246ccb322fffaecbe79c6",
            "f2dc8f9aaf5a44feba0fcb1250fcdc92",
            "14b8628399304d0ca0846246f38c6463",
            "43de3188929347adaff444cbf044edeb",
            "bd80c6a24583478ba9868f1c99501b02",
            "133195704b8443bfa51b1ba938da23c4"
          ]
        },
        "id": "VA4OG8TjM6q3",
        "outputId": "970fb6a4-3331-4d18-a5be-da4ca531e4f8"
      },
      "outputs": [
        {
          "output_type": "display_data",
          "data": {
            "text/plain": [
              "interactive(children=(IntSlider(value=64, description='N', max=512, min=32), FloatSlider(value=0.25, descripti…"
            ],
            "application/vnd.jupyter.widget-view+json": {
              "version_major": 2,
              "version_minor": 0,
              "model_id": "21bec784c2934bbbbd9c109886234da4"
            }
          },
          "metadata": {}
        }
      ],
      "source": [
        "wg.interactive(test_dft_res, N=wg.IntSlider(64, 32, 512),\n",
        "               w=wg.FloatSlider(value=0.25, min=0, max=1, step=0.01, description='$\\\\omega_0/\\\\pi$'),\n",
        "               d=wg.FloatSlider(value=0, min=-0.5, max=0.5, step=0.01, description='$\\\\delta/\\\\pi$'))"
      ]
    },
    {
      "cell_type": "markdown",
      "metadata": {
        "editable": true,
        "raw_mimetype": "",
        "tags": [],
        "vscode": {
          "languageId": "raw"
        },
        "id": "7Nr62yydM6q3"
      },
      "source": [
        "### Exercise: answer the following questions\n",
        "\n",
        " 1. Start from the initial values ($\\omega_0/\\pi = 0.25, \\delta/\\pi=0$) and change the value of $\\omega_0/\\pi$; when do you see a single nonzero DFT coefficient? What happens in the other cases?\n",
        " 2. Set $\\omega_0/\\pi=0.4$ and $\\delta/\\pi=0$; for what values of $N$ do you see a single spectral line?\n",
        " 3. Set $\\omega_0/\\pi=0.03$; for what value of $N$ can you see two clear spectral lines?"
      ]
    },
    {
      "cell_type": "markdown",
      "metadata": {
        "editable": true,
        "tags": [],
        "id": "AINUtMGoM6q4"
      },
      "source": [
        "## Real-world frequencies\n",
        "\n",
        "For a signal whose sampling rate is known, we have seen earlier how to plot the DFT coefficients against real-world frequency values in hertz. As a reminder, the reasoning is as follows:\n",
        "\n",
        " * the $k$-th DFT coefficient is associated to a discrete-time oscillation with $k$ full periods over $N$ samples\n",
        " * at a sampling rate $F_s$, $N$ samples span $N/F_s$ seconds\n",
        " * the period of the oscillation is therefore $(N/F_s)/k$ and the frequency is $f_k = (k/N)F_s$\n",
        "\n",
        "The mapping from DFT index to frequency is therefore linear; this applies to the frequency resolution of the DFT as well which, in hertz, is equal to $\\Delta_f = F_s/N$ for a signal of length $N$."
      ]
    },
    {
      "cell_type": "markdown",
      "metadata": {
        "editable": true,
        "tags": [],
        "id": "b31fj9myM6q4"
      },
      "source": [
        "### Example: the magnitude spectrum of a piano note\n",
        "\n",
        "In the case of audio files, the sampling frequency is usually provided in the file metadata and Python provides convenient libraries to read both the metadata and the audio samples. Here for instance we load and play the recording of a single piano note:"
      ]
    },
    {
      "cell_type": "code",
      "execution_count": 48,
      "metadata": {
        "editable": true,
        "tags": [],
        "colab": {
          "base_uri": "https://localhost:8080/",
          "height": 345
        },
        "id": "pG6JaKqNM6q4",
        "outputId": "ef94aedf-66e8-4342-9466-55c6768cccf5"
      },
      "outputs": [
        {
          "output_type": "error",
          "ename": "FileNotFoundError",
          "evalue": "[Errno 2] No such file or directory: 'data/piano.wav'",
          "traceback": [
            "\u001b[0;31m---------------------------------------------------------------------------\u001b[0m",
            "\u001b[0;31mFileNotFoundError\u001b[0m                         Traceback (most recent call last)",
            "\u001b[0;32m<ipython-input-48-7c74a3d9afeb>\u001b[0m in \u001b[0;36m<cell line: 0>\u001b[0;34m()\u001b[0m\n\u001b[1;32m      2\u001b[0m \u001b[0;32mfrom\u001b[0m \u001b[0mscipy\u001b[0m\u001b[0;34m.\u001b[0m\u001b[0mio\u001b[0m \u001b[0;32mimport\u001b[0m \u001b[0mwavfile\u001b[0m\u001b[0;34m\u001b[0m\u001b[0;34m\u001b[0m\u001b[0m\n\u001b[1;32m      3\u001b[0m \u001b[0;34m\u001b[0m\u001b[0m\n\u001b[0;32m----> 4\u001b[0;31m \u001b[0mFs\u001b[0m\u001b[0;34m,\u001b[0m \u001b[0mpiano\u001b[0m \u001b[0;34m=\u001b[0m \u001b[0mwavfile\u001b[0m\u001b[0;34m.\u001b[0m\u001b[0mread\u001b[0m\u001b[0;34m(\u001b[0m\u001b[0;34m\"data/piano.wav\"\u001b[0m\u001b[0;34m)\u001b[0m\u001b[0;34m\u001b[0m\u001b[0;34m\u001b[0m\u001b[0m\n\u001b[0m\u001b[1;32m      5\u001b[0m \u001b[0mprint\u001b[0m\u001b[0;34m(\u001b[0m\u001b[0;34mf'the audio sampling rate is {Fs} Hz'\u001b[0m\u001b[0;34m)\u001b[0m\u001b[0;34m\u001b[0m\u001b[0;34m\u001b[0m\u001b[0m\n\u001b[1;32m      6\u001b[0m \u001b[0mIPython\u001b[0m\u001b[0;34m.\u001b[0m\u001b[0mdisplay\u001b[0m\u001b[0;34m.\u001b[0m\u001b[0mAudio\u001b[0m\u001b[0;34m(\u001b[0m\u001b[0mpiano\u001b[0m\u001b[0;34m,\u001b[0m \u001b[0mrate\u001b[0m\u001b[0;34m=\u001b[0m\u001b[0mFs\u001b[0m\u001b[0;34m)\u001b[0m\u001b[0;34m\u001b[0m\u001b[0;34m\u001b[0m\u001b[0m\n",
            "\u001b[0;32m/usr/local/lib/python3.11/dist-packages/scipy/io/wavfile.py\u001b[0m in \u001b[0;36mread\u001b[0;34m(filename, mmap)\u001b[0m\n\u001b[1;32m    645\u001b[0m         \u001b[0mmmap\u001b[0m \u001b[0;34m=\u001b[0m \u001b[0;32mFalse\u001b[0m\u001b[0;34m\u001b[0m\u001b[0;34m\u001b[0m\u001b[0m\n\u001b[1;32m    646\u001b[0m     \u001b[0;32melse\u001b[0m\u001b[0;34m:\u001b[0m\u001b[0;34m\u001b[0m\u001b[0;34m\u001b[0m\u001b[0m\n\u001b[0;32m--> 647\u001b[0;31m         \u001b[0mfid\u001b[0m \u001b[0;34m=\u001b[0m \u001b[0mopen\u001b[0m\u001b[0;34m(\u001b[0m\u001b[0mfilename\u001b[0m\u001b[0;34m,\u001b[0m \u001b[0;34m'rb'\u001b[0m\u001b[0;34m)\u001b[0m\u001b[0;34m\u001b[0m\u001b[0;34m\u001b[0m\u001b[0m\n\u001b[0m\u001b[1;32m    648\u001b[0m \u001b[0;34m\u001b[0m\u001b[0m\n\u001b[1;32m    649\u001b[0m     \u001b[0;32mtry\u001b[0m\u001b[0;34m:\u001b[0m\u001b[0;34m\u001b[0m\u001b[0;34m\u001b[0m\u001b[0m\n",
            "\u001b[0;31mFileNotFoundError\u001b[0m: [Errno 2] No such file or directory: 'data/piano.wav'"
          ]
        }
      ],
      "source": [
        "import IPython\n",
        "from scipy.io import wavfile\n",
        "\n",
        "Fs, piano = wavfile.read(\"data/piano.wav\")\n",
        "print(f'the audio sampling rate is {Fs} Hz')\n",
        "IPython.display.Audio(piano, rate=Fs)"
      ]
    },
    {
      "cell_type": "markdown",
      "metadata": {
        "editable": true,
        "tags": [],
        "id": "jOcsJ01oM6q4"
      },
      "source": [
        "Let's use the previous function to plot the spectrum of the note:"
      ]
    },
    {
      "cell_type": "code",
      "execution_count": 49,
      "metadata": {
        "editable": true,
        "tags": [],
        "colab": {
          "base_uri": "https://localhost:8080/",
          "height": 164
        },
        "id": "VdgFCyYMM6q5",
        "outputId": "8c2d952f-5075-42d6-e217-69735eff288d"
      },
      "outputs": [
        {
          "output_type": "error",
          "ename": "NameError",
          "evalue": "name 'piano' is not defined",
          "traceback": [
            "\u001b[0;31m---------------------------------------------------------------------------\u001b[0m",
            "\u001b[0;31mNameError\u001b[0m                                 Traceback (most recent call last)",
            "\u001b[0;32m<ipython-input-49-cb19e9b86a4e>\u001b[0m in \u001b[0;36m<cell line: 0>\u001b[0;34m()\u001b[0m\n\u001b[1;32m      1\u001b[0m \u001b[0;31m# we don't need to compute the DFT of the whole signal, given its size\u001b[0m\u001b[0;34m\u001b[0m\u001b[0;34m\u001b[0m\u001b[0m\n\u001b[0;32m----> 2\u001b[0;31m \u001b[0mplt\u001b[0m\u001b[0;34m.\u001b[0m\u001b[0mplot\u001b[0m\u001b[0;34m(\u001b[0m\u001b[0;34m*\u001b[0m\u001b[0mzcdftmag\u001b[0m\u001b[0;34m(\u001b[0m\u001b[0mpiano\u001b[0m\u001b[0;34m[\u001b[0m\u001b[0;34m:\u001b[0m\u001b[0;36m32768\u001b[0m\u001b[0;34m]\u001b[0m\u001b[0;34m,\u001b[0m \u001b[0mFs\u001b[0m \u001b[0;34m/\u001b[0m\u001b[0;36m2\u001b[0m\u001b[0;34m,\u001b[0m \u001b[0mpos_only\u001b[0m\u001b[0;34m=\u001b[0m\u001b[0;32mTrue\u001b[0m\u001b[0;34m)\u001b[0m\u001b[0;34m)\u001b[0m\u001b[0;34m;\u001b[0m\u001b[0;34m\u001b[0m\u001b[0;34m\u001b[0m\u001b[0m\n\u001b[0m",
            "\u001b[0;31mNameError\u001b[0m: name 'piano' is not defined"
          ]
        }
      ],
      "source": [
        "# we don't need to compute the DFT of the whole signal, given its size\n",
        "plt.plot(*zcdftmag(piano[:32768], Fs /2, pos_only=True));"
      ]
    },
    {
      "cell_type": "markdown",
      "metadata": {
        "editable": true,
        "tags": [],
        "id": "qU0tw7OjM6q5"
      },
      "source": [
        "The plot shows what a spectrum analyzer would display. The clear spectral lines indicate a periodically repeating pattern in the time-domain waveform, which is the typical characteristic of musical sounds. We can easily verify this  by plotting a portion of the time-domain data:"
      ]
    },
    {
      "cell_type": "code",
      "execution_count": null,
      "metadata": {
        "editable": true,
        "tags": [],
        "id": "Eqp2YXRkM6q5"
      },
      "outputs": [],
      "source": [
        "plt.plot(piano[9000:10000]);"
      ]
    },
    {
      "cell_type": "markdown",
      "metadata": {
        "editable": true,
        "tags": [],
        "id": "em6wOvyHM6q6"
      },
      "source": [
        "## Musical pitch\n",
        "\n",
        "Sounds that contain a periodically repeating pattern evoke in a listener the sensation of musical _pitch_; waveforms with a pattern that repeats quickly are associated to notes in the so-called high register, whereas slowly repeating patterns produce notes in the low register.\n",
        "\n",
        "### The fundamental frequency\n",
        "\n",
        "In the frequency domain, waveforms with a pattern that repeats $f_0$ times per second will have a spectrum containing clearly distinct lines at all integer multiples of $f_0$, which is called the _fundamental frequency_ of the musical note. From the previous plot, for intance, we can see that the piano note has a clear set of spectral line whose first peak is in the vicinity of 200Hz.\n",
        "\n",
        "To determine the exact value of the fundamental frequency (to within the resolution afforded by the DFT's length) let's search for the precise location of the peak."
      ]
    },
    {
      "cell_type": "markdown",
      "metadata": {
        "editable": true,
        "tags": [],
        "id": "L_Hj-bdzM6q6"
      },
      "source": [
        "### Exercise: find a local spectral peak\n",
        "\n",
        "Complete the following function so that it returns the frequency corresponding to the maximum value of the spectrum in the $[f_\\min, f_\\max]$ range:"
      ]
    },
    {
      "cell_type": "code",
      "execution_count": null,
      "metadata": {
        "editable": true,
        "tags": [],
        "id": "jg0DPB-MM6q6"
      },
      "outputs": [],
      "source": [
        "def search_peak(x, Fs, fmin, fmax):\n",
        "    pass"
      ]
    },
    {
      "cell_type": "markdown",
      "metadata": {
        "editable": true,
        "tags": [],
        "id": "c2YqwRgaM6q6"
      },
      "source": [
        "Let's test it:"
      ]
    },
    {
      "cell_type": "code",
      "execution_count": null,
      "metadata": {
        "editable": true,
        "tags": [],
        "id": "hd-t2oEuM6q7"
      },
      "outputs": [],
      "source": [
        "print('good job!' if np.abs(search_peak(piano, Fs, 200, 260) - 220.7) < 1 else 'sorry try again')"
      ]
    },
    {
      "cell_type": "markdown",
      "metadata": {
        "editable": true,
        "tags": [],
        "id": "1puPLhMJM6q7"
      },
      "source": [
        "### From frequency to pitch\n",
        "\n",
        "In Western music, the pitch of a note is indicated using the name of the note in the 12-tone equal-tempered scale, followed by a number denoting the octave that the note belongs to; for more details, see for instance [here](https://en.wikipedia.org/wiki/Equal_temperament). A full list of nominal pitch frequencies is availble [here](https://pages.mtu.edu/~suits/notefreqs.html).\n",
        "\n",
        "The following function converts a frequency value in hertz to pitch notation:"
      ]
    },
    {
      "cell_type": "code",
      "execution_count": null,
      "metadata": {
        "editable": true,
        "tags": [],
        "id": "wX6EpE11M6q7"
      },
      "outputs": [],
      "source": [
        "def freq2pitch(f):\n",
        "    C4, delta, octave = 261.63, 2 ** (1/24), 4\n",
        "    notes = ['C', 'C#', 'D', 'D#', 'E', 'F', 'F#', 'G', 'G#', 'A', 'A#', 'B']\n",
        "    while f < C4 / delta:\n",
        "        f = f * 2\n",
        "        octave -= 1\n",
        "    while f > C4 * 2 * delta:\n",
        "        f = f / 2\n",
        "        octave += 1\n",
        "    return notes[int(np.round(12 * np.log(f / C4) / np.log(2)))] + str(octave)"
      ]
    },
    {
      "cell_type": "markdown",
      "metadata": {
        "editable": true,
        "tags": [],
        "id": "dQ_RfB76M6q7"
      },
      "source": [
        "The piano note is in fact an A in the 3rd octave:"
      ]
    },
    {
      "cell_type": "code",
      "execution_count": null,
      "metadata": {
        "editable": true,
        "tags": [],
        "id": "GPDx7k_wM6q8"
      },
      "outputs": [],
      "source": [
        "freq2pitch(search_peak(piano, Fs, 150, 250))"
      ]
    },
    {
      "cell_type": "markdown",
      "metadata": {
        "editable": true,
        "tags": [],
        "id": "Sn0KxhqsM6q8"
      },
      "source": [
        "### Exercise: find the pitch\n",
        "\n",
        "Find the pitch of the note contained in the following audio file (it should be a C4):"
      ]
    },
    {
      "cell_type": "code",
      "execution_count": null,
      "metadata": {
        "editable": true,
        "tags": [],
        "id": "2qj8uR6yM6q8"
      },
      "outputs": [],
      "source": [
        "Fs_guitar, guitar = wavfile.read(\"data/guitar.wav\")\n",
        "IPython.display.Audio(guitar, rate=Fs_guitar)"
      ]
    }
  ],
  "metadata": {
    "kernelspec": {
      "display_name": "Python 3 (ipykernel)",
      "language": "python",
      "name": "python3"
    },
    "language_info": {
      "codemirror_mode": {
        "name": "ipython",
        "version": 3
      },
      "file_extension": ".py",
      "mimetype": "text/x-python",
      "name": "python",
      "nbconvert_exporter": "python",
      "pygments_lexer": "ipython3",
      "version": "3.12.3"
    },
    "colab": {
      "provenance": []
    },
    "widgets": {
      "application/vnd.jupyter.widget-state+json": {
        "fd3e543e056f43b88b500c91bd7a1b3f": {
          "model_module": "@jupyter-widgets/controls",
          "model_name": "VBoxModel",
          "model_module_version": "1.5.0",
          "state": {
            "_dom_classes": [
              "widget-interact"
            ],
            "_model_module": "@jupyter-widgets/controls",
            "_model_module_version": "1.5.0",
            "_model_name": "VBoxModel",
            "_view_count": null,
            "_view_module": "@jupyter-widgets/controls",
            "_view_module_version": "1.5.0",
            "_view_name": "VBoxView",
            "box_style": "",
            "children": [
              "IPY_MODEL_62c530eaf0cf4ab79fb4c1c7818ba9a9",
              "IPY_MODEL_b3eaf5687c9d454c83529703081570ef"
            ],
            "layout": "IPY_MODEL_d54e75a9ec0341e1afba655d3d5d8192"
          }
        },
        "62c530eaf0cf4ab79fb4c1c7818ba9a9": {
          "model_module": "@jupyter-widgets/controls",
          "model_name": "IntSliderModel",
          "model_module_version": "1.5.0",
          "state": {
            "_dom_classes": [],
            "_model_module": "@jupyter-widgets/controls",
            "_model_module_version": "1.5.0",
            "_model_name": "IntSliderModel",
            "_view_count": null,
            "_view_module": "@jupyter-widgets/controls",
            "_view_module_version": "1.5.0",
            "_view_name": "IntSliderView",
            "continuous_update": true,
            "description": "N",
            "description_tooltip": null,
            "disabled": false,
            "layout": "IPY_MODEL_6a50ee63488645ef927cfa721fdcf6f7",
            "max": 128,
            "min": 3,
            "orientation": "horizontal",
            "readout": true,
            "readout_format": "d",
            "step": 1,
            "style": "IPY_MODEL_8e1a7d9d1964414ab42e7c2054dd0a4b",
            "value": 5
          }
        },
        "b3eaf5687c9d454c83529703081570ef": {
          "model_module": "@jupyter-widgets/output",
          "model_name": "OutputModel",
          "model_module_version": "1.0.0",
          "state": {
            "_dom_classes": [],
            "_model_module": "@jupyter-widgets/output",
            "_model_module_version": "1.0.0",
            "_model_name": "OutputModel",
            "_view_count": null,
            "_view_module": "@jupyter-widgets/output",
            "_view_module_version": "1.0.0",
            "_view_name": "OutputView",
            "layout": "IPY_MODEL_f166292cc1174b0fa8cf74e76a60a157",
            "msg_id": "",
            "outputs": [
              {
                "output_type": "display_data",
                "data": {
                  "text/plain": "<Figure size 1200x300 with 1 Axes>",
                  "image/png": "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\n"
                },
                "metadata": {}
              }
            ]
          }
        },
        "d54e75a9ec0341e1afba655d3d5d8192": {
          "model_module": "@jupyter-widgets/base",
          "model_name": "LayoutModel",
          "model_module_version": "1.2.0",
          "state": {
            "_model_module": "@jupyter-widgets/base",
            "_model_module_version": "1.2.0",
            "_model_name": "LayoutModel",
            "_view_count": null,
            "_view_module": "@jupyter-widgets/base",
            "_view_module_version": "1.2.0",
            "_view_name": "LayoutView",
            "align_content": null,
            "align_items": null,
            "align_self": null,
            "border": null,
            "bottom": null,
            "display": null,
            "flex": null,
            "flex_flow": null,
            "grid_area": null,
            "grid_auto_columns": null,
            "grid_auto_flow": null,
            "grid_auto_rows": null,
            "grid_column": null,
            "grid_gap": null,
            "grid_row": null,
            "grid_template_areas": null,
            "grid_template_columns": null,
            "grid_template_rows": null,
            "height": null,
            "justify_content": null,
            "justify_items": null,
            "left": null,
            "margin": null,
            "max_height": null,
            "max_width": null,
            "min_height": null,
            "min_width": null,
            "object_fit": null,
            "object_position": null,
            "order": null,
            "overflow": null,
            "overflow_x": null,
            "overflow_y": null,
            "padding": null,
            "right": null,
            "top": null,
            "visibility": null,
            "width": null
          }
        },
        "6a50ee63488645ef927cfa721fdcf6f7": {
          "model_module": "@jupyter-widgets/base",
          "model_name": "LayoutModel",
          "model_module_version": "1.2.0",
          "state": {
            "_model_module": "@jupyter-widgets/base",
            "_model_module_version": "1.2.0",
            "_model_name": "LayoutModel",
            "_view_count": null,
            "_view_module": "@jupyter-widgets/base",
            "_view_module_version": "1.2.0",
            "_view_name": "LayoutView",
            "align_content": null,
            "align_items": null,
            "align_self": null,
            "border": null,
            "bottom": null,
            "display": null,
            "flex": null,
            "flex_flow": null,
            "grid_area": null,
            "grid_auto_columns": null,
            "grid_auto_flow": null,
            "grid_auto_rows": null,
            "grid_column": null,
            "grid_gap": null,
            "grid_row": null,
            "grid_template_areas": null,
            "grid_template_columns": null,
            "grid_template_rows": null,
            "height": null,
            "justify_content": null,
            "justify_items": null,
            "left": null,
            "margin": null,
            "max_height": null,
            "max_width": null,
            "min_height": null,
            "min_width": null,
            "object_fit": null,
            "object_position": null,
            "order": null,
            "overflow": null,
            "overflow_x": null,
            "overflow_y": null,
            "padding": null,
            "right": null,
            "top": null,
            "visibility": null,
            "width": null
          }
        },
        "8e1a7d9d1964414ab42e7c2054dd0a4b": {
          "model_module": "@jupyter-widgets/controls",
          "model_name": "SliderStyleModel",
          "model_module_version": "1.5.0",
          "state": {
            "_model_module": "@jupyter-widgets/controls",
            "_model_module_version": "1.5.0",
            "_model_name": "SliderStyleModel",
            "_view_count": null,
            "_view_module": "@jupyter-widgets/base",
            "_view_module_version": "1.2.0",
            "_view_name": "StyleView",
            "description_width": "",
            "handle_color": null
          }
        },
        "f166292cc1174b0fa8cf74e76a60a157": {
          "model_module": "@jupyter-widgets/base",
          "model_name": "LayoutModel",
          "model_module_version": "1.2.0",
          "state": {
            "_model_module": "@jupyter-widgets/base",
            "_model_module_version": "1.2.0",
            "_model_name": "LayoutModel",
            "_view_count": null,
            "_view_module": "@jupyter-widgets/base",
            "_view_module_version": "1.2.0",
            "_view_name": "LayoutView",
            "align_content": null,
            "align_items": null,
            "align_self": null,
            "border": null,
            "bottom": null,
            "display": null,
            "flex": null,
            "flex_flow": null,
            "grid_area": null,
            "grid_auto_columns": null,
            "grid_auto_flow": null,
            "grid_auto_rows": null,
            "grid_column": null,
            "grid_gap": null,
            "grid_row": null,
            "grid_template_areas": null,
            "grid_template_columns": null,
            "grid_template_rows": null,
            "height": null,
            "justify_content": null,
            "justify_items": null,
            "left": null,
            "margin": null,
            "max_height": null,
            "max_width": null,
            "min_height": null,
            "min_width": null,
            "object_fit": null,
            "object_position": null,
            "order": null,
            "overflow": null,
            "overflow_x": null,
            "overflow_y": null,
            "padding": null,
            "right": null,
            "top": null,
            "visibility": null,
            "width": null
          }
        },
        "21bec784c2934bbbbd9c109886234da4": {
          "model_module": "@jupyter-widgets/controls",
          "model_name": "VBoxModel",
          "model_module_version": "1.5.0",
          "state": {
            "_dom_classes": [
              "widget-interact"
            ],
            "_model_module": "@jupyter-widgets/controls",
            "_model_module_version": "1.5.0",
            "_model_name": "VBoxModel",
            "_view_count": null,
            "_view_module": "@jupyter-widgets/controls",
            "_view_module_version": "1.5.0",
            "_view_name": "VBoxView",
            "box_style": "",
            "children": [
              "IPY_MODEL_26c4012a34994a99b5449cd8bcafce41",
              "IPY_MODEL_b6ecb275346141afb7c1014cdec55e0f",
              "IPY_MODEL_fa231f2d254d427a8e857b49a5c6d003",
              "IPY_MODEL_226536f37cef49f2a34c8f0d8fa27576"
            ],
            "layout": "IPY_MODEL_af5aca5b5da84855bc66e9ce56fce5ef"
          }
        },
        "26c4012a34994a99b5449cd8bcafce41": {
          "model_module": "@jupyter-widgets/controls",
          "model_name": "IntSliderModel",
          "model_module_version": "1.5.0",
          "state": {
            "_dom_classes": [],
            "_model_module": "@jupyter-widgets/controls",
            "_model_module_version": "1.5.0",
            "_model_name": "IntSliderModel",
            "_view_count": null,
            "_view_module": "@jupyter-widgets/controls",
            "_view_module_version": "1.5.0",
            "_view_name": "IntSliderView",
            "continuous_update": true,
            "description": "N",
            "description_tooltip": null,
            "disabled": false,
            "layout": "IPY_MODEL_4544b8bf3e13469fbbe70ffa6c634e55",
            "max": 512,
            "min": 32,
            "orientation": "horizontal",
            "readout": true,
            "readout_format": "d",
            "step": 1,
            "style": "IPY_MODEL_daa1301e0e4246ccb322fffaecbe79c6",
            "value": 64
          }
        },
        "b6ecb275346141afb7c1014cdec55e0f": {
          "model_module": "@jupyter-widgets/controls",
          "model_name": "FloatSliderModel",
          "model_module_version": "1.5.0",
          "state": {
            "_dom_classes": [],
            "_model_module": "@jupyter-widgets/controls",
            "_model_module_version": "1.5.0",
            "_model_name": "FloatSliderModel",
            "_view_count": null,
            "_view_module": "@jupyter-widgets/controls",
            "_view_module_version": "1.5.0",
            "_view_name": "FloatSliderView",
            "continuous_update": true,
            "description": "$\\omega_0/\\pi$",
            "description_tooltip": null,
            "disabled": false,
            "layout": "IPY_MODEL_f2dc8f9aaf5a44feba0fcb1250fcdc92",
            "max": 1,
            "min": 0,
            "orientation": "horizontal",
            "readout": true,
            "readout_format": ".2f",
            "step": 0.01,
            "style": "IPY_MODEL_14b8628399304d0ca0846246f38c6463",
            "value": 0.25
          }
        },
        "fa231f2d254d427a8e857b49a5c6d003": {
          "model_module": "@jupyter-widgets/controls",
          "model_name": "FloatSliderModel",
          "model_module_version": "1.5.0",
          "state": {
            "_dom_classes": [],
            "_model_module": "@jupyter-widgets/controls",
            "_model_module_version": "1.5.0",
            "_model_name": "FloatSliderModel",
            "_view_count": null,
            "_view_module": "@jupyter-widgets/controls",
            "_view_module_version": "1.5.0",
            "_view_name": "FloatSliderView",
            "continuous_update": true,
            "description": "$\\delta/\\pi$",
            "description_tooltip": null,
            "disabled": false,
            "layout": "IPY_MODEL_43de3188929347adaff444cbf044edeb",
            "max": 0.5,
            "min": -0.5,
            "orientation": "horizontal",
            "readout": true,
            "readout_format": ".2f",
            "step": 0.01,
            "style": "IPY_MODEL_bd80c6a24583478ba9868f1c99501b02",
            "value": 0
          }
        },
        "226536f37cef49f2a34c8f0d8fa27576": {
          "model_module": "@jupyter-widgets/output",
          "model_name": "OutputModel",
          "model_module_version": "1.0.0",
          "state": {
            "_dom_classes": [],
            "_model_module": "@jupyter-widgets/output",
            "_model_module_version": "1.0.0",
            "_model_name": "OutputModel",
            "_view_count": null,
            "_view_module": "@jupyter-widgets/output",
            "_view_module_version": "1.0.0",
            "_view_name": "OutputView",
            "layout": "IPY_MODEL_133195704b8443bfa51b1ba938da23c4",
            "msg_id": "",
            "outputs": [
              {
                "output_type": "display_data",
                "data": {
                  "text/plain": "<Figure size 1200x300 with 1 Axes>",
                  "image/png": "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\n"
                },
                "metadata": {}
              }
            ]
          }
        },
        "af5aca5b5da84855bc66e9ce56fce5ef": {
          "model_module": "@jupyter-widgets/base",
          "model_name": "LayoutModel",
          "model_module_version": "1.2.0",
          "state": {
            "_model_module": "@jupyter-widgets/base",
            "_model_module_version": "1.2.0",
            "_model_name": "LayoutModel",
            "_view_count": null,
            "_view_module": "@jupyter-widgets/base",
            "_view_module_version": "1.2.0",
            "_view_name": "LayoutView",
            "align_content": null,
            "align_items": null,
            "align_self": null,
            "border": null,
            "bottom": null,
            "display": null,
            "flex": null,
            "flex_flow": null,
            "grid_area": null,
            "grid_auto_columns": null,
            "grid_auto_flow": null,
            "grid_auto_rows": null,
            "grid_column": null,
            "grid_gap": null,
            "grid_row": null,
            "grid_template_areas": null,
            "grid_template_columns": null,
            "grid_template_rows": null,
            "height": null,
            "justify_content": null,
            "justify_items": null,
            "left": null,
            "margin": null,
            "max_height": null,
            "max_width": null,
            "min_height": null,
            "min_width": null,
            "object_fit": null,
            "object_position": null,
            "order": null,
            "overflow": null,
            "overflow_x": null,
            "overflow_y": null,
            "padding": null,
            "right": null,
            "top": null,
            "visibility": null,
            "width": null
          }
        },
        "4544b8bf3e13469fbbe70ffa6c634e55": {
          "model_module": "@jupyter-widgets/base",
          "model_name": "LayoutModel",
          "model_module_version": "1.2.0",
          "state": {
            "_model_module": "@jupyter-widgets/base",
            "_model_module_version": "1.2.0",
            "_model_name": "LayoutModel",
            "_view_count": null,
            "_view_module": "@jupyter-widgets/base",
            "_view_module_version": "1.2.0",
            "_view_name": "LayoutView",
            "align_content": null,
            "align_items": null,
            "align_self": null,
            "border": null,
            "bottom": null,
            "display": null,
            "flex": null,
            "flex_flow": null,
            "grid_area": null,
            "grid_auto_columns": null,
            "grid_auto_flow": null,
            "grid_auto_rows": null,
            "grid_column": null,
            "grid_gap": null,
            "grid_row": null,
            "grid_template_areas": null,
            "grid_template_columns": null,
            "grid_template_rows": null,
            "height": null,
            "justify_content": null,
            "justify_items": null,
            "left": null,
            "margin": null,
            "max_height": null,
            "max_width": null,
            "min_height": null,
            "min_width": null,
            "object_fit": null,
            "object_position": null,
            "order": null,
            "overflow": null,
            "overflow_x": null,
            "overflow_y": null,
            "padding": null,
            "right": null,
            "top": null,
            "visibility": null,
            "width": null
          }
        },
        "daa1301e0e4246ccb322fffaecbe79c6": {
          "model_module": "@jupyter-widgets/controls",
          "model_name": "SliderStyleModel",
          "model_module_version": "1.5.0",
          "state": {
            "_model_module": "@jupyter-widgets/controls",
            "_model_module_version": "1.5.0",
            "_model_name": "SliderStyleModel",
            "_view_count": null,
            "_view_module": "@jupyter-widgets/base",
            "_view_module_version": "1.2.0",
            "_view_name": "StyleView",
            "description_width": "",
            "handle_color": null
          }
        },
        "f2dc8f9aaf5a44feba0fcb1250fcdc92": {
          "model_module": "@jupyter-widgets/base",
          "model_name": "LayoutModel",
          "model_module_version": "1.2.0",
          "state": {
            "_model_module": "@jupyter-widgets/base",
            "_model_module_version": "1.2.0",
            "_model_name": "LayoutModel",
            "_view_count": null,
            "_view_module": "@jupyter-widgets/base",
            "_view_module_version": "1.2.0",
            "_view_name": "LayoutView",
            "align_content": null,
            "align_items": null,
            "align_self": null,
            "border": null,
            "bottom": null,
            "display": null,
            "flex": null,
            "flex_flow": null,
            "grid_area": null,
            "grid_auto_columns": null,
            "grid_auto_flow": null,
            "grid_auto_rows": null,
            "grid_column": null,
            "grid_gap": null,
            "grid_row": null,
            "grid_template_areas": null,
            "grid_template_columns": null,
            "grid_template_rows": null,
            "height": null,
            "justify_content": null,
            "justify_items": null,
            "left": null,
            "margin": null,
            "max_height": null,
            "max_width": null,
            "min_height": null,
            "min_width": null,
            "object_fit": null,
            "object_position": null,
            "order": null,
            "overflow": null,
            "overflow_x": null,
            "overflow_y": null,
            "padding": null,
            "right": null,
            "top": null,
            "visibility": null,
            "width": null
          }
        },
        "14b8628399304d0ca0846246f38c6463": {
          "model_module": "@jupyter-widgets/controls",
          "model_name": "SliderStyleModel",
          "model_module_version": "1.5.0",
          "state": {
            "_model_module": "@jupyter-widgets/controls",
            "_model_module_version": "1.5.0",
            "_model_name": "SliderStyleModel",
            "_view_count": null,
            "_view_module": "@jupyter-widgets/base",
            "_view_module_version": "1.2.0",
            "_view_name": "StyleView",
            "description_width": "",
            "handle_color": null
          }
        },
        "43de3188929347adaff444cbf044edeb": {
          "model_module": "@jupyter-widgets/base",
          "model_name": "LayoutModel",
          "model_module_version": "1.2.0",
          "state": {
            "_model_module": "@jupyter-widgets/base",
            "_model_module_version": "1.2.0",
            "_model_name": "LayoutModel",
            "_view_count": null,
            "_view_module": "@jupyter-widgets/base",
            "_view_module_version": "1.2.0",
            "_view_name": "LayoutView",
            "align_content": null,
            "align_items": null,
            "align_self": null,
            "border": null,
            "bottom": null,
            "display": null,
            "flex": null,
            "flex_flow": null,
            "grid_area": null,
            "grid_auto_columns": null,
            "grid_auto_flow": null,
            "grid_auto_rows": null,
            "grid_column": null,
            "grid_gap": null,
            "grid_row": null,
            "grid_template_areas": null,
            "grid_template_columns": null,
            "grid_template_rows": null,
            "height": null,
            "justify_content": null,
            "justify_items": null,
            "left": null,
            "margin": null,
            "max_height": null,
            "max_width": null,
            "min_height": null,
            "min_width": null,
            "object_fit": null,
            "object_position": null,
            "order": null,
            "overflow": null,
            "overflow_x": null,
            "overflow_y": null,
            "padding": null,
            "right": null,
            "top": null,
            "visibility": null,
            "width": null
          }
        },
        "bd80c6a24583478ba9868f1c99501b02": {
          "model_module": "@jupyter-widgets/controls",
          "model_name": "SliderStyleModel",
          "model_module_version": "1.5.0",
          "state": {
            "_model_module": "@jupyter-widgets/controls",
            "_model_module_version": "1.5.0",
            "_model_name": "SliderStyleModel",
            "_view_count": null,
            "_view_module": "@jupyter-widgets/base",
            "_view_module_version": "1.2.0",
            "_view_name": "StyleView",
            "description_width": "",
            "handle_color": null
          }
        },
        "133195704b8443bfa51b1ba938da23c4": {
          "model_module": "@jupyter-widgets/base",
          "model_name": "LayoutModel",
          "model_module_version": "1.2.0",
          "state": {
            "_model_module": "@jupyter-widgets/base",
            "_model_module_version": "1.2.0",
            "_model_name": "LayoutModel",
            "_view_count": null,
            "_view_module": "@jupyter-widgets/base",
            "_view_module_version": "1.2.0",
            "_view_name": "LayoutView",
            "align_content": null,
            "align_items": null,
            "align_self": null,
            "border": null,
            "bottom": null,
            "display": null,
            "flex": null,
            "flex_flow": null,
            "grid_area": null,
            "grid_auto_columns": null,
            "grid_auto_flow": null,
            "grid_auto_rows": null,
            "grid_column": null,
            "grid_gap": null,
            "grid_row": null,
            "grid_template_areas": null,
            "grid_template_columns": null,
            "grid_template_rows": null,
            "height": null,
            "justify_content": null,
            "justify_items": null,
            "left": null,
            "margin": null,
            "max_height": null,
            "max_width": null,
            "min_height": null,
            "min_width": null,
            "object_fit": null,
            "object_position": null,
            "order": null,
            "overflow": null,
            "overflow_x": null,
            "overflow_y": null,
            "padding": null,
            "right": null,
            "top": null,
            "visibility": null,
            "width": null
          }
        }
      }
    }
  },
  "nbformat": 4,
  "nbformat_minor": 0
}